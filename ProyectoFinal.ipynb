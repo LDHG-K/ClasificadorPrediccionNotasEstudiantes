{
  "nbformat": 4,
  "nbformat_minor": 0,
  "metadata": {
    "language_info": {
      "codemirror_mode": {
        "name": "ipython",
        "version": 3
      },
      "file_extension": ".py",
      "mimetype": "text/x-python",
      "name": "python",
      "nbconvert_exporter": "python",
      "pygments_lexer": "ipython3",
      "version": "3.8.5-final"
    },
    "orig_nbformat": 2,
    "kernelspec": {
      "name": "python3",
      "display_name": "Python 3.8.5 64-bit ('conda_dev': conda)",
      "metadata": {
        "interpreter": {
          "hash": "6aa137c1fd900eccd3ded744270a571a3de9a992e2dd5765109509f230875e41"
        }
      }
    },
    "colab": {
      "name": "ProyectoFinal.ipynb",
      "provenance": [],
      "include_colab_link": true
    }
  },
  "cells": [
    {
      "cell_type": "markdown",
      "metadata": {
        "id": "view-in-github",
        "colab_type": "text"
      },
      "source": [
        "<a href=\"https://colab.research.google.com/github/ing-LuisHerrera/ClasificadorPrediccionNotasEstudiantes/blob/main/ProyectoFinal.ipynb\" target=\"_parent\"><img src=\"https://colab.research.google.com/assets/colab-badge.svg\" alt=\"Open In Colab\"/></a>"
      ]
    },
    {
      "cell_type": "code",
      "metadata": {
        "id": "jAGkwaD0V7Ki"
      },
      "source": [
        "#cargando e importando las librerias...\n",
        "import array as arr\n",
        "import sqlite3 as sql #importanto SQLITE3\n",
        "import pandas as pd\n",
        "import numpy as np\n",
        "from sklearn import tree\n",
        "import matplotlib.pyplot as plt\n",
        "import pandas as pd\n",
        "from scipy import stats # importando scipy.stats\n",
        "import seaborn as sns"
      ],
      "execution_count": null,
      "outputs": []
    },
    {
      "cell_type": "code",
      "metadata": {
        "id": "ZgPCli-iV7K0"
      },
      "source": [
        "#crea coneccion a la base de datos SQLITE\n",
        "database = \"data/database.db\" # seleccionar la Base de datos \"database.db\"\n",
        "connection = sql.connect(database)\n",
        "\n",
        "#Consultas SQL \n",
        "queryprincipal = 'SELECT * FROM tbInformacion' # query principal\n",
        "querysecundario = 'SELECT * FROM tbPrograma' # query secundario\n",
        "\n",
        "#Consulta SQL uniendo dos tablas\n",
        "querytablas = 'SELECT rowId, Sub_Codigo, tbPrograma.Programa, Anio, Semestre, asignatura, nombre_asignatura, estado_asignatura, nta1,nta2,nta3,definitiva, nta1Dis, nta2Dis, nta3Dis, definitivaDis, cant_veces_vio_la_materia, nt1EscalaNum, nt2EscalaNum, nt3EscalaNum, defEscalaNum FROM tbInformacion, tbPrograma WHERE tbInformacion.codProgramaAcademico = tbPrograma.cod'\n",
        "\n",
        "# Consulta SQL rowId donde obtenemos el total de estudiantes en la base de datos\n",
        "queryRowId = 'SELECT rowId, count(rowId) FROM tbInformacion  GROUP BY rowId'\n",
        "\n",
        "#consultas por años\n",
        "queryporAnio1 = 'SELECT * FROM tbInformacion WHERE Anio = 2009' #query año 2009\n",
        "queryporAnio2 = 'SELECT * FROM tbInformacion WHERE Anio = 2010' #query año 2009\n",
        "queryporAnio3 = 'SELECT * FROM tbInformacion WHERE Anio = 2011' #query año 2009\n",
        "queryporAnio4 = 'SELECT * FROM tbInformacion WHERE Anio = 2012' #query año 2009\n",
        "queryporAnio5 = 'SELECT * FROM tbInformacion WHERE Anio = 2013' #query año 2009\n",
        "queryporAnio6 = 'SELECT * FROM tbInformacion WHERE Anio = 2014' #query año 2009\n",
        "queryporAnio7 = 'SELECT * FROM tbInformacion WHERE Anio = 2015' #query año 2009\n",
        "queryporAnio8 = 'SELECT * FROM tbInformacion WHERE Anio = 2016' #query año 2009\n",
        "queryporAnio9 = 'SELECT * FROM tbInformacion WHERE Anio = 2017' #query año 2009\n",
        "queryporAnio10 = 'SELECT * FROM tbInformacion WHERE Anio = 2018' #query año 2009\n",
        "\n",
        "\n",
        "#consultas por Anio - semestre\n",
        "queryanio1SemestreA = 'SELECT * FROM tbInformacion WHERE Anio = 2009 AND Semestre = \"A\"' #query año 2009 A\n",
        "queryanio1SemestreB = 'SELECT * FROM tbInformacion WHERE Anio = 2009 AND Semestre = \"B\"' #query año 2009 B\n",
        "queryanio2SemestreA = 'SELECT * FROM tbInformacion WHERE Anio = 2010 AND Semestre = \"A\"' #query año 2010 A\n",
        "queryanio2SemestreB = 'SELECT * FROM tbInformacion WHERE Anio = 2010 AND Semestre = \"B\"' #query año 2010 B\n",
        "queryanio3SemestreA = 'SELECT * FROM tbInformacion WHERE Anio = 2011 AND Semestre = \"A\"' #query año 2011 A\n",
        "queryanio3SemestreB = 'SELECT * FROM tbInformacion WHERE Anio = 2011 AND Semestre = \"B\"' #query año 2011 B\n",
        "queryanio4SemestreA = 'SELECT * FROM tbInformacion WHERE Anio = 2012 AND Semestre = \"A\"' #query año 2012 A\n",
        "queryanio4SemestreB = 'SELECT * FROM tbInformacion WHERE Anio = 2012 AND Semestre = \"B\"' #query año 2012 B\n",
        "queryanio5SemestreA = 'SELECT * FROM tbInformacion WHERE Anio = 2013 AND Semestre = \"A\"' #query año 2013 A\n",
        "queryanio5SemestreB = 'SELECT * FROM tbInformacion WHERE Anio = 2013 AND Semestre = \"B\"' #query año 2013 B\n",
        "queryanio6SemestreA = 'SELECT * FROM tbInformacion WHERE Anio = 20014 AND Semestre = \"A\"' #query año 2014 A\n",
        "queryanio6SemestreB = 'SELECT * FROM tbInformacion WHERE Anio = 20014 AND Semestre = \"B\"' #query año 2014 B\n",
        "queryanio7SemestreA = 'SELECT * FROM tbInformacion WHERE Anio = 2015 AND Semestre = \"A\"' #query año 2015 A\n",
        "queryanio7SemestreB = 'SELECT * FROM tbInformacion WHERE Anio = 2015 AND Semestre = \"B\"' #query año 2015 B\n",
        "queryanio8SemestreA = 'SELECT * FROM tbInformacion WHERE Anio = 2016 AND Semestre = \"A\"' #query año 2016 A\n",
        "queryanio8SemestreB = 'SELECT * FROM tbInformacion WHERE Anio = 2016 AND Semestre = \"B\"' #query año 2016 B\n",
        "queryanio9SemestreA = 'SELECT * FROM tbInformacion WHERE Anio = 2017 AND Semestre = \"A\"' #query año 2017 A\n",
        "queryanio9SemestreB = 'SELECT * FROM tbInformacion WHERE Anio = 2017 AND Semestre = \"B\"' #query año 2017 B\n",
        "queryanio10SemestreA = 'SELECT * FROM tbInformacion WHERE Anio = 2018 AND Semestre = \"A\"' #query año 2018 A\n",
        "queryanio10SemestreB = 'SELECT * FROM tbInformacion WHERE Anio = 2018 AND Semestre = \"B\"' #query año 2018 B"
      ],
      "execution_count": null,
      "outputs": []
    },
    {
      "cell_type": "code",
      "metadata": {
        "id": "pPdHgFZpV7K2",
        "outputId": "fb80822c-3f4c-4d88-9e47-674260ced91c"
      },
      "source": [
        "#####################################################################\n",
        "#####################################################################\n",
        "####################### Total de estudiantes ########################\n",
        "\n",
        "cantEst = pd.read_sql_query(queryRowId,connection)\n",
        "cantTuplas = pd.read_sql_query(querytablas,connection)\n",
        "totalTuplas = len(cantTuplas)\n",
        "totalEst = len(cantEst)\n",
        "\n",
        "print('#####################################################################','\\n')\n",
        "print('Numero de estudiantes en la Base de datos: ',totalEst)\n",
        "print('La cantidad de registros de los ', totalEst, 'Estudiantes es: ',totalTuplas, '\\n')\n",
        "print('#####################################################################')"
      ],
      "execution_count": null,
      "outputs": [
        {
          "output_type": "stream",
          "text": [
            "##################################################################### \n",
            "\n",
            "Numero de estudiantes en la Base de datos:  1216\n",
            "La cantidad de registros de los  1216 Estudiantes es:  26200 \n",
            "\n",
            "#####################################################################\n"
          ],
          "name": "stdout"
        }
      ]
    },
    {
      "cell_type": "code",
      "metadata": {
        "id": "0J-GZxb7V7K9",
        "outputId": "255f6cfa-6c5b-4a31-8c08-33e2750a54d7"
      },
      "source": [
        "\n",
        "#####################################################################################################################\n",
        "###################################### Primer Punto del Trabajo  -METODO NORMAL- ####################################\n",
        "\n",
        "######### Tasa de mortalidad año, semestre, asignaturas\n",
        "\n",
        "year = 2010\n",
        "codigoAsig = 4153\n",
        "######################### Consulta SQL\n",
        "queryMortalidadGeneric = 'SELECT * FROM tbInformacion WHERE Anio = '+str(year) + ' AND asignatura = '+ str(codigoAsig)\n",
        "\n",
        "queryperdidos = 'SELECT * FROM tbInformacion WHERE Anio = '+str(year) + ' AND asignatura = '+ str(codigoAsig) + ' AND definitivaDis = \"Insuficiente\" OR \"Deficiente\"'\n",
        "\n",
        "\n",
        "\n",
        "############################# Algoritmo para los datos\n",
        "\n",
        "curso = pd.read_sql_query(queryMortalidadGeneric, connection)\n",
        "cursaron = len(curso)\n",
        "\n",
        "perdieron = pd.read_sql_query(queryperdidos,connection)\n",
        "cantperdidos = len(perdieron)\n",
        "\n",
        "\n",
        "print('#####################################################################','\\n')\n",
        "if len(curso) == 0 :\n",
        "    print(\"No hay Registros para este año con esta asignatura\")\n",
        "elif len(curso) == 1 :\n",
        "    print(\"No se puede hacer el estudio de la mortalidad porque solo tenemos un registro :(\")\n",
        "\n",
        "else:\n",
        "    print( \"Cantidad de estudiantes que perdieron en el \", year ,\" de la asignatura \", codigoAsig , \"Fueron: \", cantperdidos,'\\n')\n",
        "    \n",
        "    mortalidad = (cantperdidos/cursaron)*100\n",
        "\n",
        "    print(\"En el año \",year,\"en la asignatura \",codigoAsig,\"la mortalidad fue de \", \"{:.2f}\".format(mortalidad), \"%\")"
      ],
      "execution_count": null,
      "outputs": [
        {
          "output_type": "stream",
          "text": [
            "##################################################################### \n",
            "\n",
            "Cantidad de estudiantes que perdieron en el  2010  de la asignatura  4153 Fueron:  2 \n",
            "\n",
            "En el año  2010 en la asignatura  4153 la mortalidad fue de  66.67 %\n"
          ],
          "name": "stdout"
        }
      ]
    },
    {
      "cell_type": "code",
      "metadata": {
        "id": "HtqxW9gsV7K-",
        "outputId": "f53d7c03-a953-4984-d74a-672de56fba6b"
      },
      "source": [
        "#####################################################################################################################\n",
        "###################################### -METODO PARAMETRIZADO- #######################################################\n",
        "\n",
        "############## Tasa de mortalidad año, semestre, asignaturas\n",
        "\n",
        "######################### Consulta SQL\n",
        "queryperdidospro = 'SELECT * FROM tbInformacion WHERE  asignatura = '+ str(codigoAsig) + ' AND definitivaDis = \"Insuficiente\" OR \"Deficiente\"'\n",
        "\n",
        "\n",
        "############################# Algoritmo para los datos\n",
        "querylimite = pd.read_sql_query(queryperdidospro, connection)\n",
        "#obteniedo el año inicial y el año final\n",
        "limiteinicial = np.min(querylimite.Anio)\n",
        "limiteFinal = np.max(querylimite.Anio)\n",
        "#obteniendo la cantidad de años\n",
        "iteraciones = limiteFinal - limiteinicial\n",
        "\n",
        "anioIterable = limiteinicial\n",
        "arrgMortalidad = []\n",
        "arrgAnio = []\n",
        "\n",
        "print('#####################################################################','\\n')\n",
        "for c in range(0,iteraciones):\n",
        "    \n",
        "    queryMortalidadPro = 'SELECT * FROM tbInformacion WHERE Anio = '+str(anioIterable) + ' AND asignatura = '+ str(codigoAsig)\n",
        "    \n",
        "    queryperdidospro = 'SELECT * FROM tbInformacion WHERE Anio = '+str(anioIterable) + ' AND asignatura = '+ str(codigoAsig) + ' AND definitivaDis = \"Insuficiente\" OR \"Deficiente\"'\n",
        "    \n",
        "\n",
        "    datamortalidadpro = pd.read_sql_query(queryMortalidadPro, connection)\n",
        "    dataperdidospro = pd.read_sql_query(queryperdidospro,connection)\n",
        "    cantP = len(dataperdidospro)\n",
        "    cursadospro = len(datamortalidadpro)\n",
        "    perdidospro = len(queryperdidospro)\n",
        "    if  cursadospro == 0 :\n",
        "        print(\"No hay Registros para este año con esta asignatura\",'\\n')\n",
        "    elif cursadospro == 1 :\n",
        "        print(\"No se puede hacer el estudio de la mortalidad en el año\", anioIterable, \"porque solo tenemos un registro :(\",'\\n')\n",
        "        print('#####################################################################','\\n')\n",
        "    else:\n",
        "        \n",
        "        print( \"Cantidad de estudiantes que perdieron en el \", anioIterable ,\" de la asignatura \", codigoAsig , \"Fueron: \", cantP)\n",
        "        \n",
        "        mortalidadpro = (cantP/cursadospro)*100\n",
        "\n",
        "        print(\"En el año \",anioIterable,\"en la asignatura \",codigoAsig,\"la mortalidad fue de \", \"{:.2f}\".format(mortalidadpro), \"%\", '\\n')  \n",
        "        print('#####################################################################','\\n')\n",
        "        arrgAnio.append(anioIterable)\n",
        "        arrgMortalidad.append(mortalidadpro)\n",
        "\n",
        "              \n",
        "    anioIterable+=1\n",
        "\n",
        "\n",
        "\n",
        "grafica = pd.DataFrame({'anio': arrgAnio, 'tasa_letalidad': arrgMortalidad})\n"
      ],
      "execution_count": null,
      "outputs": [
        {
          "output_type": "stream",
          "text": [
            "##################################################################### \n",
            "\n",
            "Cantidad de estudiantes que perdieron en el  2010  de la asignatura  4153 Fueron:  2\n",
            "En el año  2010 en la asignatura  4153 la mortalidad fue de  66.67 % \n",
            "\n",
            "##################################################################### \n",
            "\n",
            "No se puede hacer el estudio de la mortalidad en el año 2011 porque solo tenemos un registro :( \n",
            "\n",
            "##################################################################### \n",
            "\n",
            "Cantidad de estudiantes que perdieron en el  2012  de la asignatura  4153 Fueron:  1\n",
            "En el año  2012 en la asignatura  4153 la mortalidad fue de  50.00 % \n",
            "\n",
            "##################################################################### \n",
            "\n",
            "Cantidad de estudiantes que perdieron en el  2013  de la asignatura  4153 Fueron:  4\n",
            "En el año  2013 en la asignatura  4153 la mortalidad fue de  44.44 % \n",
            "\n",
            "##################################################################### \n",
            "\n",
            "Cantidad de estudiantes que perdieron en el  2014  de la asignatura  4153 Fueron:  12\n",
            "En el año  2014 en la asignatura  4153 la mortalidad fue de  54.55 % \n",
            "\n",
            "##################################################################### \n",
            "\n"
          ],
          "name": "stdout"
        }
      ]
    },
    {
      "cell_type": "code",
      "metadata": {
        "id": "pcyHgcYLV7K_",
        "outputId": "b4de1f58-9416-489a-d539-cd98f21a4724"
      },
      "source": [
        "#####################################################################################################################\n",
        "############# Grafica de mortalidad por año de la asignatura dada por el usuario ####################################\n",
        "\n",
        "N=len(grafica)\n",
        "X=np.zeros([N,1])\n",
        "Y=np.zeros([N,1])\n",
        "X[:,0]=grafica.anio\n",
        "Y[:,0]=grafica.tasa_letalidad\n",
        "\n",
        "plt.figure()\n",
        "plt.plot(X,Y)\n",
        "plt.grid()\n",
        "plt.title('Mortalidad por año de una asignatura')\n",
        "plt.xlabel('Año Academico (t)')\n",
        "plt.ylabel('Tasa Mortalidad (%)')\n",
        "plt.show()"
      ],
      "execution_count": null,
      "outputs": [
        {
          "output_type": "display_data",
          "data": {
            "text/plain": [
              "<Figure size 432x288 with 1 Axes>"
            ],
            "image/svg+xml": "<?xml version=\"1.0\" encoding=\"utf-8\" standalone=\"no\"?>\n<!DOCTYPE svg PUBLIC \"-//W3C//DTD SVG 1.1//EN\"\n  \"http://www.w3.org/Graphics/SVG/1.1/DTD/svg11.dtd\">\n<!-- Created with matplotlib (https://matplotlib.org/) -->\n<svg height=\"277.51875pt\" version=\"1.1\" viewBox=\"0 0 384.880256 277.51875\" width=\"384.880256pt\" xmlns=\"http://www.w3.org/2000/svg\" xmlns:xlink=\"http://www.w3.org/1999/xlink\">\n <metadata>\n  <rdf:RDF xmlns:cc=\"http://creativecommons.org/ns#\" xmlns:dc=\"http://purl.org/dc/elements/1.1/\" xmlns:rdf=\"http://www.w3.org/1999/02/22-rdf-syntax-ns#\">\n   <cc:Work>\n    <dc:type rdf:resource=\"http://purl.org/dc/dcmitype/StillImage\"/>\n    <dc:date>2020-11-24T17:20:13.357662</dc:date>\n    <dc:format>image/svg+xml</dc:format>\n    <dc:creator>\n     <cc:Agent>\n      <dc:title>Matplotlib v3.3.2, https://matplotlib.org/</dc:title>\n     </cc:Agent>\n    </dc:creator>\n   </cc:Work>\n  </rdf:RDF>\n </metadata>\n <defs>\n  <style type=\"text/css\">*{stroke-linecap:butt;stroke-linejoin:round;}</style>\n </defs>\n <g id=\"figure_1\">\n  <g id=\"patch_1\">\n   <path d=\"M 0 277.51875 \nL 384.880256 277.51875 \nL 384.880256 0 \nL 0 0 \nz\n\" style=\"fill:none;\"/>\n  </g>\n  <g id=\"axes_1\">\n   <g id=\"patch_2\">\n    <path d=\"M 40.603125 239.9625 \nL 375.403125 239.9625 \nL 375.403125 22.5225 \nL 40.603125 22.5225 \nz\n\" style=\"fill:#ffffff;\"/>\n   </g>\n   <g id=\"matplotlib.axis_1\">\n    <g id=\"xtick_1\">\n     <g id=\"line2d_1\">\n      <path clip-path=\"url(#pd14fcaa99c)\" d=\"M 55.821307 239.9625 \nL 55.821307 22.5225 \n\" style=\"fill:none;stroke:#b0b0b0;stroke-linecap:square;stroke-width:0.8;\"/>\n     </g>\n     <g id=\"line2d_2\">\n      <defs>\n       <path d=\"M 0 0 \nL 0 3.5 \n\" id=\"me64397a18c\" style=\"stroke:#000000;stroke-width:0.8;\"/>\n      </defs>\n      <g>\n       <use style=\"stroke:#000000;stroke-width:0.8;\" x=\"55.821307\" xlink:href=\"#me64397a18c\" y=\"239.9625\"/>\n      </g>\n     </g>\n     <g id=\"text_1\">\n      <!-- 2010.0 -->\n      <g transform=\"translate(38.325994 254.560937)scale(0.1 -0.1)\">\n       <defs>\n        <path d=\"M 19.1875 8.296875 \nL 53.609375 8.296875 \nL 53.609375 0 \nL 7.328125 0 \nL 7.328125 8.296875 \nQ 12.9375 14.109375 22.625 23.890625 \nQ 32.328125 33.6875 34.8125 36.53125 \nQ 39.546875 41.84375 41.421875 45.53125 \nQ 43.3125 49.21875 43.3125 52.78125 \nQ 43.3125 58.59375 39.234375 62.25 \nQ 35.15625 65.921875 28.609375 65.921875 \nQ 23.96875 65.921875 18.8125 64.3125 \nQ 13.671875 62.703125 7.8125 59.421875 \nL 7.8125 69.390625 \nQ 13.765625 71.78125 18.9375 73 \nQ 24.125 74.21875 28.421875 74.21875 \nQ 39.75 74.21875 46.484375 68.546875 \nQ 53.21875 62.890625 53.21875 53.421875 \nQ 53.21875 48.921875 51.53125 44.890625 \nQ 49.859375 40.875 45.40625 35.40625 \nQ 44.1875 33.984375 37.640625 27.21875 \nQ 31.109375 20.453125 19.1875 8.296875 \nz\n\" id=\"DejaVuSans-50\"/>\n        <path d=\"M 31.78125 66.40625 \nQ 24.171875 66.40625 20.328125 58.90625 \nQ 16.5 51.421875 16.5 36.375 \nQ 16.5 21.390625 20.328125 13.890625 \nQ 24.171875 6.390625 31.78125 6.390625 \nQ 39.453125 6.390625 43.28125 13.890625 \nQ 47.125 21.390625 47.125 36.375 \nQ 47.125 51.421875 43.28125 58.90625 \nQ 39.453125 66.40625 31.78125 66.40625 \nz\nM 31.78125 74.21875 \nQ 44.046875 74.21875 50.515625 64.515625 \nQ 56.984375 54.828125 56.984375 36.375 \nQ 56.984375 17.96875 50.515625 8.265625 \nQ 44.046875 -1.421875 31.78125 -1.421875 \nQ 19.53125 -1.421875 13.0625 8.265625 \nQ 6.59375 17.96875 6.59375 36.375 \nQ 6.59375 54.828125 13.0625 64.515625 \nQ 19.53125 74.21875 31.78125 74.21875 \nz\n\" id=\"DejaVuSans-48\"/>\n        <path d=\"M 12.40625 8.296875 \nL 28.515625 8.296875 \nL 28.515625 63.921875 \nL 10.984375 60.40625 \nL 10.984375 69.390625 \nL 28.421875 72.90625 \nL 38.28125 72.90625 \nL 38.28125 8.296875 \nL 54.390625 8.296875 \nL 54.390625 0 \nL 12.40625 0 \nz\n\" id=\"DejaVuSans-49\"/>\n        <path d=\"M 10.6875 12.40625 \nL 21 12.40625 \nL 21 0 \nL 10.6875 0 \nz\n\" id=\"DejaVuSans-46\"/>\n       </defs>\n       <use xlink:href=\"#DejaVuSans-50\"/>\n       <use x=\"63.623047\" xlink:href=\"#DejaVuSans-48\"/>\n       <use x=\"127.246094\" xlink:href=\"#DejaVuSans-49\"/>\n       <use x=\"190.869141\" xlink:href=\"#DejaVuSans-48\"/>\n       <use x=\"254.492188\" xlink:href=\"#DejaVuSans-46\"/>\n       <use x=\"286.279297\" xlink:href=\"#DejaVuSans-48\"/>\n      </g>\n     </g>\n    </g>\n    <g id=\"xtick_2\">\n     <g id=\"line2d_3\">\n      <path clip-path=\"url(#pd14fcaa99c)\" d=\"M 93.866761 239.9625 \nL 93.866761 22.5225 \n\" style=\"fill:none;stroke:#b0b0b0;stroke-linecap:square;stroke-width:0.8;\"/>\n     </g>\n     <g id=\"line2d_4\">\n      <g>\n       <use style=\"stroke:#000000;stroke-width:0.8;\" x=\"93.866761\" xlink:href=\"#me64397a18c\" y=\"239.9625\"/>\n      </g>\n     </g>\n     <g id=\"text_2\">\n      <!-- 2010.5 -->\n      <g transform=\"translate(76.371449 254.560937)scale(0.1 -0.1)\">\n       <defs>\n        <path d=\"M 10.796875 72.90625 \nL 49.515625 72.90625 \nL 49.515625 64.59375 \nL 19.828125 64.59375 \nL 19.828125 46.734375 \nQ 21.96875 47.46875 24.109375 47.828125 \nQ 26.265625 48.1875 28.421875 48.1875 \nQ 40.625 48.1875 47.75 41.5 \nQ 54.890625 34.8125 54.890625 23.390625 \nQ 54.890625 11.625 47.5625 5.09375 \nQ 40.234375 -1.421875 26.90625 -1.421875 \nQ 22.3125 -1.421875 17.546875 -0.640625 \nQ 12.796875 0.140625 7.71875 1.703125 \nL 7.71875 11.625 \nQ 12.109375 9.234375 16.796875 8.0625 \nQ 21.484375 6.890625 26.703125 6.890625 \nQ 35.15625 6.890625 40.078125 11.328125 \nQ 45.015625 15.765625 45.015625 23.390625 \nQ 45.015625 31 40.078125 35.4375 \nQ 35.15625 39.890625 26.703125 39.890625 \nQ 22.75 39.890625 18.8125 39.015625 \nQ 14.890625 38.140625 10.796875 36.28125 \nz\n\" id=\"DejaVuSans-53\"/>\n       </defs>\n       <use xlink:href=\"#DejaVuSans-50\"/>\n       <use x=\"63.623047\" xlink:href=\"#DejaVuSans-48\"/>\n       <use x=\"127.246094\" xlink:href=\"#DejaVuSans-49\"/>\n       <use x=\"190.869141\" xlink:href=\"#DejaVuSans-48\"/>\n       <use x=\"254.492188\" xlink:href=\"#DejaVuSans-46\"/>\n       <use x=\"286.279297\" xlink:href=\"#DejaVuSans-53\"/>\n      </g>\n     </g>\n    </g>\n    <g id=\"xtick_3\">\n     <g id=\"line2d_5\">\n      <path clip-path=\"url(#pd14fcaa99c)\" d=\"M 131.912216 239.9625 \nL 131.912216 22.5225 \n\" style=\"fill:none;stroke:#b0b0b0;stroke-linecap:square;stroke-width:0.8;\"/>\n     </g>\n     <g id=\"line2d_6\">\n      <g>\n       <use style=\"stroke:#000000;stroke-width:0.8;\" x=\"131.912216\" xlink:href=\"#me64397a18c\" y=\"239.9625\"/>\n      </g>\n     </g>\n     <g id=\"text_3\">\n      <!-- 2011.0 -->\n      <g transform=\"translate(114.416903 254.560937)scale(0.1 -0.1)\">\n       <use xlink:href=\"#DejaVuSans-50\"/>\n       <use x=\"63.623047\" xlink:href=\"#DejaVuSans-48\"/>\n       <use x=\"127.246094\" xlink:href=\"#DejaVuSans-49\"/>\n       <use x=\"190.869141\" xlink:href=\"#DejaVuSans-49\"/>\n       <use x=\"254.492188\" xlink:href=\"#DejaVuSans-46\"/>\n       <use x=\"286.279297\" xlink:href=\"#DejaVuSans-48\"/>\n      </g>\n     </g>\n    </g>\n    <g id=\"xtick_4\">\n     <g id=\"line2d_7\">\n      <path clip-path=\"url(#pd14fcaa99c)\" d=\"M 169.95767 239.9625 \nL 169.95767 22.5225 \n\" style=\"fill:none;stroke:#b0b0b0;stroke-linecap:square;stroke-width:0.8;\"/>\n     </g>\n     <g id=\"line2d_8\">\n      <g>\n       <use style=\"stroke:#000000;stroke-width:0.8;\" x=\"169.95767\" xlink:href=\"#me64397a18c\" y=\"239.9625\"/>\n      </g>\n     </g>\n     <g id=\"text_4\">\n      <!-- 2011.5 -->\n      <g transform=\"translate(152.462358 254.560937)scale(0.1 -0.1)\">\n       <use xlink:href=\"#DejaVuSans-50\"/>\n       <use x=\"63.623047\" xlink:href=\"#DejaVuSans-48\"/>\n       <use x=\"127.246094\" xlink:href=\"#DejaVuSans-49\"/>\n       <use x=\"190.869141\" xlink:href=\"#DejaVuSans-49\"/>\n       <use x=\"254.492188\" xlink:href=\"#DejaVuSans-46\"/>\n       <use x=\"286.279297\" xlink:href=\"#DejaVuSans-53\"/>\n      </g>\n     </g>\n    </g>\n    <g id=\"xtick_5\">\n     <g id=\"line2d_9\">\n      <path clip-path=\"url(#pd14fcaa99c)\" d=\"M 208.003125 239.9625 \nL 208.003125 22.5225 \n\" style=\"fill:none;stroke:#b0b0b0;stroke-linecap:square;stroke-width:0.8;\"/>\n     </g>\n     <g id=\"line2d_10\">\n      <g>\n       <use style=\"stroke:#000000;stroke-width:0.8;\" x=\"208.003125\" xlink:href=\"#me64397a18c\" y=\"239.9625\"/>\n      </g>\n     </g>\n     <g id=\"text_5\">\n      <!-- 2012.0 -->\n      <g transform=\"translate(190.507812 254.560937)scale(0.1 -0.1)\">\n       <use xlink:href=\"#DejaVuSans-50\"/>\n       <use x=\"63.623047\" xlink:href=\"#DejaVuSans-48\"/>\n       <use x=\"127.246094\" xlink:href=\"#DejaVuSans-49\"/>\n       <use x=\"190.869141\" xlink:href=\"#DejaVuSans-50\"/>\n       <use x=\"254.492188\" xlink:href=\"#DejaVuSans-46\"/>\n       <use x=\"286.279297\" xlink:href=\"#DejaVuSans-48\"/>\n      </g>\n     </g>\n    </g>\n    <g id=\"xtick_6\">\n     <g id=\"line2d_11\">\n      <path clip-path=\"url(#pd14fcaa99c)\" d=\"M 246.04858 239.9625 \nL 246.04858 22.5225 \n\" style=\"fill:none;stroke:#b0b0b0;stroke-linecap:square;stroke-width:0.8;\"/>\n     </g>\n     <g id=\"line2d_12\">\n      <g>\n       <use style=\"stroke:#000000;stroke-width:0.8;\" x=\"246.04858\" xlink:href=\"#me64397a18c\" y=\"239.9625\"/>\n      </g>\n     </g>\n     <g id=\"text_6\">\n      <!-- 2012.5 -->\n      <g transform=\"translate(228.553267 254.560937)scale(0.1 -0.1)\">\n       <use xlink:href=\"#DejaVuSans-50\"/>\n       <use x=\"63.623047\" xlink:href=\"#DejaVuSans-48\"/>\n       <use x=\"127.246094\" xlink:href=\"#DejaVuSans-49\"/>\n       <use x=\"190.869141\" xlink:href=\"#DejaVuSans-50\"/>\n       <use x=\"254.492188\" xlink:href=\"#DejaVuSans-46\"/>\n       <use x=\"286.279297\" xlink:href=\"#DejaVuSans-53\"/>\n      </g>\n     </g>\n    </g>\n    <g id=\"xtick_7\">\n     <g id=\"line2d_13\">\n      <path clip-path=\"url(#pd14fcaa99c)\" d=\"M 284.094034 239.9625 \nL 284.094034 22.5225 \n\" style=\"fill:none;stroke:#b0b0b0;stroke-linecap:square;stroke-width:0.8;\"/>\n     </g>\n     <g id=\"line2d_14\">\n      <g>\n       <use style=\"stroke:#000000;stroke-width:0.8;\" x=\"284.094034\" xlink:href=\"#me64397a18c\" y=\"239.9625\"/>\n      </g>\n     </g>\n     <g id=\"text_7\">\n      <!-- 2013.0 -->\n      <g transform=\"translate(266.598722 254.560937)scale(0.1 -0.1)\">\n       <defs>\n        <path d=\"M 40.578125 39.3125 \nQ 47.65625 37.796875 51.625 33 \nQ 55.609375 28.21875 55.609375 21.1875 \nQ 55.609375 10.40625 48.1875 4.484375 \nQ 40.765625 -1.421875 27.09375 -1.421875 \nQ 22.515625 -1.421875 17.65625 -0.515625 \nQ 12.796875 0.390625 7.625 2.203125 \nL 7.625 11.71875 \nQ 11.71875 9.328125 16.59375 8.109375 \nQ 21.484375 6.890625 26.8125 6.890625 \nQ 36.078125 6.890625 40.9375 10.546875 \nQ 45.796875 14.203125 45.796875 21.1875 \nQ 45.796875 27.640625 41.28125 31.265625 \nQ 36.765625 34.90625 28.71875 34.90625 \nL 20.21875 34.90625 \nL 20.21875 43.015625 \nL 29.109375 43.015625 \nQ 36.375 43.015625 40.234375 45.921875 \nQ 44.09375 48.828125 44.09375 54.296875 \nQ 44.09375 59.90625 40.109375 62.90625 \nQ 36.140625 65.921875 28.71875 65.921875 \nQ 24.65625 65.921875 20.015625 65.03125 \nQ 15.375 64.15625 9.8125 62.3125 \nL 9.8125 71.09375 \nQ 15.4375 72.65625 20.34375 73.4375 \nQ 25.25 74.21875 29.59375 74.21875 \nQ 40.828125 74.21875 47.359375 69.109375 \nQ 53.90625 64.015625 53.90625 55.328125 \nQ 53.90625 49.265625 50.4375 45.09375 \nQ 46.96875 40.921875 40.578125 39.3125 \nz\n\" id=\"DejaVuSans-51\"/>\n       </defs>\n       <use xlink:href=\"#DejaVuSans-50\"/>\n       <use x=\"63.623047\" xlink:href=\"#DejaVuSans-48\"/>\n       <use x=\"127.246094\" xlink:href=\"#DejaVuSans-49\"/>\n       <use x=\"190.869141\" xlink:href=\"#DejaVuSans-51\"/>\n       <use x=\"254.492188\" xlink:href=\"#DejaVuSans-46\"/>\n       <use x=\"286.279297\" xlink:href=\"#DejaVuSans-48\"/>\n      </g>\n     </g>\n    </g>\n    <g id=\"xtick_8\">\n     <g id=\"line2d_15\">\n      <path clip-path=\"url(#pd14fcaa99c)\" d=\"M 322.139489 239.9625 \nL 322.139489 22.5225 \n\" style=\"fill:none;stroke:#b0b0b0;stroke-linecap:square;stroke-width:0.8;\"/>\n     </g>\n     <g id=\"line2d_16\">\n      <g>\n       <use style=\"stroke:#000000;stroke-width:0.8;\" x=\"322.139489\" xlink:href=\"#me64397a18c\" y=\"239.9625\"/>\n      </g>\n     </g>\n     <g id=\"text_8\">\n      <!-- 2013.5 -->\n      <g transform=\"translate(304.644176 254.560937)scale(0.1 -0.1)\">\n       <use xlink:href=\"#DejaVuSans-50\"/>\n       <use x=\"63.623047\" xlink:href=\"#DejaVuSans-48\"/>\n       <use x=\"127.246094\" xlink:href=\"#DejaVuSans-49\"/>\n       <use x=\"190.869141\" xlink:href=\"#DejaVuSans-51\"/>\n       <use x=\"254.492188\" xlink:href=\"#DejaVuSans-46\"/>\n       <use x=\"286.279297\" xlink:href=\"#DejaVuSans-53\"/>\n      </g>\n     </g>\n    </g>\n    <g id=\"xtick_9\">\n     <g id=\"line2d_17\">\n      <path clip-path=\"url(#pd14fcaa99c)\" d=\"M 360.184943 239.9625 \nL 360.184943 22.5225 \n\" style=\"fill:none;stroke:#b0b0b0;stroke-linecap:square;stroke-width:0.8;\"/>\n     </g>\n     <g id=\"line2d_18\">\n      <g>\n       <use style=\"stroke:#000000;stroke-width:0.8;\" x=\"360.184943\" xlink:href=\"#me64397a18c\" y=\"239.9625\"/>\n      </g>\n     </g>\n     <g id=\"text_9\">\n      <!-- 2014.0 -->\n      <g transform=\"translate(342.689631 254.560937)scale(0.1 -0.1)\">\n       <defs>\n        <path d=\"M 37.796875 64.3125 \nL 12.890625 25.390625 \nL 37.796875 25.390625 \nz\nM 35.203125 72.90625 \nL 47.609375 72.90625 \nL 47.609375 25.390625 \nL 58.015625 25.390625 \nL 58.015625 17.1875 \nL 47.609375 17.1875 \nL 47.609375 0 \nL 37.796875 0 \nL 37.796875 17.1875 \nL 4.890625 17.1875 \nL 4.890625 26.703125 \nz\n\" id=\"DejaVuSans-52\"/>\n       </defs>\n       <use xlink:href=\"#DejaVuSans-50\"/>\n       <use x=\"63.623047\" xlink:href=\"#DejaVuSans-48\"/>\n       <use x=\"127.246094\" xlink:href=\"#DejaVuSans-49\"/>\n       <use x=\"190.869141\" xlink:href=\"#DejaVuSans-52\"/>\n       <use x=\"254.492188\" xlink:href=\"#DejaVuSans-46\"/>\n       <use x=\"286.279297\" xlink:href=\"#DejaVuSans-48\"/>\n      </g>\n     </g>\n    </g>\n    <g id=\"text_10\">\n     <!-- Año Academico (t) -->\n     <g transform=\"translate(161.85 268.239062)scale(0.1 -0.1)\">\n      <defs>\n       <path d=\"M 34.1875 63.1875 \nL 20.796875 26.90625 \nL 47.609375 26.90625 \nz\nM 28.609375 72.90625 \nL 39.796875 72.90625 \nL 67.578125 0 \nL 57.328125 0 \nL 50.6875 18.703125 \nL 17.828125 18.703125 \nL 11.1875 0 \nL 0.78125 0 \nz\n\" id=\"DejaVuSans-65\"/>\n       <path d=\"M 54.890625 33.015625 \nL 54.890625 0 \nL 45.90625 0 \nL 45.90625 32.71875 \nQ 45.90625 40.484375 42.875 44.328125 \nQ 39.84375 48.1875 33.796875 48.1875 \nQ 26.515625 48.1875 22.3125 43.546875 \nQ 18.109375 38.921875 18.109375 30.90625 \nL 18.109375 0 \nL 9.078125 0 \nL 9.078125 54.6875 \nL 18.109375 54.6875 \nL 18.109375 46.1875 \nQ 21.34375 51.125 25.703125 53.5625 \nQ 30.078125 56 35.796875 56 \nQ 45.21875 56 50.046875 50.171875 \nQ 54.890625 44.34375 54.890625 33.015625 \nz\nM 32.234375 66.890625 \nL 29.4375 69.578125 \nQ 28.375 70.5625 27.5625 71.015625 \nQ 26.765625 71.484375 26.125 71.484375 \nQ 24.265625 71.484375 23.390625 69.703125 \nQ 22.515625 67.921875 22.40625 63.921875 \nL 16.3125 63.921875 \nQ 16.40625 70.515625 18.890625 74.09375 \nQ 21.390625 77.6875 25.828125 77.6875 \nQ 27.6875 77.6875 29.25 77 \nQ 30.8125 76.3125 32.625 74.703125 \nL 35.40625 72.015625 \nQ 36.46875 71.046875 37.28125 70.578125 \nQ 38.09375 70.125 38.71875 70.125 \nQ 40.578125 70.125 41.453125 71.90625 \nQ 42.328125 73.6875 42.4375 77.6875 \nL 48.53125 77.6875 \nQ 48.4375 71.09375 45.9375 67.5 \nQ 43.453125 63.921875 39.015625 63.921875 \nQ 37.15625 63.921875 35.59375 64.59375 \nQ 34.03125 65.28125 32.234375 66.890625 \nz\n\" id=\"DejaVuSans-241\"/>\n       <path d=\"M 30.609375 48.390625 \nQ 23.390625 48.390625 19.1875 42.75 \nQ 14.984375 37.109375 14.984375 27.296875 \nQ 14.984375 17.484375 19.15625 11.84375 \nQ 23.34375 6.203125 30.609375 6.203125 \nQ 37.796875 6.203125 41.984375 11.859375 \nQ 46.1875 17.53125 46.1875 27.296875 \nQ 46.1875 37.015625 41.984375 42.703125 \nQ 37.796875 48.390625 30.609375 48.390625 \nz\nM 30.609375 56 \nQ 42.328125 56 49.015625 48.375 \nQ 55.71875 40.765625 55.71875 27.296875 \nQ 55.71875 13.875 49.015625 6.21875 \nQ 42.328125 -1.421875 30.609375 -1.421875 \nQ 18.84375 -1.421875 12.171875 6.21875 \nQ 5.515625 13.875 5.515625 27.296875 \nQ 5.515625 40.765625 12.171875 48.375 \nQ 18.84375 56 30.609375 56 \nz\n\" id=\"DejaVuSans-111\"/>\n       <path id=\"DejaVuSans-32\"/>\n       <path d=\"M 48.78125 52.59375 \nL 48.78125 44.1875 \nQ 44.96875 46.296875 41.140625 47.34375 \nQ 37.3125 48.390625 33.40625 48.390625 \nQ 24.65625 48.390625 19.8125 42.84375 \nQ 14.984375 37.3125 14.984375 27.296875 \nQ 14.984375 17.28125 19.8125 11.734375 \nQ 24.65625 6.203125 33.40625 6.203125 \nQ 37.3125 6.203125 41.140625 7.25 \nQ 44.96875 8.296875 48.78125 10.40625 \nL 48.78125 2.09375 \nQ 45.015625 0.34375 40.984375 -0.53125 \nQ 36.96875 -1.421875 32.421875 -1.421875 \nQ 20.0625 -1.421875 12.78125 6.34375 \nQ 5.515625 14.109375 5.515625 27.296875 \nQ 5.515625 40.671875 12.859375 48.328125 \nQ 20.21875 56 33.015625 56 \nQ 37.15625 56 41.109375 55.140625 \nQ 45.0625 54.296875 48.78125 52.59375 \nz\n\" id=\"DejaVuSans-99\"/>\n       <path d=\"M 34.28125 27.484375 \nQ 23.390625 27.484375 19.1875 25 \nQ 14.984375 22.515625 14.984375 16.5 \nQ 14.984375 11.71875 18.140625 8.90625 \nQ 21.296875 6.109375 26.703125 6.109375 \nQ 34.1875 6.109375 38.703125 11.40625 \nQ 43.21875 16.703125 43.21875 25.484375 \nL 43.21875 27.484375 \nz\nM 52.203125 31.203125 \nL 52.203125 0 \nL 43.21875 0 \nL 43.21875 8.296875 \nQ 40.140625 3.328125 35.546875 0.953125 \nQ 30.953125 -1.421875 24.3125 -1.421875 \nQ 15.921875 -1.421875 10.953125 3.296875 \nQ 6 8.015625 6 15.921875 \nQ 6 25.140625 12.171875 29.828125 \nQ 18.359375 34.515625 30.609375 34.515625 \nL 43.21875 34.515625 \nL 43.21875 35.40625 \nQ 43.21875 41.609375 39.140625 45 \nQ 35.0625 48.390625 27.6875 48.390625 \nQ 23 48.390625 18.546875 47.265625 \nQ 14.109375 46.140625 10.015625 43.890625 \nL 10.015625 52.203125 \nQ 14.9375 54.109375 19.578125 55.046875 \nQ 24.21875 56 28.609375 56 \nQ 40.484375 56 46.34375 49.84375 \nQ 52.203125 43.703125 52.203125 31.203125 \nz\n\" id=\"DejaVuSans-97\"/>\n       <path d=\"M 45.40625 46.390625 \nL 45.40625 75.984375 \nL 54.390625 75.984375 \nL 54.390625 0 \nL 45.40625 0 \nL 45.40625 8.203125 \nQ 42.578125 3.328125 38.25 0.953125 \nQ 33.9375 -1.421875 27.875 -1.421875 \nQ 17.96875 -1.421875 11.734375 6.484375 \nQ 5.515625 14.40625 5.515625 27.296875 \nQ 5.515625 40.1875 11.734375 48.09375 \nQ 17.96875 56 27.875 56 \nQ 33.9375 56 38.25 53.625 \nQ 42.578125 51.265625 45.40625 46.390625 \nz\nM 14.796875 27.296875 \nQ 14.796875 17.390625 18.875 11.75 \nQ 22.953125 6.109375 30.078125 6.109375 \nQ 37.203125 6.109375 41.296875 11.75 \nQ 45.40625 17.390625 45.40625 27.296875 \nQ 45.40625 37.203125 41.296875 42.84375 \nQ 37.203125 48.484375 30.078125 48.484375 \nQ 22.953125 48.484375 18.875 42.84375 \nQ 14.796875 37.203125 14.796875 27.296875 \nz\n\" id=\"DejaVuSans-100\"/>\n       <path d=\"M 56.203125 29.59375 \nL 56.203125 25.203125 \nL 14.890625 25.203125 \nQ 15.484375 15.921875 20.484375 11.0625 \nQ 25.484375 6.203125 34.421875 6.203125 \nQ 39.59375 6.203125 44.453125 7.46875 \nQ 49.3125 8.734375 54.109375 11.28125 \nL 54.109375 2.78125 \nQ 49.265625 0.734375 44.1875 -0.34375 \nQ 39.109375 -1.421875 33.890625 -1.421875 \nQ 20.796875 -1.421875 13.15625 6.1875 \nQ 5.515625 13.8125 5.515625 26.8125 \nQ 5.515625 40.234375 12.765625 48.109375 \nQ 20.015625 56 32.328125 56 \nQ 43.359375 56 49.78125 48.890625 \nQ 56.203125 41.796875 56.203125 29.59375 \nz\nM 47.21875 32.234375 \nQ 47.125 39.59375 43.09375 43.984375 \nQ 39.0625 48.390625 32.421875 48.390625 \nQ 24.90625 48.390625 20.390625 44.140625 \nQ 15.875 39.890625 15.1875 32.171875 \nz\n\" id=\"DejaVuSans-101\"/>\n       <path d=\"M 52 44.1875 \nQ 55.375 50.25 60.0625 53.125 \nQ 64.75 56 71.09375 56 \nQ 79.640625 56 84.28125 50.015625 \nQ 88.921875 44.046875 88.921875 33.015625 \nL 88.921875 0 \nL 79.890625 0 \nL 79.890625 32.71875 \nQ 79.890625 40.578125 77.09375 44.375 \nQ 74.3125 48.1875 68.609375 48.1875 \nQ 61.625 48.1875 57.5625 43.546875 \nQ 53.515625 38.921875 53.515625 30.90625 \nL 53.515625 0 \nL 44.484375 0 \nL 44.484375 32.71875 \nQ 44.484375 40.625 41.703125 44.40625 \nQ 38.921875 48.1875 33.109375 48.1875 \nQ 26.21875 48.1875 22.15625 43.53125 \nQ 18.109375 38.875 18.109375 30.90625 \nL 18.109375 0 \nL 9.078125 0 \nL 9.078125 54.6875 \nL 18.109375 54.6875 \nL 18.109375 46.1875 \nQ 21.1875 51.21875 25.484375 53.609375 \nQ 29.78125 56 35.6875 56 \nQ 41.65625 56 45.828125 52.96875 \nQ 50 49.953125 52 44.1875 \nz\n\" id=\"DejaVuSans-109\"/>\n       <path d=\"M 9.421875 54.6875 \nL 18.40625 54.6875 \nL 18.40625 0 \nL 9.421875 0 \nz\nM 9.421875 75.984375 \nL 18.40625 75.984375 \nL 18.40625 64.59375 \nL 9.421875 64.59375 \nz\n\" id=\"DejaVuSans-105\"/>\n       <path d=\"M 31 75.875 \nQ 24.46875 64.65625 21.28125 53.65625 \nQ 18.109375 42.671875 18.109375 31.390625 \nQ 18.109375 20.125 21.3125 9.0625 \nQ 24.515625 -2 31 -13.1875 \nL 23.1875 -13.1875 \nQ 15.875 -1.703125 12.234375 9.375 \nQ 8.59375 20.453125 8.59375 31.390625 \nQ 8.59375 42.28125 12.203125 53.3125 \nQ 15.828125 64.359375 23.1875 75.875 \nz\n\" id=\"DejaVuSans-40\"/>\n       <path d=\"M 18.3125 70.21875 \nL 18.3125 54.6875 \nL 36.8125 54.6875 \nL 36.8125 47.703125 \nL 18.3125 47.703125 \nL 18.3125 18.015625 \nQ 18.3125 11.328125 20.140625 9.421875 \nQ 21.96875 7.515625 27.59375 7.515625 \nL 36.8125 7.515625 \nL 36.8125 0 \nL 27.59375 0 \nQ 17.1875 0 13.234375 3.875 \nQ 9.28125 7.765625 9.28125 18.015625 \nL 9.28125 47.703125 \nL 2.6875 47.703125 \nL 2.6875 54.6875 \nL 9.28125 54.6875 \nL 9.28125 70.21875 \nz\n\" id=\"DejaVuSans-116\"/>\n       <path d=\"M 8.015625 75.875 \nL 15.828125 75.875 \nQ 23.140625 64.359375 26.78125 53.3125 \nQ 30.421875 42.28125 30.421875 31.390625 \nQ 30.421875 20.453125 26.78125 9.375 \nQ 23.140625 -1.703125 15.828125 -13.1875 \nL 8.015625 -13.1875 \nQ 14.5 -2 17.703125 9.0625 \nQ 20.90625 20.125 20.90625 31.390625 \nQ 20.90625 42.671875 17.703125 53.65625 \nQ 14.5 64.65625 8.015625 75.875 \nz\n\" id=\"DejaVuSans-41\"/>\n      </defs>\n      <use xlink:href=\"#DejaVuSans-65\"/>\n      <use x=\"68.408203\" xlink:href=\"#DejaVuSans-241\"/>\n      <use x=\"131.787109\" xlink:href=\"#DejaVuSans-111\"/>\n      <use x=\"192.96875\" xlink:href=\"#DejaVuSans-32\"/>\n      <use x=\"224.755859\" xlink:href=\"#DejaVuSans-65\"/>\n      <use x=\"291.414062\" xlink:href=\"#DejaVuSans-99\"/>\n      <use x=\"346.394531\" xlink:href=\"#DejaVuSans-97\"/>\n      <use x=\"407.673828\" xlink:href=\"#DejaVuSans-100\"/>\n      <use x=\"471.150391\" xlink:href=\"#DejaVuSans-101\"/>\n      <use x=\"532.673828\" xlink:href=\"#DejaVuSans-109\"/>\n      <use x=\"630.085938\" xlink:href=\"#DejaVuSans-105\"/>\n      <use x=\"657.869141\" xlink:href=\"#DejaVuSans-99\"/>\n      <use x=\"712.849609\" xlink:href=\"#DejaVuSans-111\"/>\n      <use x=\"774.03125\" xlink:href=\"#DejaVuSans-32\"/>\n      <use x=\"805.818359\" xlink:href=\"#DejaVuSans-40\"/>\n      <use x=\"844.832031\" xlink:href=\"#DejaVuSans-116\"/>\n      <use x=\"884.041016\" xlink:href=\"#DejaVuSans-41\"/>\n     </g>\n    </g>\n   </g>\n   <g id=\"matplotlib.axis_2\">\n    <g id=\"ytick_1\">\n     <g id=\"line2d_19\">\n      <path clip-path=\"url(#pd14fcaa99c)\" d=\"M 40.603125 225.137045 \nL 375.403125 225.137045 \n\" style=\"fill:none;stroke:#b0b0b0;stroke-linecap:square;stroke-width:0.8;\"/>\n     </g>\n     <g id=\"line2d_20\">\n      <defs>\n       <path d=\"M 0 0 \nL -3.5 0 \n\" id=\"mb722de8ccd\" style=\"stroke:#000000;stroke-width:0.8;\"/>\n      </defs>\n      <g>\n       <use style=\"stroke:#000000;stroke-width:0.8;\" x=\"40.603125\" xlink:href=\"#mb722de8ccd\" y=\"225.137045\"/>\n      </g>\n     </g>\n     <g id=\"text_11\">\n      <!-- 45 -->\n      <g transform=\"translate(20.878125 228.936264)scale(0.1 -0.1)\">\n       <use xlink:href=\"#DejaVuSans-52\"/>\n       <use x=\"63.623047\" xlink:href=\"#DejaVuSans-53\"/>\n      </g>\n     </g>\n    </g>\n    <g id=\"ytick_2\">\n     <g id=\"line2d_21\">\n      <path clip-path=\"url(#pd14fcaa99c)\" d=\"M 40.603125 180.660682 \nL 375.403125 180.660682 \n\" style=\"fill:none;stroke:#b0b0b0;stroke-linecap:square;stroke-width:0.8;\"/>\n     </g>\n     <g id=\"line2d_22\">\n      <g>\n       <use style=\"stroke:#000000;stroke-width:0.8;\" x=\"40.603125\" xlink:href=\"#mb722de8ccd\" y=\"180.660682\"/>\n      </g>\n     </g>\n     <g id=\"text_12\">\n      <!-- 50 -->\n      <g transform=\"translate(20.878125 184.459901)scale(0.1 -0.1)\">\n       <use xlink:href=\"#DejaVuSans-53\"/>\n       <use x=\"63.623047\" xlink:href=\"#DejaVuSans-48\"/>\n      </g>\n     </g>\n    </g>\n    <g id=\"ytick_3\">\n     <g id=\"line2d_23\">\n      <path clip-path=\"url(#pd14fcaa99c)\" d=\"M 40.603125 136.184318 \nL 375.403125 136.184318 \n\" style=\"fill:none;stroke:#b0b0b0;stroke-linecap:square;stroke-width:0.8;\"/>\n     </g>\n     <g id=\"line2d_24\">\n      <g>\n       <use style=\"stroke:#000000;stroke-width:0.8;\" x=\"40.603125\" xlink:href=\"#mb722de8ccd\" y=\"136.184318\"/>\n      </g>\n     </g>\n     <g id=\"text_13\">\n      <!-- 55 -->\n      <g transform=\"translate(20.878125 139.983537)scale(0.1 -0.1)\">\n       <use xlink:href=\"#DejaVuSans-53\"/>\n       <use x=\"63.623047\" xlink:href=\"#DejaVuSans-53\"/>\n      </g>\n     </g>\n    </g>\n    <g id=\"ytick_4\">\n     <g id=\"line2d_25\">\n      <path clip-path=\"url(#pd14fcaa99c)\" d=\"M 40.603125 91.707955 \nL 375.403125 91.707955 \n\" style=\"fill:none;stroke:#b0b0b0;stroke-linecap:square;stroke-width:0.8;\"/>\n     </g>\n     <g id=\"line2d_26\">\n      <g>\n       <use style=\"stroke:#000000;stroke-width:0.8;\" x=\"40.603125\" xlink:href=\"#mb722de8ccd\" y=\"91.707955\"/>\n      </g>\n     </g>\n     <g id=\"text_14\">\n      <!-- 60 -->\n      <g transform=\"translate(20.878125 95.507173)scale(0.1 -0.1)\">\n       <defs>\n        <path d=\"M 33.015625 40.375 \nQ 26.375 40.375 22.484375 35.828125 \nQ 18.609375 31.296875 18.609375 23.390625 \nQ 18.609375 15.53125 22.484375 10.953125 \nQ 26.375 6.390625 33.015625 6.390625 \nQ 39.65625 6.390625 43.53125 10.953125 \nQ 47.40625 15.53125 47.40625 23.390625 \nQ 47.40625 31.296875 43.53125 35.828125 \nQ 39.65625 40.375 33.015625 40.375 \nz\nM 52.59375 71.296875 \nL 52.59375 62.3125 \nQ 48.875 64.0625 45.09375 64.984375 \nQ 41.3125 65.921875 37.59375 65.921875 \nQ 27.828125 65.921875 22.671875 59.328125 \nQ 17.53125 52.734375 16.796875 39.40625 \nQ 19.671875 43.65625 24.015625 45.921875 \nQ 28.375 48.1875 33.59375 48.1875 \nQ 44.578125 48.1875 50.953125 41.515625 \nQ 57.328125 34.859375 57.328125 23.390625 \nQ 57.328125 12.15625 50.6875 5.359375 \nQ 44.046875 -1.421875 33.015625 -1.421875 \nQ 20.359375 -1.421875 13.671875 8.265625 \nQ 6.984375 17.96875 6.984375 36.375 \nQ 6.984375 53.65625 15.1875 63.9375 \nQ 23.390625 74.21875 37.203125 74.21875 \nQ 40.921875 74.21875 44.703125 73.484375 \nQ 48.484375 72.75 52.59375 71.296875 \nz\n\" id=\"DejaVuSans-54\"/>\n       </defs>\n       <use xlink:href=\"#DejaVuSans-54\"/>\n       <use x=\"63.623047\" xlink:href=\"#DejaVuSans-48\"/>\n      </g>\n     </g>\n    </g>\n    <g id=\"ytick_5\">\n     <g id=\"line2d_27\">\n      <path clip-path=\"url(#pd14fcaa99c)\" d=\"M 40.603125 47.231591 \nL 375.403125 47.231591 \n\" style=\"fill:none;stroke:#b0b0b0;stroke-linecap:square;stroke-width:0.8;\"/>\n     </g>\n     <g id=\"line2d_28\">\n      <g>\n       <use style=\"stroke:#000000;stroke-width:0.8;\" x=\"40.603125\" xlink:href=\"#mb722de8ccd\" y=\"47.231591\"/>\n      </g>\n     </g>\n     <g id=\"text_15\">\n      <!-- 65 -->\n      <g transform=\"translate(20.878125 51.03081)scale(0.1 -0.1)\">\n       <use xlink:href=\"#DejaVuSans-54\"/>\n       <use x=\"63.623047\" xlink:href=\"#DejaVuSans-53\"/>\n      </g>\n     </g>\n    </g>\n    <g id=\"text_16\">\n     <!-- Tasa Mortalidad (%) -->\n     <g transform=\"translate(14.798438 180.678437)rotate(-90)scale(0.1 -0.1)\">\n      <defs>\n       <path d=\"M -0.296875 72.90625 \nL 61.375 72.90625 \nL 61.375 64.59375 \nL 35.5 64.59375 \nL 35.5 0 \nL 25.59375 0 \nL 25.59375 64.59375 \nL -0.296875 64.59375 \nz\n\" id=\"DejaVuSans-84\"/>\n       <path d=\"M 44.28125 53.078125 \nL 44.28125 44.578125 \nQ 40.484375 46.53125 36.375 47.5 \nQ 32.28125 48.484375 27.875 48.484375 \nQ 21.1875 48.484375 17.84375 46.4375 \nQ 14.5 44.390625 14.5 40.28125 \nQ 14.5 37.15625 16.890625 35.375 \nQ 19.28125 33.59375 26.515625 31.984375 \nL 29.59375 31.296875 \nQ 39.15625 29.25 43.1875 25.515625 \nQ 47.21875 21.78125 47.21875 15.09375 \nQ 47.21875 7.46875 41.1875 3.015625 \nQ 35.15625 -1.421875 24.609375 -1.421875 \nQ 20.21875 -1.421875 15.453125 -0.5625 \nQ 10.6875 0.296875 5.421875 2 \nL 5.421875 11.28125 \nQ 10.40625 8.6875 15.234375 7.390625 \nQ 20.0625 6.109375 24.8125 6.109375 \nQ 31.15625 6.109375 34.5625 8.28125 \nQ 37.984375 10.453125 37.984375 14.40625 \nQ 37.984375 18.0625 35.515625 20.015625 \nQ 33.0625 21.96875 24.703125 23.78125 \nL 21.578125 24.515625 \nQ 13.234375 26.265625 9.515625 29.90625 \nQ 5.8125 33.546875 5.8125 39.890625 \nQ 5.8125 47.609375 11.28125 51.796875 \nQ 16.75 56 26.8125 56 \nQ 31.78125 56 36.171875 55.265625 \nQ 40.578125 54.546875 44.28125 53.078125 \nz\n\" id=\"DejaVuSans-115\"/>\n       <path d=\"M 9.8125 72.90625 \nL 24.515625 72.90625 \nL 43.109375 23.296875 \nL 61.8125 72.90625 \nL 76.515625 72.90625 \nL 76.515625 0 \nL 66.890625 0 \nL 66.890625 64.015625 \nL 48.09375 14.015625 \nL 38.1875 14.015625 \nL 19.390625 64.015625 \nL 19.390625 0 \nL 9.8125 0 \nz\n\" id=\"DejaVuSans-77\"/>\n       <path d=\"M 41.109375 46.296875 \nQ 39.59375 47.171875 37.8125 47.578125 \nQ 36.03125 48 33.890625 48 \nQ 26.265625 48 22.1875 43.046875 \nQ 18.109375 38.09375 18.109375 28.8125 \nL 18.109375 0 \nL 9.078125 0 \nL 9.078125 54.6875 \nL 18.109375 54.6875 \nL 18.109375 46.1875 \nQ 20.953125 51.171875 25.484375 53.578125 \nQ 30.03125 56 36.53125 56 \nQ 37.453125 56 38.578125 55.875 \nQ 39.703125 55.765625 41.0625 55.515625 \nz\n\" id=\"DejaVuSans-114\"/>\n       <path d=\"M 9.421875 75.984375 \nL 18.40625 75.984375 \nL 18.40625 0 \nL 9.421875 0 \nz\n\" id=\"DejaVuSans-108\"/>\n       <path d=\"M 72.703125 32.078125 \nQ 68.453125 32.078125 66.03125 28.46875 \nQ 63.625 24.859375 63.625 18.40625 \nQ 63.625 12.0625 66.03125 8.421875 \nQ 68.453125 4.78125 72.703125 4.78125 \nQ 76.859375 4.78125 79.265625 8.421875 \nQ 81.6875 12.0625 81.6875 18.40625 \nQ 81.6875 24.8125 79.265625 28.4375 \nQ 76.859375 32.078125 72.703125 32.078125 \nz\nM 72.703125 38.28125 \nQ 80.421875 38.28125 84.953125 32.90625 \nQ 89.5 27.546875 89.5 18.40625 \nQ 89.5 9.28125 84.9375 3.921875 \nQ 80.375 -1.421875 72.703125 -1.421875 \nQ 64.890625 -1.421875 60.34375 3.921875 \nQ 55.8125 9.28125 55.8125 18.40625 \nQ 55.8125 27.59375 60.375 32.9375 \nQ 64.9375 38.28125 72.703125 38.28125 \nz\nM 22.3125 68.015625 \nQ 18.109375 68.015625 15.6875 64.375 \nQ 13.28125 60.75 13.28125 54.390625 \nQ 13.28125 47.953125 15.671875 44.328125 \nQ 18.0625 40.71875 22.3125 40.71875 \nQ 26.5625 40.71875 28.96875 44.328125 \nQ 31.390625 47.953125 31.390625 54.390625 \nQ 31.390625 60.6875 28.953125 64.34375 \nQ 26.515625 68.015625 22.3125 68.015625 \nz\nM 66.40625 74.21875 \nL 74.21875 74.21875 \nL 28.609375 -1.421875 \nL 20.796875 -1.421875 \nz\nM 22.3125 74.21875 \nQ 30.03125 74.21875 34.609375 68.875 \nQ 39.203125 63.53125 39.203125 54.390625 \nQ 39.203125 45.171875 34.640625 39.84375 \nQ 30.078125 34.515625 22.3125 34.515625 \nQ 14.546875 34.515625 10.03125 39.859375 \nQ 5.515625 45.21875 5.515625 54.390625 \nQ 5.515625 63.484375 10.046875 68.84375 \nQ 14.59375 74.21875 22.3125 74.21875 \nz\n\" id=\"DejaVuSans-37\"/>\n      </defs>\n      <use xlink:href=\"#DejaVuSans-84\"/>\n      <use x=\"44.583984\" xlink:href=\"#DejaVuSans-97\"/>\n      <use x=\"105.863281\" xlink:href=\"#DejaVuSans-115\"/>\n      <use x=\"157.962891\" xlink:href=\"#DejaVuSans-97\"/>\n      <use x=\"219.242188\" xlink:href=\"#DejaVuSans-32\"/>\n      <use x=\"251.029297\" xlink:href=\"#DejaVuSans-77\"/>\n      <use x=\"337.308594\" xlink:href=\"#DejaVuSans-111\"/>\n      <use x=\"398.490234\" xlink:href=\"#DejaVuSans-114\"/>\n      <use x=\"439.603516\" xlink:href=\"#DejaVuSans-116\"/>\n      <use x=\"478.8125\" xlink:href=\"#DejaVuSans-97\"/>\n      <use x=\"540.091797\" xlink:href=\"#DejaVuSans-108\"/>\n      <use x=\"567.875\" xlink:href=\"#DejaVuSans-105\"/>\n      <use x=\"595.658203\" xlink:href=\"#DejaVuSans-100\"/>\n      <use x=\"659.134766\" xlink:href=\"#DejaVuSans-97\"/>\n      <use x=\"720.414062\" xlink:href=\"#DejaVuSans-100\"/>\n      <use x=\"783.890625\" xlink:href=\"#DejaVuSans-32\"/>\n      <use x=\"815.677734\" xlink:href=\"#DejaVuSans-40\"/>\n      <use x=\"854.691406\" xlink:href=\"#DejaVuSans-37\"/>\n      <use x=\"949.710938\" xlink:href=\"#DejaVuSans-41\"/>\n     </g>\n    </g>\n   </g>\n   <g id=\"line2d_29\">\n    <path clip-path=\"url(#pd14fcaa99c)\" d=\"M 55.821307 32.406136 \nL 208.003125 180.660682 \nL 284.094034 230.078864 \nL 360.184943 140.227624 \n\" style=\"fill:none;stroke:#1f77b4;stroke-linecap:square;stroke-width:1.5;\"/>\n   </g>\n   <g id=\"patch_3\">\n    <path d=\"M 40.603125 239.9625 \nL 40.603125 22.5225 \n\" style=\"fill:none;stroke:#000000;stroke-linecap:square;stroke-linejoin:miter;stroke-width:0.8;\"/>\n   </g>\n   <g id=\"patch_4\">\n    <path d=\"M 375.403125 239.9625 \nL 375.403125 22.5225 \n\" style=\"fill:none;stroke:#000000;stroke-linecap:square;stroke-linejoin:miter;stroke-width:0.8;\"/>\n   </g>\n   <g id=\"patch_5\">\n    <path d=\"M 40.603125 239.9625 \nL 375.403125 239.9625 \n\" style=\"fill:none;stroke:#000000;stroke-linecap:square;stroke-linejoin:miter;stroke-width:0.8;\"/>\n   </g>\n   <g id=\"patch_6\">\n    <path d=\"M 40.603125 22.5225 \nL 375.403125 22.5225 \n\" style=\"fill:none;stroke:#000000;stroke-linecap:square;stroke-linejoin:miter;stroke-width:0.8;\"/>\n   </g>\n   <g id=\"text_17\">\n    <!-- Mortalidad por año de una asignatura -->\n    <g transform=\"translate(94.56 16.5225)scale(0.12 -0.12)\">\n     <defs>\n      <path d=\"M 18.109375 8.203125 \nL 18.109375 -20.796875 \nL 9.078125 -20.796875 \nL 9.078125 54.6875 \nL 18.109375 54.6875 \nL 18.109375 46.390625 \nQ 20.953125 51.265625 25.265625 53.625 \nQ 29.59375 56 35.59375 56 \nQ 45.5625 56 51.78125 48.09375 \nQ 58.015625 40.1875 58.015625 27.296875 \nQ 58.015625 14.40625 51.78125 6.484375 \nQ 45.5625 -1.421875 35.59375 -1.421875 \nQ 29.59375 -1.421875 25.265625 0.953125 \nQ 20.953125 3.328125 18.109375 8.203125 \nz\nM 48.6875 27.296875 \nQ 48.6875 37.203125 44.609375 42.84375 \nQ 40.53125 48.484375 33.40625 48.484375 \nQ 26.265625 48.484375 22.1875 42.84375 \nQ 18.109375 37.203125 18.109375 27.296875 \nQ 18.109375 17.390625 22.1875 11.75 \nQ 26.265625 6.109375 33.40625 6.109375 \nQ 40.53125 6.109375 44.609375 11.75 \nQ 48.6875 17.390625 48.6875 27.296875 \nz\n\" id=\"DejaVuSans-112\"/>\n      <path d=\"M 8.5 21.578125 \nL 8.5 54.6875 \nL 17.484375 54.6875 \nL 17.484375 21.921875 \nQ 17.484375 14.15625 20.5 10.265625 \nQ 23.53125 6.390625 29.59375 6.390625 \nQ 36.859375 6.390625 41.078125 11.03125 \nQ 45.3125 15.671875 45.3125 23.6875 \nL 45.3125 54.6875 \nL 54.296875 54.6875 \nL 54.296875 0 \nL 45.3125 0 \nL 45.3125 8.40625 \nQ 42.046875 3.421875 37.71875 1 \nQ 33.40625 -1.421875 27.6875 -1.421875 \nQ 18.265625 -1.421875 13.375 4.4375 \nQ 8.5 10.296875 8.5 21.578125 \nz\nM 31.109375 56 \nz\n\" id=\"DejaVuSans-117\"/>\n      <path d=\"M 54.890625 33.015625 \nL 54.890625 0 \nL 45.90625 0 \nL 45.90625 32.71875 \nQ 45.90625 40.484375 42.875 44.328125 \nQ 39.84375 48.1875 33.796875 48.1875 \nQ 26.515625 48.1875 22.3125 43.546875 \nQ 18.109375 38.921875 18.109375 30.90625 \nL 18.109375 0 \nL 9.078125 0 \nL 9.078125 54.6875 \nL 18.109375 54.6875 \nL 18.109375 46.1875 \nQ 21.34375 51.125 25.703125 53.5625 \nQ 30.078125 56 35.796875 56 \nQ 45.21875 56 50.046875 50.171875 \nQ 54.890625 44.34375 54.890625 33.015625 \nz\n\" id=\"DejaVuSans-110\"/>\n      <path d=\"M 45.40625 27.984375 \nQ 45.40625 37.75 41.375 43.109375 \nQ 37.359375 48.484375 30.078125 48.484375 \nQ 22.859375 48.484375 18.828125 43.109375 \nQ 14.796875 37.75 14.796875 27.984375 \nQ 14.796875 18.265625 18.828125 12.890625 \nQ 22.859375 7.515625 30.078125 7.515625 \nQ 37.359375 7.515625 41.375 12.890625 \nQ 45.40625 18.265625 45.40625 27.984375 \nz\nM 54.390625 6.78125 \nQ 54.390625 -7.171875 48.1875 -13.984375 \nQ 42 -20.796875 29.203125 -20.796875 \nQ 24.46875 -20.796875 20.265625 -20.09375 \nQ 16.0625 -19.390625 12.109375 -17.921875 \nL 12.109375 -9.1875 \nQ 16.0625 -11.328125 19.921875 -12.34375 \nQ 23.78125 -13.375 27.78125 -13.375 \nQ 36.625 -13.375 41.015625 -8.765625 \nQ 45.40625 -4.15625 45.40625 5.171875 \nL 45.40625 9.625 \nQ 42.625 4.78125 38.28125 2.390625 \nQ 33.9375 0 27.875 0 \nQ 17.828125 0 11.671875 7.65625 \nQ 5.515625 15.328125 5.515625 27.984375 \nQ 5.515625 40.671875 11.671875 48.328125 \nQ 17.828125 56 27.875 56 \nQ 33.9375 56 38.28125 53.609375 \nQ 42.625 51.21875 45.40625 46.390625 \nL 45.40625 54.6875 \nL 54.390625 54.6875 \nz\n\" id=\"DejaVuSans-103\"/>\n     </defs>\n     <use xlink:href=\"#DejaVuSans-77\"/>\n     <use x=\"86.279297\" xlink:href=\"#DejaVuSans-111\"/>\n     <use x=\"147.460938\" xlink:href=\"#DejaVuSans-114\"/>\n     <use x=\"188.574219\" xlink:href=\"#DejaVuSans-116\"/>\n     <use x=\"227.783203\" xlink:href=\"#DejaVuSans-97\"/>\n     <use x=\"289.0625\" xlink:href=\"#DejaVuSans-108\"/>\n     <use x=\"316.845703\" xlink:href=\"#DejaVuSans-105\"/>\n     <use x=\"344.628906\" xlink:href=\"#DejaVuSans-100\"/>\n     <use x=\"408.105469\" xlink:href=\"#DejaVuSans-97\"/>\n     <use x=\"469.384766\" xlink:href=\"#DejaVuSans-100\"/>\n     <use x=\"532.861328\" xlink:href=\"#DejaVuSans-32\"/>\n     <use x=\"564.648438\" xlink:href=\"#DejaVuSans-112\"/>\n     <use x=\"628.125\" xlink:href=\"#DejaVuSans-111\"/>\n     <use x=\"689.306641\" xlink:href=\"#DejaVuSans-114\"/>\n     <use x=\"730.419922\" xlink:href=\"#DejaVuSans-32\"/>\n     <use x=\"762.207031\" xlink:href=\"#DejaVuSans-97\"/>\n     <use x=\"823.486328\" xlink:href=\"#DejaVuSans-241\"/>\n     <use x=\"886.865234\" xlink:href=\"#DejaVuSans-111\"/>\n     <use x=\"948.046875\" xlink:href=\"#DejaVuSans-32\"/>\n     <use x=\"979.833984\" xlink:href=\"#DejaVuSans-100\"/>\n     <use x=\"1043.310547\" xlink:href=\"#DejaVuSans-101\"/>\n     <use x=\"1104.833984\" xlink:href=\"#DejaVuSans-32\"/>\n     <use x=\"1136.621094\" xlink:href=\"#DejaVuSans-117\"/>\n     <use x=\"1200\" xlink:href=\"#DejaVuSans-110\"/>\n     <use x=\"1263.378906\" xlink:href=\"#DejaVuSans-97\"/>\n     <use x=\"1324.658203\" xlink:href=\"#DejaVuSans-32\"/>\n     <use x=\"1356.445312\" xlink:href=\"#DejaVuSans-97\"/>\n     <use x=\"1417.724609\" xlink:href=\"#DejaVuSans-115\"/>\n     <use x=\"1469.824219\" xlink:href=\"#DejaVuSans-105\"/>\n     <use x=\"1497.607422\" xlink:href=\"#DejaVuSans-103\"/>\n     <use x=\"1561.083984\" xlink:href=\"#DejaVuSans-110\"/>\n     <use x=\"1624.462891\" xlink:href=\"#DejaVuSans-97\"/>\n     <use x=\"1685.742188\" xlink:href=\"#DejaVuSans-116\"/>\n     <use x=\"1724.951172\" xlink:href=\"#DejaVuSans-117\"/>\n     <use x=\"1788.330078\" xlink:href=\"#DejaVuSans-114\"/>\n     <use x=\"1829.443359\" xlink:href=\"#DejaVuSans-97\"/>\n    </g>\n   </g>\n  </g>\n </g>\n <defs>\n  <clipPath id=\"pd14fcaa99c\">\n   <rect height=\"217.44\" width=\"334.8\" x=\"40.603125\" y=\"22.5225\"/>\n  </clipPath>\n </defs>\n</svg>\n",
            "image/png": "[encoded data removed]"
          },
          "metadata": {
            "tags": [],
            "needs_background": "light"
          }
        }
      ]
    },
    {
      "cell_type": "code",
      "metadata": {
        "id": "0WMsddP5V7LB",
        "outputId": "6d94742d-70ae-4e43-f801-2e2d118611c5"
      },
      "source": [
        "#####################################################################################################################\n",
        "###################################### Segundo Punto del Trabajo  -METODO NORMAL- ####################################\n",
        "\n",
        "########################## Tasa de mortalidad año, semestre, Programa Academico\n",
        "\n",
        "yearprograma = 2012 #Año\n",
        "codigoProg = 22 #Codigo programa\n",
        "\n",
        "\n",
        "######################### Consultas SQL\n",
        "queryMortalidadPrograma = 'SELECT * FROM tbInformacion WHERE Anio = '+str(yearprograma) + ' AND codProgramaAcademico = '+ str(codigoProg)\n",
        "\n",
        "queryperdidosPrograma = 'SELECT * FROM tbInformacion WHERE Anio = '+str(yearprograma) + ' AND codProgramaAcademico = '+ str(codigoProg) + ' AND definitivaDis = \"Insuficiente\" OR \"Deficiente\"'\n",
        "\n",
        "\n",
        "\n",
        "########################################### Algoritmo para los datos\n",
        "\n",
        "cursoPrograma = pd.read_sql_query(queryMortalidadPrograma, connection)\n",
        "cursaronPrograma = len(cursoPrograma)\n",
        "\n",
        "perdieronprograma = pd.read_sql_query(queryperdidosPrograma, connection)\n",
        "cantperdidosPrograma = len(perdieronprograma)\n",
        "\n",
        "print('#####################################################################','\\n')\n",
        "if len(cursoPrograma) == 0 :\n",
        "    print(\"No hay Registros para este año con este programa\" ,'\\n')\n",
        "elif len(cursoPrograma) == 1 :\n",
        "    print(\"No se puede hacer el estudio de la mortalidad porque solo tenemos un registro :(\" ,'\\n')\n",
        "\n",
        "else:\n",
        "    print( \"Cantidad de estudiantes que perdieron en el \", yearprograma ,\" del programa \", codigoProg , \"Fueron: \", cantperdidosPrograma ,'\\n')\n",
        "    \n",
        "    mortalidadprograma = (cantperdidosPrograma/cursaronPrograma)*100\n",
        "\n",
        "    print(\"En el año \",yearprograma,\"el programa \",codigoProg ,\" tuvo una  mortalidad de \", \"{:.2f}\".format(mortalidadprograma), \"%\",'\\n')\n",
        "    print('#####################################################################','\\n')\n"
      ],
      "execution_count": null,
      "outputs": [
        {
          "output_type": "stream",
          "text": [
            "##################################################################### \n",
            "\n",
            "Cantidad de estudiantes que perdieron en el  2012  del programa  22 Fueron:  6 \n",
            "\n",
            "En el año  2012 el programa  22  tuvo una  mortalidad de  33.33 % \n",
            "\n",
            "##################################################################### \n",
            "\n"
          ],
          "name": "stdout"
        }
      ]
    },
    {
      "cell_type": "code",
      "metadata": {
        "id": "1atZoihUV7LC",
        "outputId": "b91646db-911d-4980-f290-33b4457387ec"
      },
      "source": [
        "#####################################################################################################################\n",
        "###################################### -METODO PARAMETRIZADO- #######################################################\n",
        "\n",
        "############## Tasa de mortalidad año, semestre, programa\n",
        "\n",
        "\n",
        "############### Consulta SQL\n",
        "queryperdidosproprograma = 'SELECT * FROM tbInformacion WHERE  codProgramaAcademico = '+ str(codigoProg) + ' AND definitivaDis = \"Insuficiente\" OR \"Deficiente\"'\n",
        "\n",
        "########################################### Algoritmo para los datos\n",
        "\n",
        "querylimiteprograma = pd.read_sql_query(queryperdidosproprograma, connection)\n",
        "#obteniedo el año inicial y el año final\n",
        "limiteinicialprograma = np.min(querylimiteprograma.Anio)\n",
        "limiteFinalprograma = np.max(querylimiteprograma.Anio)\n",
        "#obteniendo la cantidad de años\n",
        "iteracionesprograma = limiteFinalprograma - limiteinicialprograma\n",
        "\n",
        "\n",
        "anioIterableprograma = limiteinicialprograma\n",
        "arrgMortalidadprograma = []\n",
        "arrgAnioprograma = []\n",
        "print('#####################################################################','\\n')\n",
        "for c in range(0,iteracionesprograma):\n",
        "    \n",
        "    queryMortalidadProPrograma = 'SELECT * FROM tbInformacion WHERE Anio = '+str(anioIterableprograma) + ' AND codProgramaAcademico = '+ str(codigoProg)\n",
        "    \n",
        "    queryperdidosproPrograma = 'SELECT * FROM tbInformacion WHERE Anio = '+str(anioIterableprograma) + ' AND codProgramaAcademico = '+ str(codigoProg) + ' AND definitivaDis = \"Insuficiente\" OR \"Deficiente\"'\n",
        "    \n",
        "\n",
        "    datamortalidadproPrograma = pd.read_sql_query(queryMortalidadProPrograma, connection)\n",
        "    dataperdidosproPrograma = pd.read_sql_query(queryperdidosproPrograma,connection)\n",
        "    \n",
        "    cantPprograma = len(dataperdidosproPrograma)\n",
        "    cursadosproprograma = len(datamortalidadproPrograma)\n",
        "    perdidosproprograma = len(queryperdidosproPrograma)\n",
        "    \n",
        "    if  cursadosproprograma == 0 :\n",
        "        print(\"No hay Registros para este año con este Programa Academico\",'\\n')\n",
        "    elif cursadosproprograma == 1 :\n",
        "        print(\"No se puede hacer el estudio de la mortalidad en el año\", anioIterableprograma, \"porque solo tenemos un registro :(\",'\\n')\n",
        "\n",
        "    else:\n",
        "        \n",
        "        print( \"Cantidad de estudiantes que perdieron en el \", anioIterableprograma ,\" del Programa \", codigoProg , \"Fueron: \", cantPprograma)\n",
        "        \n",
        "        mortalidadprograma = (cantPprograma/cursadosproprograma)*100\n",
        "\n",
        "        print(\"En el año \",anioIterableprograma,\"en la asignatura \",codigoAsig,\"la mortalidad fue de \", \"{:.2f}\".format(mortalidadprograma), \"%\", '\\n') \n",
        "        print('#####################################################################','\\n') \n",
        "        \n",
        "        arrgAnioprograma.append(anioIterableprograma)\n",
        "        arrgMortalidadprograma.append(mortalidadprograma)\n",
        "\n",
        "              \n",
        "    anioIterableprograma+=1\n",
        "\n",
        "graficados = pd.DataFrame({'anio': arrgAnioprograma, 'tasa_letalidad': arrgMortalidadprograma})"
      ],
      "execution_count": null,
      "outputs": [
        {
          "output_type": "stream",
          "text": [
            "##################################################################### \n",
            "\n",
            "Cantidad de estudiantes que perdieron en el  2012  del Programa  22 Fueron:  6\n",
            "En el año  2012 en la asignatura  4153 la mortalidad fue de  33.33 % \n",
            "\n",
            "##################################################################### \n",
            "\n",
            "Cantidad de estudiantes que perdieron en el  2013  del Programa  22 Fueron:  4\n",
            "En el año  2013 en la asignatura  4153 la mortalidad fue de  33.33 % \n",
            "\n",
            "##################################################################### \n",
            "\n",
            "Cantidad de estudiantes que perdieron en el  2014  del Programa  22 Fueron:  12\n",
            "En el año  2014 en la asignatura  4153 la mortalidad fue de  14.12 % \n",
            "\n",
            "##################################################################### \n",
            "\n",
            "Cantidad de estudiantes que perdieron en el  2015  del Programa  22 Fueron:  17\n",
            "En el año  2015 en la asignatura  4153 la mortalidad fue de  6.30 % \n",
            "\n",
            "##################################################################### \n",
            "\n",
            "Cantidad de estudiantes que perdieron en el  2016  del Programa  22 Fueron:  38\n",
            "En el año  2016 en la asignatura  4153 la mortalidad fue de  8.86 % \n",
            "\n",
            "##################################################################### \n",
            "\n"
          ],
          "name": "stdout"
        }
      ]
    },
    {
      "cell_type": "code",
      "metadata": {
        "id": "Ei2fhK0PV7LE",
        "outputId": "081a0ce0-76ac-4841-93a1-d99d075ee0ab"
      },
      "source": [
        "N=len(graficados)\n",
        "X=np.zeros([N,1])\n",
        "Y=np.zeros([N,1])\n",
        "X[:,0]=graficados.anio\n",
        "Y[:,0]=graficados.tasa_letalidad\n",
        "\n",
        "plt.figure()\n",
        "plt.plot(X,Y)\n",
        "plt.grid()\n",
        "plt.title('Mortalidad al año por programa')\n",
        "plt.xlabel('Año Academico (t)')\n",
        "plt.ylabel('Tasa Mortalidad Programa (%)')\n",
        "plt.show()"
      ],
      "execution_count": null,
      "outputs": [
        {
          "output_type": "display_data",
          "data": {
            "text/plain": [
              "<Figure size 432x288 with 1 Axes>"
            ],
            "image/svg+xml": "<?xml version=\"1.0\" encoding=\"utf-8\" standalone=\"no\"?>\n<!DOCTYPE svg PUBLIC \"-//W3C//DTD SVG 1.1//EN\"\n  \"http://www.w3.org/Graphics/SVG/1.1/DTD/svg11.dtd\">\n<!-- Created with matplotlib (https://matplotlib.org/) -->\n<svg height=\"277.51875pt\" version=\"1.1\" viewBox=\"0 0 384.880256 277.51875\" width=\"384.880256pt\" xmlns=\"http://www.w3.org/2000/svg\" xmlns:xlink=\"http://www.w3.org/1999/xlink\">\n <metadata>\n  <rdf:RDF xmlns:cc=\"http://creativecommons.org/ns#\" xmlns:dc=\"http://purl.org/dc/elements/1.1/\" xmlns:rdf=\"http://www.w3.org/1999/02/22-rdf-syntax-ns#\">\n   <cc:Work>\n    <dc:type rdf:resource=\"http://purl.org/dc/dcmitype/StillImage\"/>\n    <dc:date>2020-11-24T17:28:24.878907</dc:date>\n    <dc:format>image/svg+xml</dc:format>\n    <dc:creator>\n     <cc:Agent>\n      <dc:title>Matplotlib v3.3.2, https://matplotlib.org/</dc:title>\n     </cc:Agent>\n    </dc:creator>\n   </cc:Work>\n  </rdf:RDF>\n </metadata>\n <defs>\n  <style type=\"text/css\">*{stroke-linecap:butt;stroke-linejoin:round;}</style>\n </defs>\n <g id=\"figure_1\">\n  <g id=\"patch_1\">\n   <path d=\"M 0 277.51875 \nL 384.880256 277.51875 \nL 384.880256 0 \nL 0 0 \nz\n\" style=\"fill:none;\"/>\n  </g>\n  <g id=\"axes_1\">\n   <g id=\"patch_2\">\n    <path d=\"M 40.603125 239.9625 \nL 375.403125 239.9625 \nL 375.403125 22.5225 \nL 40.603125 22.5225 \nz\n\" style=\"fill:#ffffff;\"/>\n   </g>\n   <g id=\"matplotlib.axis_1\">\n    <g id=\"xtick_1\">\n     <g id=\"line2d_1\">\n      <path clip-path=\"url(#pb045a48850)\" d=\"M 55.821307 239.9625 \nL 55.821307 22.5225 \n\" style=\"fill:none;stroke:#b0b0b0;stroke-linecap:square;stroke-width:0.8;\"/>\n     </g>\n     <g id=\"line2d_2\">\n      <defs>\n       <path d=\"M 0 0 \nL 0 3.5 \n\" id=\"mb8d9d88d84\" style=\"stroke:#000000;stroke-width:0.8;\"/>\n      </defs>\n      <g>\n       <use style=\"stroke:#000000;stroke-width:0.8;\" x=\"55.821307\" xlink:href=\"#mb8d9d88d84\" y=\"239.9625\"/>\n      </g>\n     </g>\n     <g id=\"text_1\">\n      <!-- 2012.0 -->\n      <g transform=\"translate(38.325994 254.560937)scale(0.1 -0.1)\">\n       <defs>\n        <path d=\"M 19.1875 8.296875 \nL 53.609375 8.296875 \nL 53.609375 0 \nL 7.328125 0 \nL 7.328125 8.296875 \nQ 12.9375 14.109375 22.625 23.890625 \nQ 32.328125 33.6875 34.8125 36.53125 \nQ 39.546875 41.84375 41.421875 45.53125 \nQ 43.3125 49.21875 43.3125 52.78125 \nQ 43.3125 58.59375 39.234375 62.25 \nQ 35.15625 65.921875 28.609375 65.921875 \nQ 23.96875 65.921875 18.8125 64.3125 \nQ 13.671875 62.703125 7.8125 59.421875 \nL 7.8125 69.390625 \nQ 13.765625 71.78125 18.9375 73 \nQ 24.125 74.21875 28.421875 74.21875 \nQ 39.75 74.21875 46.484375 68.546875 \nQ 53.21875 62.890625 53.21875 53.421875 \nQ 53.21875 48.921875 51.53125 44.890625 \nQ 49.859375 40.875 45.40625 35.40625 \nQ 44.1875 33.984375 37.640625 27.21875 \nQ 31.109375 20.453125 19.1875 8.296875 \nz\n\" id=\"DejaVuSans-50\"/>\n        <path d=\"M 31.78125 66.40625 \nQ 24.171875 66.40625 20.328125 58.90625 \nQ 16.5 51.421875 16.5 36.375 \nQ 16.5 21.390625 20.328125 13.890625 \nQ 24.171875 6.390625 31.78125 6.390625 \nQ 39.453125 6.390625 43.28125 13.890625 \nQ 47.125 21.390625 47.125 36.375 \nQ 47.125 51.421875 43.28125 58.90625 \nQ 39.453125 66.40625 31.78125 66.40625 \nz\nM 31.78125 74.21875 \nQ 44.046875 74.21875 50.515625 64.515625 \nQ 56.984375 54.828125 56.984375 36.375 \nQ 56.984375 17.96875 50.515625 8.265625 \nQ 44.046875 -1.421875 31.78125 -1.421875 \nQ 19.53125 -1.421875 13.0625 8.265625 \nQ 6.59375 17.96875 6.59375 36.375 \nQ 6.59375 54.828125 13.0625 64.515625 \nQ 19.53125 74.21875 31.78125 74.21875 \nz\n\" id=\"DejaVuSans-48\"/>\n        <path d=\"M 12.40625 8.296875 \nL 28.515625 8.296875 \nL 28.515625 63.921875 \nL 10.984375 60.40625 \nL 10.984375 69.390625 \nL 28.421875 72.90625 \nL 38.28125 72.90625 \nL 38.28125 8.296875 \nL 54.390625 8.296875 \nL 54.390625 0 \nL 12.40625 0 \nz\n\" id=\"DejaVuSans-49\"/>\n        <path d=\"M 10.6875 12.40625 \nL 21 12.40625 \nL 21 0 \nL 10.6875 0 \nz\n\" id=\"DejaVuSans-46\"/>\n       </defs>\n       <use xlink:href=\"#DejaVuSans-50\"/>\n       <use x=\"63.623047\" xlink:href=\"#DejaVuSans-48\"/>\n       <use x=\"127.246094\" xlink:href=\"#DejaVuSans-49\"/>\n       <use x=\"190.869141\" xlink:href=\"#DejaVuSans-50\"/>\n       <use x=\"254.492188\" xlink:href=\"#DejaVuSans-46\"/>\n       <use x=\"286.279297\" xlink:href=\"#DejaVuSans-48\"/>\n      </g>\n     </g>\n    </g>\n    <g id=\"xtick_2\">\n     <g id=\"line2d_3\">\n      <path clip-path=\"url(#pb045a48850)\" d=\"M 93.866761 239.9625 \nL 93.866761 22.5225 \n\" style=\"fill:none;stroke:#b0b0b0;stroke-linecap:square;stroke-width:0.8;\"/>\n     </g>\n     <g id=\"line2d_4\">\n      <g>\n       <use style=\"stroke:#000000;stroke-width:0.8;\" x=\"93.866761\" xlink:href=\"#mb8d9d88d84\" y=\"239.9625\"/>\n      </g>\n     </g>\n     <g id=\"text_2\">\n      <!-- 2012.5 -->\n      <g transform=\"translate(76.371449 254.560937)scale(0.1 -0.1)\">\n       <defs>\n        <path d=\"M 10.796875 72.90625 \nL 49.515625 72.90625 \nL 49.515625 64.59375 \nL 19.828125 64.59375 \nL 19.828125 46.734375 \nQ 21.96875 47.46875 24.109375 47.828125 \nQ 26.265625 48.1875 28.421875 48.1875 \nQ 40.625 48.1875 47.75 41.5 \nQ 54.890625 34.8125 54.890625 23.390625 \nQ 54.890625 11.625 47.5625 5.09375 \nQ 40.234375 -1.421875 26.90625 -1.421875 \nQ 22.3125 -1.421875 17.546875 -0.640625 \nQ 12.796875 0.140625 7.71875 1.703125 \nL 7.71875 11.625 \nQ 12.109375 9.234375 16.796875 8.0625 \nQ 21.484375 6.890625 26.703125 6.890625 \nQ 35.15625 6.890625 40.078125 11.328125 \nQ 45.015625 15.765625 45.015625 23.390625 \nQ 45.015625 31 40.078125 35.4375 \nQ 35.15625 39.890625 26.703125 39.890625 \nQ 22.75 39.890625 18.8125 39.015625 \nQ 14.890625 38.140625 10.796875 36.28125 \nz\n\" id=\"DejaVuSans-53\"/>\n       </defs>\n       <use xlink:href=\"#DejaVuSans-50\"/>\n       <use x=\"63.623047\" xlink:href=\"#DejaVuSans-48\"/>\n       <use x=\"127.246094\" xlink:href=\"#DejaVuSans-49\"/>\n       <use x=\"190.869141\" xlink:href=\"#DejaVuSans-50\"/>\n       <use x=\"254.492188\" xlink:href=\"#DejaVuSans-46\"/>\n       <use x=\"286.279297\" xlink:href=\"#DejaVuSans-53\"/>\n      </g>\n     </g>\n    </g>\n    <g id=\"xtick_3\">\n     <g id=\"line2d_5\">\n      <path clip-path=\"url(#pb045a48850)\" d=\"M 131.912216 239.9625 \nL 131.912216 22.5225 \n\" style=\"fill:none;stroke:#b0b0b0;stroke-linecap:square;stroke-width:0.8;\"/>\n     </g>\n     <g id=\"line2d_6\">\n      <g>\n       <use style=\"stroke:#000000;stroke-width:0.8;\" x=\"131.912216\" xlink:href=\"#mb8d9d88d84\" y=\"239.9625\"/>\n      </g>\n     </g>\n     <g id=\"text_3\">\n      <!-- 2013.0 -->\n      <g transform=\"translate(114.416903 254.560937)scale(0.1 -0.1)\">\n       <defs>\n        <path d=\"M 40.578125 39.3125 \nQ 47.65625 37.796875 51.625 33 \nQ 55.609375 28.21875 55.609375 21.1875 \nQ 55.609375 10.40625 48.1875 4.484375 \nQ 40.765625 -1.421875 27.09375 -1.421875 \nQ 22.515625 -1.421875 17.65625 -0.515625 \nQ 12.796875 0.390625 7.625 2.203125 \nL 7.625 11.71875 \nQ 11.71875 9.328125 16.59375 8.109375 \nQ 21.484375 6.890625 26.8125 6.890625 \nQ 36.078125 6.890625 40.9375 10.546875 \nQ 45.796875 14.203125 45.796875 21.1875 \nQ 45.796875 27.640625 41.28125 31.265625 \nQ 36.765625 34.90625 28.71875 34.90625 \nL 20.21875 34.90625 \nL 20.21875 43.015625 \nL 29.109375 43.015625 \nQ 36.375 43.015625 40.234375 45.921875 \nQ 44.09375 48.828125 44.09375 54.296875 \nQ 44.09375 59.90625 40.109375 62.90625 \nQ 36.140625 65.921875 28.71875 65.921875 \nQ 24.65625 65.921875 20.015625 65.03125 \nQ 15.375 64.15625 9.8125 62.3125 \nL 9.8125 71.09375 \nQ 15.4375 72.65625 20.34375 73.4375 \nQ 25.25 74.21875 29.59375 74.21875 \nQ 40.828125 74.21875 47.359375 69.109375 \nQ 53.90625 64.015625 53.90625 55.328125 \nQ 53.90625 49.265625 50.4375 45.09375 \nQ 46.96875 40.921875 40.578125 39.3125 \nz\n\" id=\"DejaVuSans-51\"/>\n       </defs>\n       <use xlink:href=\"#DejaVuSans-50\"/>\n       <use x=\"63.623047\" xlink:href=\"#DejaVuSans-48\"/>\n       <use x=\"127.246094\" xlink:href=\"#DejaVuSans-49\"/>\n       <use x=\"190.869141\" xlink:href=\"#DejaVuSans-51\"/>\n       <use x=\"254.492188\" xlink:href=\"#DejaVuSans-46\"/>\n       <use x=\"286.279297\" xlink:href=\"#DejaVuSans-48\"/>\n      </g>\n     </g>\n    </g>\n    <g id=\"xtick_4\">\n     <g id=\"line2d_7\">\n      <path clip-path=\"url(#pb045a48850)\" d=\"M 169.95767 239.9625 \nL 169.95767 22.5225 \n\" style=\"fill:none;stroke:#b0b0b0;stroke-linecap:square;stroke-width:0.8;\"/>\n     </g>\n     <g id=\"line2d_8\">\n      <g>\n       <use style=\"stroke:#000000;stroke-width:0.8;\" x=\"169.95767\" xlink:href=\"#mb8d9d88d84\" y=\"239.9625\"/>\n      </g>\n     </g>\n     <g id=\"text_4\">\n      <!-- 2013.5 -->\n      <g transform=\"translate(152.462358 254.560937)scale(0.1 -0.1)\">\n       <use xlink:href=\"#DejaVuSans-50\"/>\n       <use x=\"63.623047\" xlink:href=\"#DejaVuSans-48\"/>\n       <use x=\"127.246094\" xlink:href=\"#DejaVuSans-49\"/>\n       <use x=\"190.869141\" xlink:href=\"#DejaVuSans-51\"/>\n       <use x=\"254.492188\" xlink:href=\"#DejaVuSans-46\"/>\n       <use x=\"286.279297\" xlink:href=\"#DejaVuSans-53\"/>\n      </g>\n     </g>\n    </g>\n    <g id=\"xtick_5\">\n     <g id=\"line2d_9\">\n      <path clip-path=\"url(#pb045a48850)\" d=\"M 208.003125 239.9625 \nL 208.003125 22.5225 \n\" style=\"fill:none;stroke:#b0b0b0;stroke-linecap:square;stroke-width:0.8;\"/>\n     </g>\n     <g id=\"line2d_10\">\n      <g>\n       <use style=\"stroke:#000000;stroke-width:0.8;\" x=\"208.003125\" xlink:href=\"#mb8d9d88d84\" y=\"239.9625\"/>\n      </g>\n     </g>\n     <g id=\"text_5\">\n      <!-- 2014.0 -->\n      <g transform=\"translate(190.507812 254.560937)scale(0.1 -0.1)\">\n       <defs>\n        <path d=\"M 37.796875 64.3125 \nL 12.890625 25.390625 \nL 37.796875 25.390625 \nz\nM 35.203125 72.90625 \nL 47.609375 72.90625 \nL 47.609375 25.390625 \nL 58.015625 25.390625 \nL 58.015625 17.1875 \nL 47.609375 17.1875 \nL 47.609375 0 \nL 37.796875 0 \nL 37.796875 17.1875 \nL 4.890625 17.1875 \nL 4.890625 26.703125 \nz\n\" id=\"DejaVuSans-52\"/>\n       </defs>\n       <use xlink:href=\"#DejaVuSans-50\"/>\n       <use x=\"63.623047\" xlink:href=\"#DejaVuSans-48\"/>\n       <use x=\"127.246094\" xlink:href=\"#DejaVuSans-49\"/>\n       <use x=\"190.869141\" xlink:href=\"#DejaVuSans-52\"/>\n       <use x=\"254.492188\" xlink:href=\"#DejaVuSans-46\"/>\n       <use x=\"286.279297\" xlink:href=\"#DejaVuSans-48\"/>\n      </g>\n     </g>\n    </g>\n    <g id=\"xtick_6\">\n     <g id=\"line2d_11\">\n      <path clip-path=\"url(#pb045a48850)\" d=\"M 246.04858 239.9625 \nL 246.04858 22.5225 \n\" style=\"fill:none;stroke:#b0b0b0;stroke-linecap:square;stroke-width:0.8;\"/>\n     </g>\n     <g id=\"line2d_12\">\n      <g>\n       <use style=\"stroke:#000000;stroke-width:0.8;\" x=\"246.04858\" xlink:href=\"#mb8d9d88d84\" y=\"239.9625\"/>\n      </g>\n     </g>\n     <g id=\"text_6\">\n      <!-- 2014.5 -->\n      <g transform=\"translate(228.553267 254.560937)scale(0.1 -0.1)\">\n       <use xlink:href=\"#DejaVuSans-50\"/>\n       <use x=\"63.623047\" xlink:href=\"#DejaVuSans-48\"/>\n       <use x=\"127.246094\" xlink:href=\"#DejaVuSans-49\"/>\n       <use x=\"190.869141\" xlink:href=\"#DejaVuSans-52\"/>\n       <use x=\"254.492188\" xlink:href=\"#DejaVuSans-46\"/>\n       <use x=\"286.279297\" xlink:href=\"#DejaVuSans-53\"/>\n      </g>\n     </g>\n    </g>\n    <g id=\"xtick_7\">\n     <g id=\"line2d_13\">\n      <path clip-path=\"url(#pb045a48850)\" d=\"M 284.094034 239.9625 \nL 284.094034 22.5225 \n\" style=\"fill:none;stroke:#b0b0b0;stroke-linecap:square;stroke-width:0.8;\"/>\n     </g>\n     <g id=\"line2d_14\">\n      <g>\n       <use style=\"stroke:#000000;stroke-width:0.8;\" x=\"284.094034\" xlink:href=\"#mb8d9d88d84\" y=\"239.9625\"/>\n      </g>\n     </g>\n     <g id=\"text_7\">\n      <!-- 2015.0 -->\n      <g transform=\"translate(266.598722 254.560937)scale(0.1 -0.1)\">\n       <use xlink:href=\"#DejaVuSans-50\"/>\n       <use x=\"63.623047\" xlink:href=\"#DejaVuSans-48\"/>\n       <use x=\"127.246094\" xlink:href=\"#DejaVuSans-49\"/>\n       <use x=\"190.869141\" xlink:href=\"#DejaVuSans-53\"/>\n       <use x=\"254.492188\" xlink:href=\"#DejaVuSans-46\"/>\n       <use x=\"286.279297\" xlink:href=\"#DejaVuSans-48\"/>\n      </g>\n     </g>\n    </g>\n    <g id=\"xtick_8\">\n     <g id=\"line2d_15\">\n      <path clip-path=\"url(#pb045a48850)\" d=\"M 322.139489 239.9625 \nL 322.139489 22.5225 \n\" style=\"fill:none;stroke:#b0b0b0;stroke-linecap:square;stroke-width:0.8;\"/>\n     </g>\n     <g id=\"line2d_16\">\n      <g>\n       <use style=\"stroke:#000000;stroke-width:0.8;\" x=\"322.139489\" xlink:href=\"#mb8d9d88d84\" y=\"239.9625\"/>\n      </g>\n     </g>\n     <g id=\"text_8\">\n      <!-- 2015.5 -->\n      <g transform=\"translate(304.644176 254.560937)scale(0.1 -0.1)\">\n       <use xlink:href=\"#DejaVuSans-50\"/>\n       <use x=\"63.623047\" xlink:href=\"#DejaVuSans-48\"/>\n       <use x=\"127.246094\" xlink:href=\"#DejaVuSans-49\"/>\n       <use x=\"190.869141\" xlink:href=\"#DejaVuSans-53\"/>\n       <use x=\"254.492188\" xlink:href=\"#DejaVuSans-46\"/>\n       <use x=\"286.279297\" xlink:href=\"#DejaVuSans-53\"/>\n      </g>\n     </g>\n    </g>\n    <g id=\"xtick_9\">\n     <g id=\"line2d_17\">\n      <path clip-path=\"url(#pb045a48850)\" d=\"M 360.184943 239.9625 \nL 360.184943 22.5225 \n\" style=\"fill:none;stroke:#b0b0b0;stroke-linecap:square;stroke-width:0.8;\"/>\n     </g>\n     <g id=\"line2d_18\">\n      <g>\n       <use style=\"stroke:#000000;stroke-width:0.8;\" x=\"360.184943\" xlink:href=\"#mb8d9d88d84\" y=\"239.9625\"/>\n      </g>\n     </g>\n     <g id=\"text_9\">\n      <!-- 2016.0 -->\n      <g transform=\"translate(342.689631 254.560937)scale(0.1 -0.1)\">\n       <defs>\n        <path d=\"M 33.015625 40.375 \nQ 26.375 40.375 22.484375 35.828125 \nQ 18.609375 31.296875 18.609375 23.390625 \nQ 18.609375 15.53125 22.484375 10.953125 \nQ 26.375 6.390625 33.015625 6.390625 \nQ 39.65625 6.390625 43.53125 10.953125 \nQ 47.40625 15.53125 47.40625 23.390625 \nQ 47.40625 31.296875 43.53125 35.828125 \nQ 39.65625 40.375 33.015625 40.375 \nz\nM 52.59375 71.296875 \nL 52.59375 62.3125 \nQ 48.875 64.0625 45.09375 64.984375 \nQ 41.3125 65.921875 37.59375 65.921875 \nQ 27.828125 65.921875 22.671875 59.328125 \nQ 17.53125 52.734375 16.796875 39.40625 \nQ 19.671875 43.65625 24.015625 45.921875 \nQ 28.375 48.1875 33.59375 48.1875 \nQ 44.578125 48.1875 50.953125 41.515625 \nQ 57.328125 34.859375 57.328125 23.390625 \nQ 57.328125 12.15625 50.6875 5.359375 \nQ 44.046875 -1.421875 33.015625 -1.421875 \nQ 20.359375 -1.421875 13.671875 8.265625 \nQ 6.984375 17.96875 6.984375 36.375 \nQ 6.984375 53.65625 15.1875 63.9375 \nQ 23.390625 74.21875 37.203125 74.21875 \nQ 40.921875 74.21875 44.703125 73.484375 \nQ 48.484375 72.75 52.59375 71.296875 \nz\n\" id=\"DejaVuSans-54\"/>\n       </defs>\n       <use xlink:href=\"#DejaVuSans-50\"/>\n       <use x=\"63.623047\" xlink:href=\"#DejaVuSans-48\"/>\n       <use x=\"127.246094\" xlink:href=\"#DejaVuSans-49\"/>\n       <use x=\"190.869141\" xlink:href=\"#DejaVuSans-54\"/>\n       <use x=\"254.492188\" xlink:href=\"#DejaVuSans-46\"/>\n       <use x=\"286.279297\" xlink:href=\"#DejaVuSans-48\"/>\n      </g>\n     </g>\n    </g>\n    <g id=\"text_10\">\n     <!-- Año Academico (t) -->\n     <g transform=\"translate(161.85 268.239062)scale(0.1 -0.1)\">\n      <defs>\n       <path d=\"M 34.1875 63.1875 \nL 20.796875 26.90625 \nL 47.609375 26.90625 \nz\nM 28.609375 72.90625 \nL 39.796875 72.90625 \nL 67.578125 0 \nL 57.328125 0 \nL 50.6875 18.703125 \nL 17.828125 18.703125 \nL 11.1875 0 \nL 0.78125 0 \nz\n\" id=\"DejaVuSans-65\"/>\n       <path d=\"M 54.890625 33.015625 \nL 54.890625 0 \nL 45.90625 0 \nL 45.90625 32.71875 \nQ 45.90625 40.484375 42.875 44.328125 \nQ 39.84375 48.1875 33.796875 48.1875 \nQ 26.515625 48.1875 22.3125 43.546875 \nQ 18.109375 38.921875 18.109375 30.90625 \nL 18.109375 0 \nL 9.078125 0 \nL 9.078125 54.6875 \nL 18.109375 54.6875 \nL 18.109375 46.1875 \nQ 21.34375 51.125 25.703125 53.5625 \nQ 30.078125 56 35.796875 56 \nQ 45.21875 56 50.046875 50.171875 \nQ 54.890625 44.34375 54.890625 33.015625 \nz\nM 32.234375 66.890625 \nL 29.4375 69.578125 \nQ 28.375 70.5625 27.5625 71.015625 \nQ 26.765625 71.484375 26.125 71.484375 \nQ 24.265625 71.484375 23.390625 69.703125 \nQ 22.515625 67.921875 22.40625 63.921875 \nL 16.3125 63.921875 \nQ 16.40625 70.515625 18.890625 74.09375 \nQ 21.390625 77.6875 25.828125 77.6875 \nQ 27.6875 77.6875 29.25 77 \nQ 30.8125 76.3125 32.625 74.703125 \nL 35.40625 72.015625 \nQ 36.46875 71.046875 37.28125 70.578125 \nQ 38.09375 70.125 38.71875 70.125 \nQ 40.578125 70.125 41.453125 71.90625 \nQ 42.328125 73.6875 42.4375 77.6875 \nL 48.53125 77.6875 \nQ 48.4375 71.09375 45.9375 67.5 \nQ 43.453125 63.921875 39.015625 63.921875 \nQ 37.15625 63.921875 35.59375 64.59375 \nQ 34.03125 65.28125 32.234375 66.890625 \nz\n\" id=\"DejaVuSans-241\"/>\n       <path d=\"M 30.609375 48.390625 \nQ 23.390625 48.390625 19.1875 42.75 \nQ 14.984375 37.109375 14.984375 27.296875 \nQ 14.984375 17.484375 19.15625 11.84375 \nQ 23.34375 6.203125 30.609375 6.203125 \nQ 37.796875 6.203125 41.984375 11.859375 \nQ 46.1875 17.53125 46.1875 27.296875 \nQ 46.1875 37.015625 41.984375 42.703125 \nQ 37.796875 48.390625 30.609375 48.390625 \nz\nM 30.609375 56 \nQ 42.328125 56 49.015625 48.375 \nQ 55.71875 40.765625 55.71875 27.296875 \nQ 55.71875 13.875 49.015625 6.21875 \nQ 42.328125 -1.421875 30.609375 -1.421875 \nQ 18.84375 -1.421875 12.171875 6.21875 \nQ 5.515625 13.875 5.515625 27.296875 \nQ 5.515625 40.765625 12.171875 48.375 \nQ 18.84375 56 30.609375 56 \nz\n\" id=\"DejaVuSans-111\"/>\n       <path id=\"DejaVuSans-32\"/>\n       <path d=\"M 48.78125 52.59375 \nL 48.78125 44.1875 \nQ 44.96875 46.296875 41.140625 47.34375 \nQ 37.3125 48.390625 33.40625 48.390625 \nQ 24.65625 48.390625 19.8125 42.84375 \nQ 14.984375 37.3125 14.984375 27.296875 \nQ 14.984375 17.28125 19.8125 11.734375 \nQ 24.65625 6.203125 33.40625 6.203125 \nQ 37.3125 6.203125 41.140625 7.25 \nQ 44.96875 8.296875 48.78125 10.40625 \nL 48.78125 2.09375 \nQ 45.015625 0.34375 40.984375 -0.53125 \nQ 36.96875 -1.421875 32.421875 -1.421875 \nQ 20.0625 -1.421875 12.78125 6.34375 \nQ 5.515625 14.109375 5.515625 27.296875 \nQ 5.515625 40.671875 12.859375 48.328125 \nQ 20.21875 56 33.015625 56 \nQ 37.15625 56 41.109375 55.140625 \nQ 45.0625 54.296875 48.78125 52.59375 \nz\n\" id=\"DejaVuSans-99\"/>\n       <path d=\"M 34.28125 27.484375 \nQ 23.390625 27.484375 19.1875 25 \nQ 14.984375 22.515625 14.984375 16.5 \nQ 14.984375 11.71875 18.140625 8.90625 \nQ 21.296875 6.109375 26.703125 6.109375 \nQ 34.1875 6.109375 38.703125 11.40625 \nQ 43.21875 16.703125 43.21875 25.484375 \nL 43.21875 27.484375 \nz\nM 52.203125 31.203125 \nL 52.203125 0 \nL 43.21875 0 \nL 43.21875 8.296875 \nQ 40.140625 3.328125 35.546875 0.953125 \nQ 30.953125 -1.421875 24.3125 -1.421875 \nQ 15.921875 -1.421875 10.953125 3.296875 \nQ 6 8.015625 6 15.921875 \nQ 6 25.140625 12.171875 29.828125 \nQ 18.359375 34.515625 30.609375 34.515625 \nL 43.21875 34.515625 \nL 43.21875 35.40625 \nQ 43.21875 41.609375 39.140625 45 \nQ 35.0625 48.390625 27.6875 48.390625 \nQ 23 48.390625 18.546875 47.265625 \nQ 14.109375 46.140625 10.015625 43.890625 \nL 10.015625 52.203125 \nQ 14.9375 54.109375 19.578125 55.046875 \nQ 24.21875 56 28.609375 56 \nQ 40.484375 56 46.34375 49.84375 \nQ 52.203125 43.703125 52.203125 31.203125 \nz\n\" id=\"DejaVuSans-97\"/>\n       <path d=\"M 45.40625 46.390625 \nL 45.40625 75.984375 \nL 54.390625 75.984375 \nL 54.390625 0 \nL 45.40625 0 \nL 45.40625 8.203125 \nQ 42.578125 3.328125 38.25 0.953125 \nQ 33.9375 -1.421875 27.875 -1.421875 \nQ 17.96875 -1.421875 11.734375 6.484375 \nQ 5.515625 14.40625 5.515625 27.296875 \nQ 5.515625 40.1875 11.734375 48.09375 \nQ 17.96875 56 27.875 56 \nQ 33.9375 56 38.25 53.625 \nQ 42.578125 51.265625 45.40625 46.390625 \nz\nM 14.796875 27.296875 \nQ 14.796875 17.390625 18.875 11.75 \nQ 22.953125 6.109375 30.078125 6.109375 \nQ 37.203125 6.109375 41.296875 11.75 \nQ 45.40625 17.390625 45.40625 27.296875 \nQ 45.40625 37.203125 41.296875 42.84375 \nQ 37.203125 48.484375 30.078125 48.484375 \nQ 22.953125 48.484375 18.875 42.84375 \nQ 14.796875 37.203125 14.796875 27.296875 \nz\n\" id=\"DejaVuSans-100\"/>\n       <path d=\"M 56.203125 29.59375 \nL 56.203125 25.203125 \nL 14.890625 25.203125 \nQ 15.484375 15.921875 20.484375 11.0625 \nQ 25.484375 6.203125 34.421875 6.203125 \nQ 39.59375 6.203125 44.453125 7.46875 \nQ 49.3125 8.734375 54.109375 11.28125 \nL 54.109375 2.78125 \nQ 49.265625 0.734375 44.1875 -0.34375 \nQ 39.109375 -1.421875 33.890625 -1.421875 \nQ 20.796875 -1.421875 13.15625 6.1875 \nQ 5.515625 13.8125 5.515625 26.8125 \nQ 5.515625 40.234375 12.765625 48.109375 \nQ 20.015625 56 32.328125 56 \nQ 43.359375 56 49.78125 48.890625 \nQ 56.203125 41.796875 56.203125 29.59375 \nz\nM 47.21875 32.234375 \nQ 47.125 39.59375 43.09375 43.984375 \nQ 39.0625 48.390625 32.421875 48.390625 \nQ 24.90625 48.390625 20.390625 44.140625 \nQ 15.875 39.890625 15.1875 32.171875 \nz\n\" id=\"DejaVuSans-101\"/>\n       <path d=\"M 52 44.1875 \nQ 55.375 50.25 60.0625 53.125 \nQ 64.75 56 71.09375 56 \nQ 79.640625 56 84.28125 50.015625 \nQ 88.921875 44.046875 88.921875 33.015625 \nL 88.921875 0 \nL 79.890625 0 \nL 79.890625 32.71875 \nQ 79.890625 40.578125 77.09375 44.375 \nQ 74.3125 48.1875 68.609375 48.1875 \nQ 61.625 48.1875 57.5625 43.546875 \nQ 53.515625 38.921875 53.515625 30.90625 \nL 53.515625 0 \nL 44.484375 0 \nL 44.484375 32.71875 \nQ 44.484375 40.625 41.703125 44.40625 \nQ 38.921875 48.1875 33.109375 48.1875 \nQ 26.21875 48.1875 22.15625 43.53125 \nQ 18.109375 38.875 18.109375 30.90625 \nL 18.109375 0 \nL 9.078125 0 \nL 9.078125 54.6875 \nL 18.109375 54.6875 \nL 18.109375 46.1875 \nQ 21.1875 51.21875 25.484375 53.609375 \nQ 29.78125 56 35.6875 56 \nQ 41.65625 56 45.828125 52.96875 \nQ 50 49.953125 52 44.1875 \nz\n\" id=\"DejaVuSans-109\"/>\n       <path d=\"M 9.421875 54.6875 \nL 18.40625 54.6875 \nL 18.40625 0 \nL 9.421875 0 \nz\nM 9.421875 75.984375 \nL 18.40625 75.984375 \nL 18.40625 64.59375 \nL 9.421875 64.59375 \nz\n\" id=\"DejaVuSans-105\"/>\n       <path d=\"M 31 75.875 \nQ 24.46875 64.65625 21.28125 53.65625 \nQ 18.109375 42.671875 18.109375 31.390625 \nQ 18.109375 20.125 21.3125 9.0625 \nQ 24.515625 -2 31 -13.1875 \nL 23.1875 -13.1875 \nQ 15.875 -1.703125 12.234375 9.375 \nQ 8.59375 20.453125 8.59375 31.390625 \nQ 8.59375 42.28125 12.203125 53.3125 \nQ 15.828125 64.359375 23.1875 75.875 \nz\n\" id=\"DejaVuSans-40\"/>\n       <path d=\"M 18.3125 70.21875 \nL 18.3125 54.6875 \nL 36.8125 54.6875 \nL 36.8125 47.703125 \nL 18.3125 47.703125 \nL 18.3125 18.015625 \nQ 18.3125 11.328125 20.140625 9.421875 \nQ 21.96875 7.515625 27.59375 7.515625 \nL 36.8125 7.515625 \nL 36.8125 0 \nL 27.59375 0 \nQ 17.1875 0 13.234375 3.875 \nQ 9.28125 7.765625 9.28125 18.015625 \nL 9.28125 47.703125 \nL 2.6875 47.703125 \nL 2.6875 54.6875 \nL 9.28125 54.6875 \nL 9.28125 70.21875 \nz\n\" id=\"DejaVuSans-116\"/>\n       <path d=\"M 8.015625 75.875 \nL 15.828125 75.875 \nQ 23.140625 64.359375 26.78125 53.3125 \nQ 30.421875 42.28125 30.421875 31.390625 \nQ 30.421875 20.453125 26.78125 9.375 \nQ 23.140625 -1.703125 15.828125 -13.1875 \nL 8.015625 -13.1875 \nQ 14.5 -2 17.703125 9.0625 \nQ 20.90625 20.125 20.90625 31.390625 \nQ 20.90625 42.671875 17.703125 53.65625 \nQ 14.5 64.65625 8.015625 75.875 \nz\n\" id=\"DejaVuSans-41\"/>\n      </defs>\n      <use xlink:href=\"#DejaVuSans-65\"/>\n      <use x=\"68.408203\" xlink:href=\"#DejaVuSans-241\"/>\n      <use x=\"131.787109\" xlink:href=\"#DejaVuSans-111\"/>\n      <use x=\"192.96875\" xlink:href=\"#DejaVuSans-32\"/>\n      <use x=\"224.755859\" xlink:href=\"#DejaVuSans-65\"/>\n      <use x=\"291.414062\" xlink:href=\"#DejaVuSans-99\"/>\n      <use x=\"346.394531\" xlink:href=\"#DejaVuSans-97\"/>\n      <use x=\"407.673828\" xlink:href=\"#DejaVuSans-100\"/>\n      <use x=\"471.150391\" xlink:href=\"#DejaVuSans-101\"/>\n      <use x=\"532.673828\" xlink:href=\"#DejaVuSans-109\"/>\n      <use x=\"630.085938\" xlink:href=\"#DejaVuSans-105\"/>\n      <use x=\"657.869141\" xlink:href=\"#DejaVuSans-99\"/>\n      <use x=\"712.849609\" xlink:href=\"#DejaVuSans-111\"/>\n      <use x=\"774.03125\" xlink:href=\"#DejaVuSans-32\"/>\n      <use x=\"805.818359\" xlink:href=\"#DejaVuSans-40\"/>\n      <use x=\"844.832031\" xlink:href=\"#DejaVuSans-116\"/>\n      <use x=\"884.041016\" xlink:href=\"#DejaVuSans-41\"/>\n     </g>\n    </g>\n   </g>\n   <g id=\"matplotlib.axis_2\">\n    <g id=\"ytick_1\">\n     <g id=\"line2d_19\">\n      <path clip-path=\"url(#pb045a48850)\" d=\"M 40.603125 239.556323 \nL 375.403125 239.556323 \n\" style=\"fill:none;stroke:#b0b0b0;stroke-linecap:square;stroke-width:0.8;\"/>\n     </g>\n     <g id=\"line2d_20\">\n      <defs>\n       <path d=\"M 0 0 \nL -3.5 0 \n\" id=\"m67fa201821\" style=\"stroke:#000000;stroke-width:0.8;\"/>\n      </defs>\n      <g>\n       <use style=\"stroke:#000000;stroke-width:0.8;\" x=\"40.603125\" xlink:href=\"#m67fa201821\" y=\"239.556323\"/>\n      </g>\n     </g>\n     <g id=\"text_11\">\n      <!-- 5 -->\n      <g transform=\"translate(27.240625 243.355542)scale(0.1 -0.1)\">\n       <use xlink:href=\"#DejaVuSans-53\"/>\n      </g>\n     </g>\n    </g>\n    <g id=\"ytick_2\">\n     <g id=\"line2d_21\">\n      <path clip-path=\"url(#pb045a48850)\" d=\"M 40.603125 203.000408 \nL 375.403125 203.000408 \n\" style=\"fill:none;stroke:#b0b0b0;stroke-linecap:square;stroke-width:0.8;\"/>\n     </g>\n     <g id=\"line2d_22\">\n      <g>\n       <use style=\"stroke:#000000;stroke-width:0.8;\" x=\"40.603125\" xlink:href=\"#m67fa201821\" y=\"203.000408\"/>\n      </g>\n     </g>\n     <g id=\"text_12\">\n      <!-- 10 -->\n      <g transform=\"translate(20.878125 206.799627)scale(0.1 -0.1)\">\n       <use xlink:href=\"#DejaVuSans-49\"/>\n       <use x=\"63.623047\" xlink:href=\"#DejaVuSans-48\"/>\n      </g>\n     </g>\n    </g>\n    <g id=\"ytick_3\">\n     <g id=\"line2d_23\">\n      <path clip-path=\"url(#pb045a48850)\" d=\"M 40.603125 166.444493 \nL 375.403125 166.444493 \n\" style=\"fill:none;stroke:#b0b0b0;stroke-linecap:square;stroke-width:0.8;\"/>\n     </g>\n     <g id=\"line2d_24\">\n      <g>\n       <use style=\"stroke:#000000;stroke-width:0.8;\" x=\"40.603125\" xlink:href=\"#m67fa201821\" y=\"166.444493\"/>\n      </g>\n     </g>\n     <g id=\"text_13\">\n      <!-- 15 -->\n      <g transform=\"translate(20.878125 170.243711)scale(0.1 -0.1)\">\n       <use xlink:href=\"#DejaVuSans-49\"/>\n       <use x=\"63.623047\" xlink:href=\"#DejaVuSans-53\"/>\n      </g>\n     </g>\n    </g>\n    <g id=\"ytick_4\">\n     <g id=\"line2d_25\">\n      <path clip-path=\"url(#pb045a48850)\" d=\"M 40.603125 129.888577 \nL 375.403125 129.888577 \n\" style=\"fill:none;stroke:#b0b0b0;stroke-linecap:square;stroke-width:0.8;\"/>\n     </g>\n     <g id=\"line2d_26\">\n      <g>\n       <use style=\"stroke:#000000;stroke-width:0.8;\" x=\"40.603125\" xlink:href=\"#m67fa201821\" y=\"129.888577\"/>\n      </g>\n     </g>\n     <g id=\"text_14\">\n      <!-- 20 -->\n      <g transform=\"translate(20.878125 133.687796)scale(0.1 -0.1)\">\n       <use xlink:href=\"#DejaVuSans-50\"/>\n       <use x=\"63.623047\" xlink:href=\"#DejaVuSans-48\"/>\n      </g>\n     </g>\n    </g>\n    <g id=\"ytick_5\">\n     <g id=\"line2d_27\">\n      <path clip-path=\"url(#pb045a48850)\" d=\"M 40.603125 93.332662 \nL 375.403125 93.332662 \n\" style=\"fill:none;stroke:#b0b0b0;stroke-linecap:square;stroke-width:0.8;\"/>\n     </g>\n     <g id=\"line2d_28\">\n      <g>\n       <use style=\"stroke:#000000;stroke-width:0.8;\" x=\"40.603125\" xlink:href=\"#m67fa201821\" y=\"93.332662\"/>\n      </g>\n     </g>\n     <g id=\"text_15\">\n      <!-- 25 -->\n      <g transform=\"translate(20.878125 97.131881)scale(0.1 -0.1)\">\n       <use xlink:href=\"#DejaVuSans-50\"/>\n       <use x=\"63.623047\" xlink:href=\"#DejaVuSans-53\"/>\n      </g>\n     </g>\n    </g>\n    <g id=\"ytick_6\">\n     <g id=\"line2d_29\">\n      <path clip-path=\"url(#pb045a48850)\" d=\"M 40.603125 56.776747 \nL 375.403125 56.776747 \n\" style=\"fill:none;stroke:#b0b0b0;stroke-linecap:square;stroke-width:0.8;\"/>\n     </g>\n     <g id=\"line2d_30\">\n      <g>\n       <use style=\"stroke:#000000;stroke-width:0.8;\" x=\"40.603125\" xlink:href=\"#m67fa201821\" y=\"56.776747\"/>\n      </g>\n     </g>\n     <g id=\"text_16\">\n      <!-- 30 -->\n      <g transform=\"translate(20.878125 60.575965)scale(0.1 -0.1)\">\n       <use xlink:href=\"#DejaVuSans-51\"/>\n       <use x=\"63.623047\" xlink:href=\"#DejaVuSans-48\"/>\n      </g>\n     </g>\n    </g>\n    <g id=\"text_17\">\n     <!-- Tasa Mortalidad Programa (%) -->\n     <g transform=\"translate(14.798438 206.425312)rotate(-90)scale(0.1 -0.1)\">\n      <defs>\n       <path d=\"M -0.296875 72.90625 \nL 61.375 72.90625 \nL 61.375 64.59375 \nL 35.5 64.59375 \nL 35.5 0 \nL 25.59375 0 \nL 25.59375 64.59375 \nL -0.296875 64.59375 \nz\n\" id=\"DejaVuSans-84\"/>\n       <path d=\"M 44.28125 53.078125 \nL 44.28125 44.578125 \nQ 40.484375 46.53125 36.375 47.5 \nQ 32.28125 48.484375 27.875 48.484375 \nQ 21.1875 48.484375 17.84375 46.4375 \nQ 14.5 44.390625 14.5 40.28125 \nQ 14.5 37.15625 16.890625 35.375 \nQ 19.28125 33.59375 26.515625 31.984375 \nL 29.59375 31.296875 \nQ 39.15625 29.25 43.1875 25.515625 \nQ 47.21875 21.78125 47.21875 15.09375 \nQ 47.21875 7.46875 41.1875 3.015625 \nQ 35.15625 -1.421875 24.609375 -1.421875 \nQ 20.21875 -1.421875 15.453125 -0.5625 \nQ 10.6875 0.296875 5.421875 2 \nL 5.421875 11.28125 \nQ 10.40625 8.6875 15.234375 7.390625 \nQ 20.0625 6.109375 24.8125 6.109375 \nQ 31.15625 6.109375 34.5625 8.28125 \nQ 37.984375 10.453125 37.984375 14.40625 \nQ 37.984375 18.0625 35.515625 20.015625 \nQ 33.0625 21.96875 24.703125 23.78125 \nL 21.578125 24.515625 \nQ 13.234375 26.265625 9.515625 29.90625 \nQ 5.8125 33.546875 5.8125 39.890625 \nQ 5.8125 47.609375 11.28125 51.796875 \nQ 16.75 56 26.8125 56 \nQ 31.78125 56 36.171875 55.265625 \nQ 40.578125 54.546875 44.28125 53.078125 \nz\n\" id=\"DejaVuSans-115\"/>\n       <path d=\"M 9.8125 72.90625 \nL 24.515625 72.90625 \nL 43.109375 23.296875 \nL 61.8125 72.90625 \nL 76.515625 72.90625 \nL 76.515625 0 \nL 66.890625 0 \nL 66.890625 64.015625 \nL 48.09375 14.015625 \nL 38.1875 14.015625 \nL 19.390625 64.015625 \nL 19.390625 0 \nL 9.8125 0 \nz\n\" id=\"DejaVuSans-77\"/>\n       <path d=\"M 41.109375 46.296875 \nQ 39.59375 47.171875 37.8125 47.578125 \nQ 36.03125 48 33.890625 48 \nQ 26.265625 48 22.1875 43.046875 \nQ 18.109375 38.09375 18.109375 28.8125 \nL 18.109375 0 \nL 9.078125 0 \nL 9.078125 54.6875 \nL 18.109375 54.6875 \nL 18.109375 46.1875 \nQ 20.953125 51.171875 25.484375 53.578125 \nQ 30.03125 56 36.53125 56 \nQ 37.453125 56 38.578125 55.875 \nQ 39.703125 55.765625 41.0625 55.515625 \nz\n\" id=\"DejaVuSans-114\"/>\n       <path d=\"M 9.421875 75.984375 \nL 18.40625 75.984375 \nL 18.40625 0 \nL 9.421875 0 \nz\n\" id=\"DejaVuSans-108\"/>\n       <path d=\"M 19.671875 64.796875 \nL 19.671875 37.40625 \nL 32.078125 37.40625 \nQ 38.96875 37.40625 42.71875 40.96875 \nQ 46.484375 44.53125 46.484375 51.125 \nQ 46.484375 57.671875 42.71875 61.234375 \nQ 38.96875 64.796875 32.078125 64.796875 \nz\nM 9.8125 72.90625 \nL 32.078125 72.90625 \nQ 44.34375 72.90625 50.609375 67.359375 \nQ 56.890625 61.8125 56.890625 51.125 \nQ 56.890625 40.328125 50.609375 34.8125 \nQ 44.34375 29.296875 32.078125 29.296875 \nL 19.671875 29.296875 \nL 19.671875 0 \nL 9.8125 0 \nz\n\" id=\"DejaVuSans-80\"/>\n       <path d=\"M 45.40625 27.984375 \nQ 45.40625 37.75 41.375 43.109375 \nQ 37.359375 48.484375 30.078125 48.484375 \nQ 22.859375 48.484375 18.828125 43.109375 \nQ 14.796875 37.75 14.796875 27.984375 \nQ 14.796875 18.265625 18.828125 12.890625 \nQ 22.859375 7.515625 30.078125 7.515625 \nQ 37.359375 7.515625 41.375 12.890625 \nQ 45.40625 18.265625 45.40625 27.984375 \nz\nM 54.390625 6.78125 \nQ 54.390625 -7.171875 48.1875 -13.984375 \nQ 42 -20.796875 29.203125 -20.796875 \nQ 24.46875 -20.796875 20.265625 -20.09375 \nQ 16.0625 -19.390625 12.109375 -17.921875 \nL 12.109375 -9.1875 \nQ 16.0625 -11.328125 19.921875 -12.34375 \nQ 23.78125 -13.375 27.78125 -13.375 \nQ 36.625 -13.375 41.015625 -8.765625 \nQ 45.40625 -4.15625 45.40625 5.171875 \nL 45.40625 9.625 \nQ 42.625 4.78125 38.28125 2.390625 \nQ 33.9375 0 27.875 0 \nQ 17.828125 0 11.671875 7.65625 \nQ 5.515625 15.328125 5.515625 27.984375 \nQ 5.515625 40.671875 11.671875 48.328125 \nQ 17.828125 56 27.875 56 \nQ 33.9375 56 38.28125 53.609375 \nQ 42.625 51.21875 45.40625 46.390625 \nL 45.40625 54.6875 \nL 54.390625 54.6875 \nz\n\" id=\"DejaVuSans-103\"/>\n       <path d=\"M 72.703125 32.078125 \nQ 68.453125 32.078125 66.03125 28.46875 \nQ 63.625 24.859375 63.625 18.40625 \nQ 63.625 12.0625 66.03125 8.421875 \nQ 68.453125 4.78125 72.703125 4.78125 \nQ 76.859375 4.78125 79.265625 8.421875 \nQ 81.6875 12.0625 81.6875 18.40625 \nQ 81.6875 24.8125 79.265625 28.4375 \nQ 76.859375 32.078125 72.703125 32.078125 \nz\nM 72.703125 38.28125 \nQ 80.421875 38.28125 84.953125 32.90625 \nQ 89.5 27.546875 89.5 18.40625 \nQ 89.5 9.28125 84.9375 3.921875 \nQ 80.375 -1.421875 72.703125 -1.421875 \nQ 64.890625 -1.421875 60.34375 3.921875 \nQ 55.8125 9.28125 55.8125 18.40625 \nQ 55.8125 27.59375 60.375 32.9375 \nQ 64.9375 38.28125 72.703125 38.28125 \nz\nM 22.3125 68.015625 \nQ 18.109375 68.015625 15.6875 64.375 \nQ 13.28125 60.75 13.28125 54.390625 \nQ 13.28125 47.953125 15.671875 44.328125 \nQ 18.0625 40.71875 22.3125 40.71875 \nQ 26.5625 40.71875 28.96875 44.328125 \nQ 31.390625 47.953125 31.390625 54.390625 \nQ 31.390625 60.6875 28.953125 64.34375 \nQ 26.515625 68.015625 22.3125 68.015625 \nz\nM 66.40625 74.21875 \nL 74.21875 74.21875 \nL 28.609375 -1.421875 \nL 20.796875 -1.421875 \nz\nM 22.3125 74.21875 \nQ 30.03125 74.21875 34.609375 68.875 \nQ 39.203125 63.53125 39.203125 54.390625 \nQ 39.203125 45.171875 34.640625 39.84375 \nQ 30.078125 34.515625 22.3125 34.515625 \nQ 14.546875 34.515625 10.03125 39.859375 \nQ 5.515625 45.21875 5.515625 54.390625 \nQ 5.515625 63.484375 10.046875 68.84375 \nQ 14.59375 74.21875 22.3125 74.21875 \nz\n\" id=\"DejaVuSans-37\"/>\n      </defs>\n      <use xlink:href=\"#DejaVuSans-84\"/>\n      <use x=\"44.583984\" xlink:href=\"#DejaVuSans-97\"/>\n      <use x=\"105.863281\" xlink:href=\"#DejaVuSans-115\"/>\n      <use x=\"157.962891\" xlink:href=\"#DejaVuSans-97\"/>\n      <use x=\"219.242188\" xlink:href=\"#DejaVuSans-32\"/>\n      <use x=\"251.029297\" xlink:href=\"#DejaVuSans-77\"/>\n      <use x=\"337.308594\" xlink:href=\"#DejaVuSans-111\"/>\n      <use x=\"398.490234\" xlink:href=\"#DejaVuSans-114\"/>\n      <use x=\"439.603516\" xlink:href=\"#DejaVuSans-116\"/>\n      <use x=\"478.8125\" xlink:href=\"#DejaVuSans-97\"/>\n      <use x=\"540.091797\" xlink:href=\"#DejaVuSans-108\"/>\n      <use x=\"567.875\" xlink:href=\"#DejaVuSans-105\"/>\n      <use x=\"595.658203\" xlink:href=\"#DejaVuSans-100\"/>\n      <use x=\"659.134766\" xlink:href=\"#DejaVuSans-97\"/>\n      <use x=\"720.414062\" xlink:href=\"#DejaVuSans-100\"/>\n      <use x=\"783.890625\" xlink:href=\"#DejaVuSans-32\"/>\n      <use x=\"815.677734\" xlink:href=\"#DejaVuSans-80\"/>\n      <use x=\"874.230469\" xlink:href=\"#DejaVuSans-114\"/>\n      <use x=\"913.09375\" xlink:href=\"#DejaVuSans-111\"/>\n      <use x=\"974.275391\" xlink:href=\"#DejaVuSans-103\"/>\n      <use x=\"1037.751953\" xlink:href=\"#DejaVuSans-114\"/>\n      <use x=\"1078.865234\" xlink:href=\"#DejaVuSans-97\"/>\n      <use x=\"1140.144531\" xlink:href=\"#DejaVuSans-109\"/>\n      <use x=\"1237.556641\" xlink:href=\"#DejaVuSans-97\"/>\n      <use x=\"1298.835938\" xlink:href=\"#DejaVuSans-32\"/>\n      <use x=\"1330.623047\" xlink:href=\"#DejaVuSans-40\"/>\n      <use x=\"1369.636719\" xlink:href=\"#DejaVuSans-37\"/>\n      <use x=\"1464.65625\" xlink:href=\"#DejaVuSans-41\"/>\n     </g>\n    </g>\n   </g>\n   <g id=\"line2d_31\">\n    <path clip-path=\"url(#pb045a48850)\" d=\"M 55.821307 32.406136 \nL 131.912216 32.406136 \nL 208.003125 172.895536 \nL 284.094034 230.078864 \nL 360.184943 211.351176 \n\" style=\"fill:none;stroke:#1f77b4;stroke-linecap:square;stroke-width:1.5;\"/>\n   </g>\n   <g id=\"patch_3\">\n    <path d=\"M 40.603125 239.9625 \nL 40.603125 22.5225 \n\" style=\"fill:none;stroke:#000000;stroke-linecap:square;stroke-linejoin:miter;stroke-width:0.8;\"/>\n   </g>\n   <g id=\"patch_4\">\n    <path d=\"M 375.403125 239.9625 \nL 375.403125 22.5225 \n\" style=\"fill:none;stroke:#000000;stroke-linecap:square;stroke-linejoin:miter;stroke-width:0.8;\"/>\n   </g>\n   <g id=\"patch_5\">\n    <path d=\"M 40.603125 239.9625 \nL 375.403125 239.9625 \n\" style=\"fill:none;stroke:#000000;stroke-linecap:square;stroke-linejoin:miter;stroke-width:0.8;\"/>\n   </g>\n   <g id=\"patch_6\">\n    <path d=\"M 40.603125 22.5225 \nL 375.403125 22.5225 \n\" style=\"fill:none;stroke:#000000;stroke-linecap:square;stroke-linejoin:miter;stroke-width:0.8;\"/>\n   </g>\n   <g id=\"text_18\">\n    <!-- Mortalidad al año por programa -->\n    <g transform=\"translate(112.67625 16.5225)scale(0.12 -0.12)\">\n     <defs>\n      <path d=\"M 18.109375 8.203125 \nL 18.109375 -20.796875 \nL 9.078125 -20.796875 \nL 9.078125 54.6875 \nL 18.109375 54.6875 \nL 18.109375 46.390625 \nQ 20.953125 51.265625 25.265625 53.625 \nQ 29.59375 56 35.59375 56 \nQ 45.5625 56 51.78125 48.09375 \nQ 58.015625 40.1875 58.015625 27.296875 \nQ 58.015625 14.40625 51.78125 6.484375 \nQ 45.5625 -1.421875 35.59375 -1.421875 \nQ 29.59375 -1.421875 25.265625 0.953125 \nQ 20.953125 3.328125 18.109375 8.203125 \nz\nM 48.6875 27.296875 \nQ 48.6875 37.203125 44.609375 42.84375 \nQ 40.53125 48.484375 33.40625 48.484375 \nQ 26.265625 48.484375 22.1875 42.84375 \nQ 18.109375 37.203125 18.109375 27.296875 \nQ 18.109375 17.390625 22.1875 11.75 \nQ 26.265625 6.109375 33.40625 6.109375 \nQ 40.53125 6.109375 44.609375 11.75 \nQ 48.6875 17.390625 48.6875 27.296875 \nz\n\" id=\"DejaVuSans-112\"/>\n     </defs>\n     <use xlink:href=\"#DejaVuSans-77\"/>\n     <use x=\"86.279297\" xlink:href=\"#DejaVuSans-111\"/>\n     <use x=\"147.460938\" xlink:href=\"#DejaVuSans-114\"/>\n     <use x=\"188.574219\" xlink:href=\"#DejaVuSans-116\"/>\n     <use x=\"227.783203\" xlink:href=\"#DejaVuSans-97\"/>\n     <use x=\"289.0625\" xlink:href=\"#DejaVuSans-108\"/>\n     <use x=\"316.845703\" xlink:href=\"#DejaVuSans-105\"/>\n     <use x=\"344.628906\" xlink:href=\"#DejaVuSans-100\"/>\n     <use x=\"408.105469\" xlink:href=\"#DejaVuSans-97\"/>\n     <use x=\"469.384766\" xlink:href=\"#DejaVuSans-100\"/>\n     <use x=\"532.861328\" xlink:href=\"#DejaVuSans-32\"/>\n     <use x=\"564.648438\" xlink:href=\"#DejaVuSans-97\"/>\n     <use x=\"625.927734\" xlink:href=\"#DejaVuSans-108\"/>\n     <use x=\"653.710938\" xlink:href=\"#DejaVuSans-32\"/>\n     <use x=\"685.498047\" xlink:href=\"#DejaVuSans-97\"/>\n     <use x=\"746.777344\" xlink:href=\"#DejaVuSans-241\"/>\n     <use x=\"810.15625\" xlink:href=\"#DejaVuSans-111\"/>\n     <use x=\"871.337891\" xlink:href=\"#DejaVuSans-32\"/>\n     <use x=\"903.125\" xlink:href=\"#DejaVuSans-112\"/>\n     <use x=\"966.601562\" xlink:href=\"#DejaVuSans-111\"/>\n     <use x=\"1027.783203\" xlink:href=\"#DejaVuSans-114\"/>\n     <use x=\"1068.896484\" xlink:href=\"#DejaVuSans-32\"/>\n     <use x=\"1100.683594\" xlink:href=\"#DejaVuSans-112\"/>\n     <use x=\"1164.160156\" xlink:href=\"#DejaVuSans-114\"/>\n     <use x=\"1203.023438\" xlink:href=\"#DejaVuSans-111\"/>\n     <use x=\"1264.205078\" xlink:href=\"#DejaVuSans-103\"/>\n     <use x=\"1327.681641\" xlink:href=\"#DejaVuSans-114\"/>\n     <use x=\"1368.794922\" xlink:href=\"#DejaVuSans-97\"/>\n     <use x=\"1430.074219\" xlink:href=\"#DejaVuSans-109\"/>\n     <use x=\"1527.486328\" xlink:href=\"#DejaVuSans-97\"/>\n    </g>\n   </g>\n  </g>\n </g>\n <defs>\n  <clipPath id=\"pb045a48850\">\n   <rect height=\"217.44\" width=\"334.8\" x=\"40.603125\" y=\"22.5225\"/>\n  </clipPath>\n </defs>\n</svg>\n",
            "image/png": "[encoded data removed]"
          },
          "metadata": {
            "tags": [],
            "needs_background": "light"
          }
        }
      ]
    },
    {
      "cell_type": "code",
      "metadata": {
        "id": "DeJEnwTTV7LE",
        "outputId": "33df1fdd-62ff-4d11-e468-3da937970223"
      },
      "source": [
        "#####################################################################################################################\n",
        "###################################### TERCER Punto del Trabajo  -PREDICCION- ####################################\n",
        "\n",
        "################ Prediccion\n",
        "\n",
        "predicAsignatura = 4164 # codigo asignatura\n",
        "################################# Consulta SQL\n",
        "querypredicUno = 'select asignatura, Anio, cant_veces_vio_la_materia,nt1EscalaNum,nt2EscalaNum,nt3EscalaNum, defEscalaNum from tbInformacion where asignatura = '+ str(predicAsignatura)\n",
        "\n",
        "##################### Algoritmo para los datos\n",
        "dataframePredic = pd.read_sql_query(querypredicUno,connection)\n",
        "etiqueta = dataframePredic.drop(['asignatura','Anio','nt1EscalaNum','nt2EscalaNum','nt3EscalaNum','defEscalaNum'],axis=1)  # Cantidad de veces que vio la materia\n",
        "atributos = dataframePredic.drop(['Anio','cant_veces_vio_la_materia','nt2EscalaNum','nt3EscalaNum','defEscalaNum'],axis=1)\n",
        "\n",
        "\n",
        "clasificador = tree.DecisionTreeClassifier()\n",
        "clasificador = clasificador.fit(atributos,etiqueta)\n",
        "nota = 1  # nota \n",
        "print('#####################################################################','\\n') \n",
        "print(\"para la asignatura \",predicAsignatura,\"con la nota del primer corte de \",nota,\"probablemente pase al intento numero : \",clasificador.predict([[predicAsignatura,nota]]))\n"
      ],
      "execution_count": null,
      "outputs": [
        {
          "output_type": "stream",
          "text": [
            "##################################################################### \n",
            "\n",
            "para la asignatura  4164 con la nota del primer corte de  1 probablemente pase al intento numero :  [2]\n"
          ],
          "name": "stdout"
        }
      ]
    },
    {
      "cell_type": "code",
      "metadata": {
        "id": "DkpMfq2BV7LG",
        "outputId": "f5d6066e-33c3-489a-d035-95d8951250f9"
      },
      "source": [
        "#####################################################################################################################\n",
        "###################################### CUARTO Punto del Trabajo  -PREDICCION- #######################################\n",
        "\n",
        "################ Prediccion\n",
        "\n",
        "predicAsignatura = 4164\n",
        "################################# Consulta SQL\n",
        "querypredicDos = 'select asignatura, nt1EscalaNum,nt2EscalaNum, defEscalaNum from tbInformacion where asignatura = '+ str(predicAsignatura)\n",
        "\n",
        "################################# Algoritmo de los datos\n",
        "dataframePredicDos = pd.read_sql_query(querypredicDos,connection)\n",
        "etiquetados = dataframePredicDos.drop(['asignatura','nt1EscalaNum','nt2EscalaNum'],axis=1)  # Definitiva\n",
        "atributosdos = dataframePredicDos.drop(['defEscalaNum'],axis=1) # Atributos\n",
        "\n",
        "################################################  Algoritmo Clasificadores\n",
        "clasificadordos = tree.DecisionTreeClassifier()\n",
        "clasificadordos = clasificadordos.fit(atributosdos,etiquetados)\n",
        "codAsigpredict = 4164\n",
        "nota1 = 1.5\n",
        "nota2 = 2.1\n",
        "\n",
        "prediccion2 = clasificadordos.predict([[codAsigpredict,nota1,nota2]]) \n",
        "\n",
        "bandera = float(prediccion2[0])\n",
        "print('#####################################################################','\\n') \n",
        "print(\"Con las dos notas dadas para esta asignatura y sin saber la tercera nota, se predice una nota definitiva aproximadamente de : \",bandera, '\\n')\n",
        "\n",
        "\n",
        "if bandera >= 3 :\n",
        "    print(\"Animo parcero puede sacar una Tercera nota buena :D\", '\\n')\n",
        "elif bandera < 3 :\n",
        "    print(\"Lastima, puedes llegar a repetir la Asignatura :(\", '\\n')"
      ],
      "execution_count": null,
      "outputs": [
        {
          "output_type": "stream",
          "text": [
            "##################################################################### \n",
            "\n",
            "Con las dos notas dadas para esta asignatura y sin saber la tercera nota, se predice una nota definitiva aproximadamente de :  2.0 \n",
            "\n",
            "Lastima, puedes llegar a repetir la Asignatura :( \n",
            "\n"
          ],
          "name": "stdout"
        }
      ]
    },
    {
      "cell_type": "code",
      "metadata": {
        "id": "WkXHpBTTV7LH",
        "outputId": "22d5aa5c-5056-45e8-ef63-9e06aca195a8"
      },
      "source": [
        "#####################################################################################################################\n",
        "###################################### Quinto Punto del Trabajo  -Analisis Estadisticos- ############################\n",
        "\n",
        "################ Analisis Estadisticos\n",
        "\n",
        "consultaEstadistica = pd.read_sql_query(querytablas,connection)\n",
        "\n",
        "anio = 2015\n",
        "################################# Consulta SQL\n",
        "queryEstadistica = 'SELECT tbInformacion.rowId, tbPrograma.Programa, tbInformacion.Anio, sum(tbInformacion.definitiva)/count(tbPrograma.Programa) \"Promedio_ponderado\" FROM tbInformacion, tbPrograma WHERE tbInformacion.codProgramaAcademico = tbPrograma.cod AND Anio = '+str(anio)+ ' GROUP BY (tbPrograma.Programa)'\n",
        "################################# Algoritmo de los datos\n",
        "dataframeEstadistica = pd.read_sql_query(queryEstadistica, connection)\n",
        "\n",
        "dataframeEstadistica.head()"
      ],
      "execution_count": null,
      "outputs": [
        {
          "output_type": "execute_result",
          "data": {
            "text/plain": [
              "    rowId          Programa  Anio  Promedio_ponderado\n",
              "0  328472        Ing. Civil  2015            3.191913\n",
              "1  305679  Ing. Electronica  2015            3.179558\n",
              "2  325905   Ing. Industrial  2015            3.248318\n",
              "3  266539     Ing. Mecanica  2015            3.088365\n",
              "4  319005     Ing. Sistemas  2015            3.255556"
            ],
            "text/html": [
              "<div>\n",
              "<style scoped>\n",
              "    .dataframe tbody tr th:only-of-type {\n",
              "        vertical-align: middle;\n",
              "    }\n",
              "\n",
              "    .dataframe tbody tr th {\n",
              "        vertical-align: top;\n",
              "    }\n",
              "\n",
              "    .dataframe thead th {\n",
              "        text-align: right;\n",
              "    }\n",
              "</style>\n",
              "<table border=\"1\" class=\"dataframe\">\n",
              "  <thead>\n",
              "    <tr style=\"text-align: right;\">\n",
              "      <th></th>\n",
              "      <th>rowId</th>\n",
              "      <th>Programa</th>\n",
              "      <th>Anio</th>\n",
              "      <th>Promedio_ponderado</th>\n",
              "    </tr>\n",
              "  </thead>\n",
              "  <tbody>\n",
              "    <tr>\n",
              "      <th>0</th>\n",
              "      <td>328472</td>\n",
              "      <td>Ing. Civil</td>\n",
              "      <td>2015</td>\n",
              "      <td>3.191913</td>\n",
              "    </tr>\n",
              "    <tr>\n",
              "      <th>1</th>\n",
              "      <td>305679</td>\n",
              "      <td>Ing. Electronica</td>\n",
              "      <td>2015</td>\n",
              "      <td>3.179558</td>\n",
              "    </tr>\n",
              "    <tr>\n",
              "      <th>2</th>\n",
              "      <td>325905</td>\n",
              "      <td>Ing. Industrial</td>\n",
              "      <td>2015</td>\n",
              "      <td>3.248318</td>\n",
              "    </tr>\n",
              "    <tr>\n",
              "      <th>3</th>\n",
              "      <td>266539</td>\n",
              "      <td>Ing. Mecanica</td>\n",
              "      <td>2015</td>\n",
              "      <td>3.088365</td>\n",
              "    </tr>\n",
              "    <tr>\n",
              "      <th>4</th>\n",
              "      <td>319005</td>\n",
              "      <td>Ing. Sistemas</td>\n",
              "      <td>2015</td>\n",
              "      <td>3.255556</td>\n",
              "    </tr>\n",
              "  </tbody>\n",
              "</table>\n",
              "</div>"
            ]
          },
          "metadata": {
            "tags": []
          },
          "execution_count": 42
        }
      ]
    },
    {
      "cell_type": "code",
      "metadata": {
        "id": "mOlgKXI6V7LJ",
        "outputId": "62a0597e-f857-4e58-f67e-9011f629d896"
      },
      "source": [
        "########################## Grafica de la información\n",
        "eje_x = dataframeEstadistica.Promedio_ponderado\n",
        "eje_y = dataframeEstadistica.Programa\n",
        "\n",
        "plt.figure()\n",
        "plt.bar(eje_y,eje_x)\n",
        "plt.title('Promedio Ponderado por Programa del año: '+ str(anio))\n",
        "plt.xlabel('Programa Academico')\n",
        "plt.ylabel('Nota')\n",
        "plt.show()"
      ],
      "execution_count": null,
      "outputs": [
        {
          "output_type": "display_data",
          "data": {
            "text/plain": [
              "<Figure size 432x288 with 1 Axes>"
            ],
            "image/svg+xml": "<?xml version=\"1.0\" encoding=\"utf-8\" standalone=\"no\"?>\n<!DOCTYPE svg PUBLIC \"-//W3C//DTD SVG 1.1//EN\"\n  \"http://www.w3.org/Graphics/SVG/1.1/DTD/svg11.dtd\">\n<!-- Created with matplotlib (https://matplotlib.org/) -->\n<svg height=\"277.51875pt\" version=\"1.1\" viewBox=\"0 0 385.78125 277.51875\" width=\"385.78125pt\" xmlns=\"http://www.w3.org/2000/svg\" xmlns:xlink=\"http://www.w3.org/1999/xlink\">\n <metadata>\n  <rdf:RDF xmlns:cc=\"http://creativecommons.org/ns#\" xmlns:dc=\"http://purl.org/dc/elements/1.1/\" xmlns:rdf=\"http://www.w3.org/1999/02/22-rdf-syntax-ns#\">\n   <cc:Work>\n    <dc:type rdf:resource=\"http://purl.org/dc/dcmitype/StillImage\"/>\n    <dc:date>2020-11-24T17:56:15.187839</dc:date>\n    <dc:format>image/svg+xml</dc:format>\n    <dc:creator>\n     <cc:Agent>\n      <dc:title>Matplotlib v3.3.2, https://matplotlib.org/</dc:title>\n     </cc:Agent>\n    </dc:creator>\n   </cc:Work>\n  </rdf:RDF>\n </metadata>\n <defs>\n  <style type=\"text/css\">*{stroke-linecap:butt;stroke-linejoin:round;}</style>\n </defs>\n <g id=\"figure_1\">\n  <g id=\"patch_1\">\n   <path d=\"M 0 277.51875 \nL 385.78125 277.51875 \nL 385.78125 0 \nL 0 0 \nz\n\" style=\"fill:none;\"/>\n  </g>\n  <g id=\"axes_1\">\n   <g id=\"patch_2\">\n    <path d=\"M 43.78125 239.9625 \nL 378.58125 239.9625 \nL 378.58125 22.5225 \nL 43.78125 22.5225 \nz\n\" style=\"fill:#ffffff;\"/>\n   </g>\n   <g id=\"patch_3\">\n    <path clip-path=\"url(#p7f1f9458b8)\" d=\"M 58.999432 239.9625 \nL 100.980623 239.9625 \nL 100.980623 44.790356 \nL 58.999432 44.790356 \nz\n\" style=\"fill:#1f77b4;\"/>\n   </g>\n   <g id=\"patch_4\">\n    <path clip-path=\"url(#p7f1f9458b8)\" d=\"M 111.475921 239.9625 \nL 153.457112 239.9625 \nL 153.457112 45.545839 \nL 111.475921 45.545839 \nz\n\" style=\"fill:#1f77b4;\"/>\n   </g>\n   <g id=\"patch_5\">\n    <path clip-path=\"url(#p7f1f9458b8)\" d=\"M 163.95241 239.9625 \nL 205.933601 239.9625 \nL 205.933601 41.341476 \nL 163.95241 41.341476 \nz\n\" style=\"fill:#1f77b4;\"/>\n   </g>\n   <g id=\"patch_6\">\n    <path clip-path=\"url(#p7f1f9458b8)\" d=\"M 216.428899 239.9625 \nL 258.41009 239.9625 \nL 258.41009 51.121895 \nL 216.428899 51.121895 \nz\n\" style=\"fill:#1f77b4;\"/>\n   </g>\n   <g id=\"patch_7\">\n    <path clip-path=\"url(#p7f1f9458b8)\" d=\"M 268.905388 239.9625 \nL 310.886579 239.9625 \nL 310.886579 40.898907 \nL 268.905388 40.898907 \nz\n\" style=\"fill:#1f77b4;\"/>\n   </g>\n   <g id=\"patch_8\">\n    <path clip-path=\"url(#p7f1f9458b8)\" d=\"M 321.381877 239.9625 \nL 363.363068 239.9625 \nL 363.363068 32.876786 \nL 321.381877 32.876786 \nz\n\" style=\"fill:#1f77b4;\"/>\n   </g>\n   <g id=\"matplotlib.axis_1\">\n    <g id=\"xtick_1\">\n     <g id=\"line2d_1\">\n      <defs>\n       <path d=\"M 0 0 \nL 0 3.5 \n\" id=\"md94d1f634f\" style=\"stroke:#000000;stroke-width:0.8;\"/>\n      </defs>\n      <g>\n       <use style=\"stroke:#000000;stroke-width:0.8;\" x=\"79.990027\" xlink:href=\"#md94d1f634f\" y=\"239.9625\"/>\n      </g>\n     </g>\n     <g id=\"text_1\">\n      <!-- Ing. Civil -->\n      <g transform=\"translate(58.375965 254.560937)scale(0.1 -0.1)\">\n       <defs>\n        <path d=\"M 9.8125 72.90625 \nL 19.671875 72.90625 \nL 19.671875 0 \nL 9.8125 0 \nz\n\" id=\"DejaVuSans-73\"/>\n        <path d=\"M 54.890625 33.015625 \nL 54.890625 0 \nL 45.90625 0 \nL 45.90625 32.71875 \nQ 45.90625 40.484375 42.875 44.328125 \nQ 39.84375 48.1875 33.796875 48.1875 \nQ 26.515625 48.1875 22.3125 43.546875 \nQ 18.109375 38.921875 18.109375 30.90625 \nL 18.109375 0 \nL 9.078125 0 \nL 9.078125 54.6875 \nL 18.109375 54.6875 \nL 18.109375 46.1875 \nQ 21.34375 51.125 25.703125 53.5625 \nQ 30.078125 56 35.796875 56 \nQ 45.21875 56 50.046875 50.171875 \nQ 54.890625 44.34375 54.890625 33.015625 \nz\n\" id=\"DejaVuSans-110\"/>\n        <path d=\"M 45.40625 27.984375 \nQ 45.40625 37.75 41.375 43.109375 \nQ 37.359375 48.484375 30.078125 48.484375 \nQ 22.859375 48.484375 18.828125 43.109375 \nQ 14.796875 37.75 14.796875 27.984375 \nQ 14.796875 18.265625 18.828125 12.890625 \nQ 22.859375 7.515625 30.078125 7.515625 \nQ 37.359375 7.515625 41.375 12.890625 \nQ 45.40625 18.265625 45.40625 27.984375 \nz\nM 54.390625 6.78125 \nQ 54.390625 -7.171875 48.1875 -13.984375 \nQ 42 -20.796875 29.203125 -20.796875 \nQ 24.46875 -20.796875 20.265625 -20.09375 \nQ 16.0625 -19.390625 12.109375 -17.921875 \nL 12.109375 -9.1875 \nQ 16.0625 -11.328125 19.921875 -12.34375 \nQ 23.78125 -13.375 27.78125 -13.375 \nQ 36.625 -13.375 41.015625 -8.765625 \nQ 45.40625 -4.15625 45.40625 5.171875 \nL 45.40625 9.625 \nQ 42.625 4.78125 38.28125 2.390625 \nQ 33.9375 0 27.875 0 \nQ 17.828125 0 11.671875 7.65625 \nQ 5.515625 15.328125 5.515625 27.984375 \nQ 5.515625 40.671875 11.671875 48.328125 \nQ 17.828125 56 27.875 56 \nQ 33.9375 56 38.28125 53.609375 \nQ 42.625 51.21875 45.40625 46.390625 \nL 45.40625 54.6875 \nL 54.390625 54.6875 \nz\n\" id=\"DejaVuSans-103\"/>\n        <path d=\"M 10.6875 12.40625 \nL 21 12.40625 \nL 21 0 \nL 10.6875 0 \nz\n\" id=\"DejaVuSans-46\"/>\n        <path id=\"DejaVuSans-32\"/>\n        <path d=\"M 64.40625 67.28125 \nL 64.40625 56.890625 \nQ 59.421875 61.53125 53.78125 63.8125 \nQ 48.140625 66.109375 41.796875 66.109375 \nQ 29.296875 66.109375 22.65625 58.46875 \nQ 16.015625 50.828125 16.015625 36.375 \nQ 16.015625 21.96875 22.65625 14.328125 \nQ 29.296875 6.6875 41.796875 6.6875 \nQ 48.140625 6.6875 53.78125 8.984375 \nQ 59.421875 11.28125 64.40625 15.921875 \nL 64.40625 5.609375 \nQ 59.234375 2.09375 53.4375 0.328125 \nQ 47.65625 -1.421875 41.21875 -1.421875 \nQ 24.65625 -1.421875 15.125 8.703125 \nQ 5.609375 18.84375 5.609375 36.375 \nQ 5.609375 53.953125 15.125 64.078125 \nQ 24.65625 74.21875 41.21875 74.21875 \nQ 47.75 74.21875 53.53125 72.484375 \nQ 59.328125 70.75 64.40625 67.28125 \nz\n\" id=\"DejaVuSans-67\"/>\n        <path d=\"M 9.421875 54.6875 \nL 18.40625 54.6875 \nL 18.40625 0 \nL 9.421875 0 \nz\nM 9.421875 75.984375 \nL 18.40625 75.984375 \nL 18.40625 64.59375 \nL 9.421875 64.59375 \nz\n\" id=\"DejaVuSans-105\"/>\n        <path d=\"M 2.984375 54.6875 \nL 12.5 54.6875 \nL 29.59375 8.796875 \nL 46.6875 54.6875 \nL 56.203125 54.6875 \nL 35.6875 0 \nL 23.484375 0 \nz\n\" id=\"DejaVuSans-118\"/>\n        <path d=\"M 9.421875 75.984375 \nL 18.40625 75.984375 \nL 18.40625 0 \nL 9.421875 0 \nz\n\" id=\"DejaVuSans-108\"/>\n       </defs>\n       <use xlink:href=\"#DejaVuSans-73\"/>\n       <use x=\"29.492188\" xlink:href=\"#DejaVuSans-110\"/>\n       <use x=\"92.871094\" xlink:href=\"#DejaVuSans-103\"/>\n       <use x=\"156.347656\" xlink:href=\"#DejaVuSans-46\"/>\n       <use x=\"188.134766\" xlink:href=\"#DejaVuSans-32\"/>\n       <use x=\"219.921875\" xlink:href=\"#DejaVuSans-67\"/>\n       <use x=\"289.746094\" xlink:href=\"#DejaVuSans-105\"/>\n       <use x=\"317.529297\" xlink:href=\"#DejaVuSans-118\"/>\n       <use x=\"376.708984\" xlink:href=\"#DejaVuSans-105\"/>\n       <use x=\"404.492188\" xlink:href=\"#DejaVuSans-108\"/>\n      </g>\n     </g>\n    </g>\n    <g id=\"xtick_2\">\n     <g id=\"line2d_2\">\n      <g>\n       <use style=\"stroke:#000000;stroke-width:0.8;\" x=\"132.466516\" xlink:href=\"#md94d1f634f\" y=\"239.9625\"/>\n      </g>\n     </g>\n     <g id=\"text_2\">\n      <!-- Ing. Electronica -->\n      <g transform=\"translate(93.76261 254.560937)scale(0.1 -0.1)\">\n       <defs>\n        <path d=\"M 9.8125 72.90625 \nL 55.90625 72.90625 \nL 55.90625 64.59375 \nL 19.671875 64.59375 \nL 19.671875 43.015625 \nL 54.390625 43.015625 \nL 54.390625 34.71875 \nL 19.671875 34.71875 \nL 19.671875 8.296875 \nL 56.78125 8.296875 \nL 56.78125 0 \nL 9.8125 0 \nz\n\" id=\"DejaVuSans-69\"/>\n        <path d=\"M 56.203125 29.59375 \nL 56.203125 25.203125 \nL 14.890625 25.203125 \nQ 15.484375 15.921875 20.484375 11.0625 \nQ 25.484375 6.203125 34.421875 6.203125 \nQ 39.59375 6.203125 44.453125 7.46875 \nQ 49.3125 8.734375 54.109375 11.28125 \nL 54.109375 2.78125 \nQ 49.265625 0.734375 44.1875 -0.34375 \nQ 39.109375 -1.421875 33.890625 -1.421875 \nQ 20.796875 -1.421875 13.15625 6.1875 \nQ 5.515625 13.8125 5.515625 26.8125 \nQ 5.515625 40.234375 12.765625 48.109375 \nQ 20.015625 56 32.328125 56 \nQ 43.359375 56 49.78125 48.890625 \nQ 56.203125 41.796875 56.203125 29.59375 \nz\nM 47.21875 32.234375 \nQ 47.125 39.59375 43.09375 43.984375 \nQ 39.0625 48.390625 32.421875 48.390625 \nQ 24.90625 48.390625 20.390625 44.140625 \nQ 15.875 39.890625 15.1875 32.171875 \nz\n\" id=\"DejaVuSans-101\"/>\n        <path d=\"M 48.78125 52.59375 \nL 48.78125 44.1875 \nQ 44.96875 46.296875 41.140625 47.34375 \nQ 37.3125 48.390625 33.40625 48.390625 \nQ 24.65625 48.390625 19.8125 42.84375 \nQ 14.984375 37.3125 14.984375 27.296875 \nQ 14.984375 17.28125 19.8125 11.734375 \nQ 24.65625 6.203125 33.40625 6.203125 \nQ 37.3125 6.203125 41.140625 7.25 \nQ 44.96875 8.296875 48.78125 10.40625 \nL 48.78125 2.09375 \nQ 45.015625 0.34375 40.984375 -0.53125 \nQ 36.96875 -1.421875 32.421875 -1.421875 \nQ 20.0625 -1.421875 12.78125 6.34375 \nQ 5.515625 14.109375 5.515625 27.296875 \nQ 5.515625 40.671875 12.859375 48.328125 \nQ 20.21875 56 33.015625 56 \nQ 37.15625 56 41.109375 55.140625 \nQ 45.0625 54.296875 48.78125 52.59375 \nz\n\" id=\"DejaVuSans-99\"/>\n        <path d=\"M 18.3125 70.21875 \nL 18.3125 54.6875 \nL 36.8125 54.6875 \nL 36.8125 47.703125 \nL 18.3125 47.703125 \nL 18.3125 18.015625 \nQ 18.3125 11.328125 20.140625 9.421875 \nQ 21.96875 7.515625 27.59375 7.515625 \nL 36.8125 7.515625 \nL 36.8125 0 \nL 27.59375 0 \nQ 17.1875 0 13.234375 3.875 \nQ 9.28125 7.765625 9.28125 18.015625 \nL 9.28125 47.703125 \nL 2.6875 47.703125 \nL 2.6875 54.6875 \nL 9.28125 54.6875 \nL 9.28125 70.21875 \nz\n\" id=\"DejaVuSans-116\"/>\n        <path d=\"M 41.109375 46.296875 \nQ 39.59375 47.171875 37.8125 47.578125 \nQ 36.03125 48 33.890625 48 \nQ 26.265625 48 22.1875 43.046875 \nQ 18.109375 38.09375 18.109375 28.8125 \nL 18.109375 0 \nL 9.078125 0 \nL 9.078125 54.6875 \nL 18.109375 54.6875 \nL 18.109375 46.1875 \nQ 20.953125 51.171875 25.484375 53.578125 \nQ 30.03125 56 36.53125 56 \nQ 37.453125 56 38.578125 55.875 \nQ 39.703125 55.765625 41.0625 55.515625 \nz\n\" id=\"DejaVuSans-114\"/>\n        <path d=\"M 30.609375 48.390625 \nQ 23.390625 48.390625 19.1875 42.75 \nQ 14.984375 37.109375 14.984375 27.296875 \nQ 14.984375 17.484375 19.15625 11.84375 \nQ 23.34375 6.203125 30.609375 6.203125 \nQ 37.796875 6.203125 41.984375 11.859375 \nQ 46.1875 17.53125 46.1875 27.296875 \nQ 46.1875 37.015625 41.984375 42.703125 \nQ 37.796875 48.390625 30.609375 48.390625 \nz\nM 30.609375 56 \nQ 42.328125 56 49.015625 48.375 \nQ 55.71875 40.765625 55.71875 27.296875 \nQ 55.71875 13.875 49.015625 6.21875 \nQ 42.328125 -1.421875 30.609375 -1.421875 \nQ 18.84375 -1.421875 12.171875 6.21875 \nQ 5.515625 13.875 5.515625 27.296875 \nQ 5.515625 40.765625 12.171875 48.375 \nQ 18.84375 56 30.609375 56 \nz\n\" id=\"DejaVuSans-111\"/>\n        <path d=\"M 34.28125 27.484375 \nQ 23.390625 27.484375 19.1875 25 \nQ 14.984375 22.515625 14.984375 16.5 \nQ 14.984375 11.71875 18.140625 8.90625 \nQ 21.296875 6.109375 26.703125 6.109375 \nQ 34.1875 6.109375 38.703125 11.40625 \nQ 43.21875 16.703125 43.21875 25.484375 \nL 43.21875 27.484375 \nz\nM 52.203125 31.203125 \nL 52.203125 0 \nL 43.21875 0 \nL 43.21875 8.296875 \nQ 40.140625 3.328125 35.546875 0.953125 \nQ 30.953125 -1.421875 24.3125 -1.421875 \nQ 15.921875 -1.421875 10.953125 3.296875 \nQ 6 8.015625 6 15.921875 \nQ 6 25.140625 12.171875 29.828125 \nQ 18.359375 34.515625 30.609375 34.515625 \nL 43.21875 34.515625 \nL 43.21875 35.40625 \nQ 43.21875 41.609375 39.140625 45 \nQ 35.0625 48.390625 27.6875 48.390625 \nQ 23 48.390625 18.546875 47.265625 \nQ 14.109375 46.140625 10.015625 43.890625 \nL 10.015625 52.203125 \nQ 14.9375 54.109375 19.578125 55.046875 \nQ 24.21875 56 28.609375 56 \nQ 40.484375 56 46.34375 49.84375 \nQ 52.203125 43.703125 52.203125 31.203125 \nz\n\" id=\"DejaVuSans-97\"/>\n       </defs>\n       <use xlink:href=\"#DejaVuSans-73\"/>\n       <use x=\"29.492188\" xlink:href=\"#DejaVuSans-110\"/>\n       <use x=\"92.871094\" xlink:href=\"#DejaVuSans-103\"/>\n       <use x=\"156.347656\" xlink:href=\"#DejaVuSans-46\"/>\n       <use x=\"188.134766\" xlink:href=\"#DejaVuSans-32\"/>\n       <use x=\"219.921875\" xlink:href=\"#DejaVuSans-69\"/>\n       <use x=\"283.105469\" xlink:href=\"#DejaVuSans-108\"/>\n       <use x=\"310.888672\" xlink:href=\"#DejaVuSans-101\"/>\n       <use x=\"372.412109\" xlink:href=\"#DejaVuSans-99\"/>\n       <use x=\"427.392578\" xlink:href=\"#DejaVuSans-116\"/>\n       <use x=\"466.601562\" xlink:href=\"#DejaVuSans-114\"/>\n       <use x=\"505.464844\" xlink:href=\"#DejaVuSans-111\"/>\n       <use x=\"566.646484\" xlink:href=\"#DejaVuSans-110\"/>\n       <use x=\"630.025391\" xlink:href=\"#DejaVuSans-105\"/>\n       <use x=\"657.808594\" xlink:href=\"#DejaVuSans-99\"/>\n       <use x=\"712.789062\" xlink:href=\"#DejaVuSans-97\"/>\n      </g>\n     </g>\n    </g>\n    <g id=\"xtick_3\">\n     <g id=\"line2d_3\">\n      <g>\n       <use style=\"stroke:#000000;stroke-width:0.8;\" x=\"184.943005\" xlink:href=\"#md94d1f634f\" y=\"239.9625\"/>\n      </g>\n     </g>\n     <g id=\"text_3\">\n      <!-- Ing. Industrial -->\n      <g transform=\"translate(150.497693 254.560937)scale(0.1 -0.1)\">\n       <defs>\n        <path d=\"M 45.40625 46.390625 \nL 45.40625 75.984375 \nL 54.390625 75.984375 \nL 54.390625 0 \nL 45.40625 0 \nL 45.40625 8.203125 \nQ 42.578125 3.328125 38.25 0.953125 \nQ 33.9375 -1.421875 27.875 -1.421875 \nQ 17.96875 -1.421875 11.734375 6.484375 \nQ 5.515625 14.40625 5.515625 27.296875 \nQ 5.515625 40.1875 11.734375 48.09375 \nQ 17.96875 56 27.875 56 \nQ 33.9375 56 38.25 53.625 \nQ 42.578125 51.265625 45.40625 46.390625 \nz\nM 14.796875 27.296875 \nQ 14.796875 17.390625 18.875 11.75 \nQ 22.953125 6.109375 30.078125 6.109375 \nQ 37.203125 6.109375 41.296875 11.75 \nQ 45.40625 17.390625 45.40625 27.296875 \nQ 45.40625 37.203125 41.296875 42.84375 \nQ 37.203125 48.484375 30.078125 48.484375 \nQ 22.953125 48.484375 18.875 42.84375 \nQ 14.796875 37.203125 14.796875 27.296875 \nz\n\" id=\"DejaVuSans-100\"/>\n        <path d=\"M 8.5 21.578125 \nL 8.5 54.6875 \nL 17.484375 54.6875 \nL 17.484375 21.921875 \nQ 17.484375 14.15625 20.5 10.265625 \nQ 23.53125 6.390625 29.59375 6.390625 \nQ 36.859375 6.390625 41.078125 11.03125 \nQ 45.3125 15.671875 45.3125 23.6875 \nL 45.3125 54.6875 \nL 54.296875 54.6875 \nL 54.296875 0 \nL 45.3125 0 \nL 45.3125 8.40625 \nQ 42.046875 3.421875 37.71875 1 \nQ 33.40625 -1.421875 27.6875 -1.421875 \nQ 18.265625 -1.421875 13.375 4.4375 \nQ 8.5 10.296875 8.5 21.578125 \nz\nM 31.109375 56 \nz\n\" id=\"DejaVuSans-117\"/>\n        <path d=\"M 44.28125 53.078125 \nL 44.28125 44.578125 \nQ 40.484375 46.53125 36.375 47.5 \nQ 32.28125 48.484375 27.875 48.484375 \nQ 21.1875 48.484375 17.84375 46.4375 \nQ 14.5 44.390625 14.5 40.28125 \nQ 14.5 37.15625 16.890625 35.375 \nQ 19.28125 33.59375 26.515625 31.984375 \nL 29.59375 31.296875 \nQ 39.15625 29.25 43.1875 25.515625 \nQ 47.21875 21.78125 47.21875 15.09375 \nQ 47.21875 7.46875 41.1875 3.015625 \nQ 35.15625 -1.421875 24.609375 -1.421875 \nQ 20.21875 -1.421875 15.453125 -0.5625 \nQ 10.6875 0.296875 5.421875 2 \nL 5.421875 11.28125 \nQ 10.40625 8.6875 15.234375 7.390625 \nQ 20.0625 6.109375 24.8125 6.109375 \nQ 31.15625 6.109375 34.5625 8.28125 \nQ 37.984375 10.453125 37.984375 14.40625 \nQ 37.984375 18.0625 35.515625 20.015625 \nQ 33.0625 21.96875 24.703125 23.78125 \nL 21.578125 24.515625 \nQ 13.234375 26.265625 9.515625 29.90625 \nQ 5.8125 33.546875 5.8125 39.890625 \nQ 5.8125 47.609375 11.28125 51.796875 \nQ 16.75 56 26.8125 56 \nQ 31.78125 56 36.171875 55.265625 \nQ 40.578125 54.546875 44.28125 53.078125 \nz\n\" id=\"DejaVuSans-115\"/>\n       </defs>\n       <use xlink:href=\"#DejaVuSans-73\"/>\n       <use x=\"29.492188\" xlink:href=\"#DejaVuSans-110\"/>\n       <use x=\"92.871094\" xlink:href=\"#DejaVuSans-103\"/>\n       <use x=\"156.347656\" xlink:href=\"#DejaVuSans-46\"/>\n       <use x=\"188.134766\" xlink:href=\"#DejaVuSans-32\"/>\n       <use x=\"219.921875\" xlink:href=\"#DejaVuSans-73\"/>\n       <use x=\"249.414062\" xlink:href=\"#DejaVuSans-110\"/>\n       <use x=\"312.792969\" xlink:href=\"#DejaVuSans-100\"/>\n       <use x=\"376.269531\" xlink:href=\"#DejaVuSans-117\"/>\n       <use x=\"439.648438\" xlink:href=\"#DejaVuSans-115\"/>\n       <use x=\"491.748047\" xlink:href=\"#DejaVuSans-116\"/>\n       <use x=\"530.957031\" xlink:href=\"#DejaVuSans-114\"/>\n       <use x=\"572.070312\" xlink:href=\"#DejaVuSans-105\"/>\n       <use x=\"599.853516\" xlink:href=\"#DejaVuSans-97\"/>\n       <use x=\"661.132812\" xlink:href=\"#DejaVuSans-108\"/>\n      </g>\n     </g>\n    </g>\n    <g id=\"xtick_4\">\n     <g id=\"line2d_4\">\n      <g>\n       <use style=\"stroke:#000000;stroke-width:0.8;\" x=\"237.419495\" xlink:href=\"#md94d1f634f\" y=\"239.9625\"/>\n      </g>\n     </g>\n     <g id=\"text_4\">\n      <!-- Ing. Mecanica -->\n      <g transform=\"translate(202.848401 254.560937)scale(0.1 -0.1)\">\n       <defs>\n        <path d=\"M 9.8125 72.90625 \nL 24.515625 72.90625 \nL 43.109375 23.296875 \nL 61.8125 72.90625 \nL 76.515625 72.90625 \nL 76.515625 0 \nL 66.890625 0 \nL 66.890625 64.015625 \nL 48.09375 14.015625 \nL 38.1875 14.015625 \nL 19.390625 64.015625 \nL 19.390625 0 \nL 9.8125 0 \nz\n\" id=\"DejaVuSans-77\"/>\n       </defs>\n       <use xlink:href=\"#DejaVuSans-73\"/>\n       <use x=\"29.492188\" xlink:href=\"#DejaVuSans-110\"/>\n       <use x=\"92.871094\" xlink:href=\"#DejaVuSans-103\"/>\n       <use x=\"156.347656\" xlink:href=\"#DejaVuSans-46\"/>\n       <use x=\"188.134766\" xlink:href=\"#DejaVuSans-32\"/>\n       <use x=\"219.921875\" xlink:href=\"#DejaVuSans-77\"/>\n       <use x=\"306.201172\" xlink:href=\"#DejaVuSans-101\"/>\n       <use x=\"367.724609\" xlink:href=\"#DejaVuSans-99\"/>\n       <use x=\"422.705078\" xlink:href=\"#DejaVuSans-97\"/>\n       <use x=\"483.984375\" xlink:href=\"#DejaVuSans-110\"/>\n       <use x=\"547.363281\" xlink:href=\"#DejaVuSans-105\"/>\n       <use x=\"575.146484\" xlink:href=\"#DejaVuSans-99\"/>\n       <use x=\"630.126953\" xlink:href=\"#DejaVuSans-97\"/>\n      </g>\n     </g>\n    </g>\n    <g id=\"xtick_5\">\n     <g id=\"line2d_5\">\n      <g>\n       <use style=\"stroke:#000000;stroke-width:0.8;\" x=\"289.895984\" xlink:href=\"#md94d1f634f\" y=\"239.9625\"/>\n      </g>\n     </g>\n     <g id=\"text_5\">\n      <!-- Ing. Sistemas -->\n      <g transform=\"translate(256.15614 254.560937)scale(0.1 -0.1)\">\n       <defs>\n        <path d=\"M 53.515625 70.515625 \nL 53.515625 60.890625 \nQ 47.90625 63.578125 42.921875 64.890625 \nQ 37.9375 66.21875 33.296875 66.21875 \nQ 25.25 66.21875 20.875 63.09375 \nQ 16.5 59.96875 16.5 54.203125 \nQ 16.5 49.359375 19.40625 46.890625 \nQ 22.3125 44.4375 30.421875 42.921875 \nL 36.375 41.703125 \nQ 47.40625 39.59375 52.65625 34.296875 \nQ 57.90625 29 57.90625 20.125 \nQ 57.90625 9.515625 50.796875 4.046875 \nQ 43.703125 -1.421875 29.984375 -1.421875 \nQ 24.8125 -1.421875 18.96875 -0.25 \nQ 13.140625 0.921875 6.890625 3.21875 \nL 6.890625 13.375 \nQ 12.890625 10.015625 18.65625 8.296875 \nQ 24.421875 6.59375 29.984375 6.59375 \nQ 38.421875 6.59375 43.015625 9.90625 \nQ 47.609375 13.234375 47.609375 19.390625 \nQ 47.609375 24.75 44.3125 27.78125 \nQ 41.015625 30.8125 33.5 32.328125 \nL 27.484375 33.5 \nQ 16.453125 35.6875 11.515625 40.375 \nQ 6.59375 45.0625 6.59375 53.421875 \nQ 6.59375 63.09375 13.40625 68.65625 \nQ 20.21875 74.21875 32.171875 74.21875 \nQ 37.3125 74.21875 42.625 73.28125 \nQ 47.953125 72.359375 53.515625 70.515625 \nz\n\" id=\"DejaVuSans-83\"/>\n        <path d=\"M 52 44.1875 \nQ 55.375 50.25 60.0625 53.125 \nQ 64.75 56 71.09375 56 \nQ 79.640625 56 84.28125 50.015625 \nQ 88.921875 44.046875 88.921875 33.015625 \nL 88.921875 0 \nL 79.890625 0 \nL 79.890625 32.71875 \nQ 79.890625 40.578125 77.09375 44.375 \nQ 74.3125 48.1875 68.609375 48.1875 \nQ 61.625 48.1875 57.5625 43.546875 \nQ 53.515625 38.921875 53.515625 30.90625 \nL 53.515625 0 \nL 44.484375 0 \nL 44.484375 32.71875 \nQ 44.484375 40.625 41.703125 44.40625 \nQ 38.921875 48.1875 33.109375 48.1875 \nQ 26.21875 48.1875 22.15625 43.53125 \nQ 18.109375 38.875 18.109375 30.90625 \nL 18.109375 0 \nL 9.078125 0 \nL 9.078125 54.6875 \nL 18.109375 54.6875 \nL 18.109375 46.1875 \nQ 21.1875 51.21875 25.484375 53.609375 \nQ 29.78125 56 35.6875 56 \nQ 41.65625 56 45.828125 52.96875 \nQ 50 49.953125 52 44.1875 \nz\n\" id=\"DejaVuSans-109\"/>\n       </defs>\n       <use xlink:href=\"#DejaVuSans-73\"/>\n       <use x=\"29.492188\" xlink:href=\"#DejaVuSans-110\"/>\n       <use x=\"92.871094\" xlink:href=\"#DejaVuSans-103\"/>\n       <use x=\"156.347656\" xlink:href=\"#DejaVuSans-46\"/>\n       <use x=\"188.134766\" xlink:href=\"#DejaVuSans-32\"/>\n       <use x=\"219.921875\" xlink:href=\"#DejaVuSans-83\"/>\n       <use x=\"283.398438\" xlink:href=\"#DejaVuSans-105\"/>\n       <use x=\"311.181641\" xlink:href=\"#DejaVuSans-115\"/>\n       <use x=\"363.28125\" xlink:href=\"#DejaVuSans-116\"/>\n       <use x=\"402.490234\" xlink:href=\"#DejaVuSans-101\"/>\n       <use x=\"464.013672\" xlink:href=\"#DejaVuSans-109\"/>\n       <use x=\"561.425781\" xlink:href=\"#DejaVuSans-97\"/>\n       <use x=\"622.705078\" xlink:href=\"#DejaVuSans-115\"/>\n      </g>\n     </g>\n    </g>\n    <g id=\"xtick_6\">\n     <g id=\"line2d_6\">\n      <g>\n       <use style=\"stroke:#000000;stroke-width:0.8;\" x=\"342.372473\" xlink:href=\"#md94d1f634f\" y=\"239.9625\"/>\n      </g>\n     </g>\n     <g id=\"text_6\">\n      <!-- Transferencia -->\n      <g transform=\"translate(308.935754 254.560937)scale(0.1 -0.1)\">\n       <defs>\n        <path d=\"M -0.296875 72.90625 \nL 61.375 72.90625 \nL 61.375 64.59375 \nL 35.5 64.59375 \nL 35.5 0 \nL 25.59375 0 \nL 25.59375 64.59375 \nL -0.296875 64.59375 \nz\n\" id=\"DejaVuSans-84\"/>\n        <path d=\"M 37.109375 75.984375 \nL 37.109375 68.5 \nL 28.515625 68.5 \nQ 23.6875 68.5 21.796875 66.546875 \nQ 19.921875 64.59375 19.921875 59.515625 \nL 19.921875 54.6875 \nL 34.71875 54.6875 \nL 34.71875 47.703125 \nL 19.921875 47.703125 \nL 19.921875 0 \nL 10.890625 0 \nL 10.890625 47.703125 \nL 2.296875 47.703125 \nL 2.296875 54.6875 \nL 10.890625 54.6875 \nL 10.890625 58.5 \nQ 10.890625 67.625 15.140625 71.796875 \nQ 19.390625 75.984375 28.609375 75.984375 \nz\n\" id=\"DejaVuSans-102\"/>\n       </defs>\n       <use xlink:href=\"#DejaVuSans-84\"/>\n       <use x=\"46.333984\" xlink:href=\"#DejaVuSans-114\"/>\n       <use x=\"87.447266\" xlink:href=\"#DejaVuSans-97\"/>\n       <use x=\"148.726562\" xlink:href=\"#DejaVuSans-110\"/>\n       <use x=\"212.105469\" xlink:href=\"#DejaVuSans-115\"/>\n       <use x=\"264.205078\" xlink:href=\"#DejaVuSans-102\"/>\n       <use x=\"299.410156\" xlink:href=\"#DejaVuSans-101\"/>\n       <use x=\"360.933594\" xlink:href=\"#DejaVuSans-114\"/>\n       <use x=\"399.796875\" xlink:href=\"#DejaVuSans-101\"/>\n       <use x=\"461.320312\" xlink:href=\"#DejaVuSans-110\"/>\n       <use x=\"524.699219\" xlink:href=\"#DejaVuSans-99\"/>\n       <use x=\"579.679688\" xlink:href=\"#DejaVuSans-105\"/>\n       <use x=\"607.462891\" xlink:href=\"#DejaVuSans-97\"/>\n      </g>\n     </g>\n    </g>\n    <g id=\"text_7\">\n     <!-- Programa Academico -->\n     <g transform=\"translate(157.969531 268.239062)scale(0.1 -0.1)\">\n      <defs>\n       <path d=\"M 19.671875 64.796875 \nL 19.671875 37.40625 \nL 32.078125 37.40625 \nQ 38.96875 37.40625 42.71875 40.96875 \nQ 46.484375 44.53125 46.484375 51.125 \nQ 46.484375 57.671875 42.71875 61.234375 \nQ 38.96875 64.796875 32.078125 64.796875 \nz\nM 9.8125 72.90625 \nL 32.078125 72.90625 \nQ 44.34375 72.90625 50.609375 67.359375 \nQ 56.890625 61.8125 56.890625 51.125 \nQ 56.890625 40.328125 50.609375 34.8125 \nQ 44.34375 29.296875 32.078125 29.296875 \nL 19.671875 29.296875 \nL 19.671875 0 \nL 9.8125 0 \nz\n\" id=\"DejaVuSans-80\"/>\n       <path d=\"M 34.1875 63.1875 \nL 20.796875 26.90625 \nL 47.609375 26.90625 \nz\nM 28.609375 72.90625 \nL 39.796875 72.90625 \nL 67.578125 0 \nL 57.328125 0 \nL 50.6875 18.703125 \nL 17.828125 18.703125 \nL 11.1875 0 \nL 0.78125 0 \nz\n\" id=\"DejaVuSans-65\"/>\n      </defs>\n      <use xlink:href=\"#DejaVuSans-80\"/>\n      <use x=\"58.552734\" xlink:href=\"#DejaVuSans-114\"/>\n      <use x=\"97.416016\" xlink:href=\"#DejaVuSans-111\"/>\n      <use x=\"158.597656\" xlink:href=\"#DejaVuSans-103\"/>\n      <use x=\"222.074219\" xlink:href=\"#DejaVuSans-114\"/>\n      <use x=\"263.1875\" xlink:href=\"#DejaVuSans-97\"/>\n      <use x=\"324.466797\" xlink:href=\"#DejaVuSans-109\"/>\n      <use x=\"421.878906\" xlink:href=\"#DejaVuSans-97\"/>\n      <use x=\"483.158203\" xlink:href=\"#DejaVuSans-32\"/>\n      <use x=\"514.945312\" xlink:href=\"#DejaVuSans-65\"/>\n      <use x=\"581.603516\" xlink:href=\"#DejaVuSans-99\"/>\n      <use x=\"636.583984\" xlink:href=\"#DejaVuSans-97\"/>\n      <use x=\"697.863281\" xlink:href=\"#DejaVuSans-100\"/>\n      <use x=\"761.339844\" xlink:href=\"#DejaVuSans-101\"/>\n      <use x=\"822.863281\" xlink:href=\"#DejaVuSans-109\"/>\n      <use x=\"920.275391\" xlink:href=\"#DejaVuSans-105\"/>\n      <use x=\"948.058594\" xlink:href=\"#DejaVuSans-99\"/>\n      <use x=\"1003.039062\" xlink:href=\"#DejaVuSans-111\"/>\n     </g>\n    </g>\n   </g>\n   <g id=\"matplotlib.axis_2\">\n    <g id=\"ytick_1\">\n     <g id=\"line2d_7\">\n      <defs>\n       <path d=\"M 0 0 \nL -3.5 0 \n\" id=\"mf9584c9924\" style=\"stroke:#000000;stroke-width:0.8;\"/>\n      </defs>\n      <g>\n       <use style=\"stroke:#000000;stroke-width:0.8;\" x=\"43.78125\" xlink:href=\"#mf9584c9924\" y=\"239.9625\"/>\n      </g>\n     </g>\n     <g id=\"text_8\">\n      <!-- 0.0 -->\n      <g transform=\"translate(20.878125 243.761719)scale(0.1 -0.1)\">\n       <defs>\n        <path d=\"M 31.78125 66.40625 \nQ 24.171875 66.40625 20.328125 58.90625 \nQ 16.5 51.421875 16.5 36.375 \nQ 16.5 21.390625 20.328125 13.890625 \nQ 24.171875 6.390625 31.78125 6.390625 \nQ 39.453125 6.390625 43.28125 13.890625 \nQ 47.125 21.390625 47.125 36.375 \nQ 47.125 51.421875 43.28125 58.90625 \nQ 39.453125 66.40625 31.78125 66.40625 \nz\nM 31.78125 74.21875 \nQ 44.046875 74.21875 50.515625 64.515625 \nQ 56.984375 54.828125 56.984375 36.375 \nQ 56.984375 17.96875 50.515625 8.265625 \nQ 44.046875 -1.421875 31.78125 -1.421875 \nQ 19.53125 -1.421875 13.0625 8.265625 \nQ 6.59375 17.96875 6.59375 36.375 \nQ 6.59375 54.828125 13.0625 64.515625 \nQ 19.53125 74.21875 31.78125 74.21875 \nz\n\" id=\"DejaVuSans-48\"/>\n       </defs>\n       <use xlink:href=\"#DejaVuSans-48\"/>\n       <use x=\"63.623047\" xlink:href=\"#DejaVuSans-46\"/>\n       <use x=\"95.410156\" xlink:href=\"#DejaVuSans-48\"/>\n      </g>\n     </g>\n    </g>\n    <g id=\"ytick_2\">\n     <g id=\"line2d_8\">\n      <g>\n       <use style=\"stroke:#000000;stroke-width:0.8;\" x=\"43.78125\" xlink:href=\"#mf9584c9924\" y=\"209.389593\"/>\n      </g>\n     </g>\n     <g id=\"text_9\">\n      <!-- 0.5 -->\n      <g transform=\"translate(20.878125 213.188812)scale(0.1 -0.1)\">\n       <defs>\n        <path d=\"M 10.796875 72.90625 \nL 49.515625 72.90625 \nL 49.515625 64.59375 \nL 19.828125 64.59375 \nL 19.828125 46.734375 \nQ 21.96875 47.46875 24.109375 47.828125 \nQ 26.265625 48.1875 28.421875 48.1875 \nQ 40.625 48.1875 47.75 41.5 \nQ 54.890625 34.8125 54.890625 23.390625 \nQ 54.890625 11.625 47.5625 5.09375 \nQ 40.234375 -1.421875 26.90625 -1.421875 \nQ 22.3125 -1.421875 17.546875 -0.640625 \nQ 12.796875 0.140625 7.71875 1.703125 \nL 7.71875 11.625 \nQ 12.109375 9.234375 16.796875 8.0625 \nQ 21.484375 6.890625 26.703125 6.890625 \nQ 35.15625 6.890625 40.078125 11.328125 \nQ 45.015625 15.765625 45.015625 23.390625 \nQ 45.015625 31 40.078125 35.4375 \nQ 35.15625 39.890625 26.703125 39.890625 \nQ 22.75 39.890625 18.8125 39.015625 \nQ 14.890625 38.140625 10.796875 36.28125 \nz\n\" id=\"DejaVuSans-53\"/>\n       </defs>\n       <use xlink:href=\"#DejaVuSans-48\"/>\n       <use x=\"63.623047\" xlink:href=\"#DejaVuSans-46\"/>\n       <use x=\"95.410156\" xlink:href=\"#DejaVuSans-53\"/>\n      </g>\n     </g>\n    </g>\n    <g id=\"ytick_3\">\n     <g id=\"line2d_9\">\n      <g>\n       <use style=\"stroke:#000000;stroke-width:0.8;\" x=\"43.78125\" xlink:href=\"#mf9584c9924\" y=\"178.816687\"/>\n      </g>\n     </g>\n     <g id=\"text_10\">\n      <!-- 1.0 -->\n      <g transform=\"translate(20.878125 182.615905)scale(0.1 -0.1)\">\n       <defs>\n        <path d=\"M 12.40625 8.296875 \nL 28.515625 8.296875 \nL 28.515625 63.921875 \nL 10.984375 60.40625 \nL 10.984375 69.390625 \nL 28.421875 72.90625 \nL 38.28125 72.90625 \nL 38.28125 8.296875 \nL 54.390625 8.296875 \nL 54.390625 0 \nL 12.40625 0 \nz\n\" id=\"DejaVuSans-49\"/>\n       </defs>\n       <use xlink:href=\"#DejaVuSans-49\"/>\n       <use x=\"63.623047\" xlink:href=\"#DejaVuSans-46\"/>\n       <use x=\"95.410156\" xlink:href=\"#DejaVuSans-48\"/>\n      </g>\n     </g>\n    </g>\n    <g id=\"ytick_4\">\n     <g id=\"line2d_10\">\n      <g>\n       <use style=\"stroke:#000000;stroke-width:0.8;\" x=\"43.78125\" xlink:href=\"#mf9584c9924\" y=\"148.24378\"/>\n      </g>\n     </g>\n     <g id=\"text_11\">\n      <!-- 1.5 -->\n      <g transform=\"translate(20.878125 152.042999)scale(0.1 -0.1)\">\n       <use xlink:href=\"#DejaVuSans-49\"/>\n       <use x=\"63.623047\" xlink:href=\"#DejaVuSans-46\"/>\n       <use x=\"95.410156\" xlink:href=\"#DejaVuSans-53\"/>\n      </g>\n     </g>\n    </g>\n    <g id=\"ytick_5\">\n     <g id=\"line2d_11\">\n      <g>\n       <use style=\"stroke:#000000;stroke-width:0.8;\" x=\"43.78125\" xlink:href=\"#mf9584c9924\" y=\"117.670873\"/>\n      </g>\n     </g>\n     <g id=\"text_12\">\n      <!-- 2.0 -->\n      <g transform=\"translate(20.878125 121.470092)scale(0.1 -0.1)\">\n       <defs>\n        <path d=\"M 19.1875 8.296875 \nL 53.609375 8.296875 \nL 53.609375 0 \nL 7.328125 0 \nL 7.328125 8.296875 \nQ 12.9375 14.109375 22.625 23.890625 \nQ 32.328125 33.6875 34.8125 36.53125 \nQ 39.546875 41.84375 41.421875 45.53125 \nQ 43.3125 49.21875 43.3125 52.78125 \nQ 43.3125 58.59375 39.234375 62.25 \nQ 35.15625 65.921875 28.609375 65.921875 \nQ 23.96875 65.921875 18.8125 64.3125 \nQ 13.671875 62.703125 7.8125 59.421875 \nL 7.8125 69.390625 \nQ 13.765625 71.78125 18.9375 73 \nQ 24.125 74.21875 28.421875 74.21875 \nQ 39.75 74.21875 46.484375 68.546875 \nQ 53.21875 62.890625 53.21875 53.421875 \nQ 53.21875 48.921875 51.53125 44.890625 \nQ 49.859375 40.875 45.40625 35.40625 \nQ 44.1875 33.984375 37.640625 27.21875 \nQ 31.109375 20.453125 19.1875 8.296875 \nz\n\" id=\"DejaVuSans-50\"/>\n       </defs>\n       <use xlink:href=\"#DejaVuSans-50\"/>\n       <use x=\"63.623047\" xlink:href=\"#DejaVuSans-46\"/>\n       <use x=\"95.410156\" xlink:href=\"#DejaVuSans-48\"/>\n      </g>\n     </g>\n    </g>\n    <g id=\"ytick_6\">\n     <g id=\"line2d_12\">\n      <g>\n       <use style=\"stroke:#000000;stroke-width:0.8;\" x=\"43.78125\" xlink:href=\"#mf9584c9924\" y=\"87.097966\"/>\n      </g>\n     </g>\n     <g id=\"text_13\">\n      <!-- 2.5 -->\n      <g transform=\"translate(20.878125 90.897185)scale(0.1 -0.1)\">\n       <use xlink:href=\"#DejaVuSans-50\"/>\n       <use x=\"63.623047\" xlink:href=\"#DejaVuSans-46\"/>\n       <use x=\"95.410156\" xlink:href=\"#DejaVuSans-53\"/>\n      </g>\n     </g>\n    </g>\n    <g id=\"ytick_7\">\n     <g id=\"line2d_13\">\n      <g>\n       <use style=\"stroke:#000000;stroke-width:0.8;\" x=\"43.78125\" xlink:href=\"#mf9584c9924\" y=\"56.52506\"/>\n      </g>\n     </g>\n     <g id=\"text_14\">\n      <!-- 3.0 -->\n      <g transform=\"translate(20.878125 60.324278)scale(0.1 -0.1)\">\n       <defs>\n        <path d=\"M 40.578125 39.3125 \nQ 47.65625 37.796875 51.625 33 \nQ 55.609375 28.21875 55.609375 21.1875 \nQ 55.609375 10.40625 48.1875 4.484375 \nQ 40.765625 -1.421875 27.09375 -1.421875 \nQ 22.515625 -1.421875 17.65625 -0.515625 \nQ 12.796875 0.390625 7.625 2.203125 \nL 7.625 11.71875 \nQ 11.71875 9.328125 16.59375 8.109375 \nQ 21.484375 6.890625 26.8125 6.890625 \nQ 36.078125 6.890625 40.9375 10.546875 \nQ 45.796875 14.203125 45.796875 21.1875 \nQ 45.796875 27.640625 41.28125 31.265625 \nQ 36.765625 34.90625 28.71875 34.90625 \nL 20.21875 34.90625 \nL 20.21875 43.015625 \nL 29.109375 43.015625 \nQ 36.375 43.015625 40.234375 45.921875 \nQ 44.09375 48.828125 44.09375 54.296875 \nQ 44.09375 59.90625 40.109375 62.90625 \nQ 36.140625 65.921875 28.71875 65.921875 \nQ 24.65625 65.921875 20.015625 65.03125 \nQ 15.375 64.15625 9.8125 62.3125 \nL 9.8125 71.09375 \nQ 15.4375 72.65625 20.34375 73.4375 \nQ 25.25 74.21875 29.59375 74.21875 \nQ 40.828125 74.21875 47.359375 69.109375 \nQ 53.90625 64.015625 53.90625 55.328125 \nQ 53.90625 49.265625 50.4375 45.09375 \nQ 46.96875 40.921875 40.578125 39.3125 \nz\n\" id=\"DejaVuSans-51\"/>\n       </defs>\n       <use xlink:href=\"#DejaVuSans-51\"/>\n       <use x=\"63.623047\" xlink:href=\"#DejaVuSans-46\"/>\n       <use x=\"95.410156\" xlink:href=\"#DejaVuSans-48\"/>\n      </g>\n     </g>\n    </g>\n    <g id=\"ytick_8\">\n     <g id=\"line2d_14\">\n      <g>\n       <use style=\"stroke:#000000;stroke-width:0.8;\" x=\"43.78125\" xlink:href=\"#mf9584c9924\" y=\"25.952153\"/>\n      </g>\n     </g>\n     <g id=\"text_15\">\n      <!-- 3.5 -->\n      <g transform=\"translate(20.878125 29.751372)scale(0.1 -0.1)\">\n       <use xlink:href=\"#DejaVuSans-51\"/>\n       <use x=\"63.623047\" xlink:href=\"#DejaVuSans-46\"/>\n       <use x=\"95.410156\" xlink:href=\"#DejaVuSans-53\"/>\n      </g>\n     </g>\n    </g>\n    <g id=\"text_16\">\n     <!-- Nota -->\n     <g transform=\"translate(14.798438 143.066719)rotate(-90)scale(0.1 -0.1)\">\n      <defs>\n       <path d=\"M 9.8125 72.90625 \nL 23.09375 72.90625 \nL 55.421875 11.921875 \nL 55.421875 72.90625 \nL 64.984375 72.90625 \nL 64.984375 0 \nL 51.703125 0 \nL 19.390625 60.984375 \nL 19.390625 0 \nL 9.8125 0 \nz\n\" id=\"DejaVuSans-78\"/>\n      </defs>\n      <use xlink:href=\"#DejaVuSans-78\"/>\n      <use x=\"74.804688\" xlink:href=\"#DejaVuSans-111\"/>\n      <use x=\"135.986328\" xlink:href=\"#DejaVuSans-116\"/>\n      <use x=\"175.195312\" xlink:href=\"#DejaVuSans-97\"/>\n     </g>\n    </g>\n   </g>\n   <g id=\"patch_9\">\n    <path d=\"M 43.78125 239.9625 \nL 43.78125 22.5225 \n\" style=\"fill:none;stroke:#000000;stroke-linecap:square;stroke-linejoin:miter;stroke-width:0.8;\"/>\n   </g>\n   <g id=\"patch_10\">\n    <path d=\"M 378.58125 239.9625 \nL 378.58125 22.5225 \n\" style=\"fill:none;stroke:#000000;stroke-linecap:square;stroke-linejoin:miter;stroke-width:0.8;\"/>\n   </g>\n   <g id=\"patch_11\">\n    <path d=\"M 43.78125 239.9625 \nL 378.58125 239.9625 \n\" style=\"fill:none;stroke:#000000;stroke-linecap:square;stroke-linejoin:miter;stroke-width:0.8;\"/>\n   </g>\n   <g id=\"patch_12\">\n    <path d=\"M 43.78125 22.5225 \nL 378.58125 22.5225 \n\" style=\"fill:none;stroke:#000000;stroke-linecap:square;stroke-linejoin:miter;stroke-width:0.8;\"/>\n   </g>\n   <g id=\"text_17\">\n    <!-- Promedio Ponderado por Programa del año: 2015 -->\n    <g transform=\"translate(62.99625 16.5225)scale(0.12 -0.12)\">\n     <defs>\n      <path d=\"M 18.109375 8.203125 \nL 18.109375 -20.796875 \nL 9.078125 -20.796875 \nL 9.078125 54.6875 \nL 18.109375 54.6875 \nL 18.109375 46.390625 \nQ 20.953125 51.265625 25.265625 53.625 \nQ 29.59375 56 35.59375 56 \nQ 45.5625 56 51.78125 48.09375 \nQ 58.015625 40.1875 58.015625 27.296875 \nQ 58.015625 14.40625 51.78125 6.484375 \nQ 45.5625 -1.421875 35.59375 -1.421875 \nQ 29.59375 -1.421875 25.265625 0.953125 \nQ 20.953125 3.328125 18.109375 8.203125 \nz\nM 48.6875 27.296875 \nQ 48.6875 37.203125 44.609375 42.84375 \nQ 40.53125 48.484375 33.40625 48.484375 \nQ 26.265625 48.484375 22.1875 42.84375 \nQ 18.109375 37.203125 18.109375 27.296875 \nQ 18.109375 17.390625 22.1875 11.75 \nQ 26.265625 6.109375 33.40625 6.109375 \nQ 40.53125 6.109375 44.609375 11.75 \nQ 48.6875 17.390625 48.6875 27.296875 \nz\n\" id=\"DejaVuSans-112\"/>\n      <path d=\"M 54.890625 33.015625 \nL 54.890625 0 \nL 45.90625 0 \nL 45.90625 32.71875 \nQ 45.90625 40.484375 42.875 44.328125 \nQ 39.84375 48.1875 33.796875 48.1875 \nQ 26.515625 48.1875 22.3125 43.546875 \nQ 18.109375 38.921875 18.109375 30.90625 \nL 18.109375 0 \nL 9.078125 0 \nL 9.078125 54.6875 \nL 18.109375 54.6875 \nL 18.109375 46.1875 \nQ 21.34375 51.125 25.703125 53.5625 \nQ 30.078125 56 35.796875 56 \nQ 45.21875 56 50.046875 50.171875 \nQ 54.890625 44.34375 54.890625 33.015625 \nz\nM 32.234375 66.890625 \nL 29.4375 69.578125 \nQ 28.375 70.5625 27.5625 71.015625 \nQ 26.765625 71.484375 26.125 71.484375 \nQ 24.265625 71.484375 23.390625 69.703125 \nQ 22.515625 67.921875 22.40625 63.921875 \nL 16.3125 63.921875 \nQ 16.40625 70.515625 18.890625 74.09375 \nQ 21.390625 77.6875 25.828125 77.6875 \nQ 27.6875 77.6875 29.25 77 \nQ 30.8125 76.3125 32.625 74.703125 \nL 35.40625 72.015625 \nQ 36.46875 71.046875 37.28125 70.578125 \nQ 38.09375 70.125 38.71875 70.125 \nQ 40.578125 70.125 41.453125 71.90625 \nQ 42.328125 73.6875 42.4375 77.6875 \nL 48.53125 77.6875 \nQ 48.4375 71.09375 45.9375 67.5 \nQ 43.453125 63.921875 39.015625 63.921875 \nQ 37.15625 63.921875 35.59375 64.59375 \nQ 34.03125 65.28125 32.234375 66.890625 \nz\n\" id=\"DejaVuSans-241\"/>\n      <path d=\"M 11.71875 12.40625 \nL 22.015625 12.40625 \nL 22.015625 0 \nL 11.71875 0 \nz\nM 11.71875 51.703125 \nL 22.015625 51.703125 \nL 22.015625 39.3125 \nL 11.71875 39.3125 \nz\n\" id=\"DejaVuSans-58\"/>\n     </defs>\n     <use xlink:href=\"#DejaVuSans-80\"/>\n     <use x=\"58.552734\" xlink:href=\"#DejaVuSans-114\"/>\n     <use x=\"97.416016\" xlink:href=\"#DejaVuSans-111\"/>\n     <use x=\"158.597656\" xlink:href=\"#DejaVuSans-109\"/>\n     <use x=\"256.009766\" xlink:href=\"#DejaVuSans-101\"/>\n     <use x=\"317.533203\" xlink:href=\"#DejaVuSans-100\"/>\n     <use x=\"381.009766\" xlink:href=\"#DejaVuSans-105\"/>\n     <use x=\"408.792969\" xlink:href=\"#DejaVuSans-111\"/>\n     <use x=\"469.974609\" xlink:href=\"#DejaVuSans-32\"/>\n     <use x=\"501.761719\" xlink:href=\"#DejaVuSans-80\"/>\n     <use x=\"558.439453\" xlink:href=\"#DejaVuSans-111\"/>\n     <use x=\"619.621094\" xlink:href=\"#DejaVuSans-110\"/>\n     <use x=\"683\" xlink:href=\"#DejaVuSans-100\"/>\n     <use x=\"746.476562\" xlink:href=\"#DejaVuSans-101\"/>\n     <use x=\"808\" xlink:href=\"#DejaVuSans-114\"/>\n     <use x=\"849.113281\" xlink:href=\"#DejaVuSans-97\"/>\n     <use x=\"910.392578\" xlink:href=\"#DejaVuSans-100\"/>\n     <use x=\"973.869141\" xlink:href=\"#DejaVuSans-111\"/>\n     <use x=\"1035.050781\" xlink:href=\"#DejaVuSans-32\"/>\n     <use x=\"1066.837891\" xlink:href=\"#DejaVuSans-112\"/>\n     <use x=\"1130.314453\" xlink:href=\"#DejaVuSans-111\"/>\n     <use x=\"1191.496094\" xlink:href=\"#DejaVuSans-114\"/>\n     <use x=\"1232.609375\" xlink:href=\"#DejaVuSans-32\"/>\n     <use x=\"1264.396484\" xlink:href=\"#DejaVuSans-80\"/>\n     <use x=\"1322.949219\" xlink:href=\"#DejaVuSans-114\"/>\n     <use x=\"1361.8125\" xlink:href=\"#DejaVuSans-111\"/>\n     <use x=\"1422.994141\" xlink:href=\"#DejaVuSans-103\"/>\n     <use x=\"1486.470703\" xlink:href=\"#DejaVuSans-114\"/>\n     <use x=\"1527.583984\" xlink:href=\"#DejaVuSans-97\"/>\n     <use x=\"1588.863281\" xlink:href=\"#DejaVuSans-109\"/>\n     <use x=\"1686.275391\" xlink:href=\"#DejaVuSans-97\"/>\n     <use x=\"1747.554688\" xlink:href=\"#DejaVuSans-32\"/>\n     <use x=\"1779.341797\" xlink:href=\"#DejaVuSans-100\"/>\n     <use x=\"1842.818359\" xlink:href=\"#DejaVuSans-101\"/>\n     <use x=\"1904.341797\" xlink:href=\"#DejaVuSans-108\"/>\n     <use x=\"1932.125\" xlink:href=\"#DejaVuSans-32\"/>\n     <use x=\"1963.912109\" xlink:href=\"#DejaVuSans-97\"/>\n     <use x=\"2025.191406\" xlink:href=\"#DejaVuSans-241\"/>\n     <use x=\"2088.570312\" xlink:href=\"#DejaVuSans-111\"/>\n     <use x=\"2149.751953\" xlink:href=\"#DejaVuSans-58\"/>\n     <use x=\"2183.443359\" xlink:href=\"#DejaVuSans-32\"/>\n     <use x=\"2215.230469\" xlink:href=\"#DejaVuSans-50\"/>\n     <use x=\"2278.853516\" xlink:href=\"#DejaVuSans-48\"/>\n     <use x=\"2342.476562\" xlink:href=\"#DejaVuSans-49\"/>\n     <use x=\"2406.099609\" xlink:href=\"#DejaVuSans-53\"/>\n    </g>\n   </g>\n  </g>\n </g>\n <defs>\n  <clipPath id=\"p7f1f9458b8\">\n   <rect height=\"217.44\" width=\"334.8\" x=\"43.78125\" y=\"22.5225\"/>\n  </clipPath>\n </defs>\n</svg>\n",
            "image/png": "[encoded data removed]"
          },
          "metadata": {
            "tags": [],
            "needs_background": "light"
          }
        }
      ]
    },
    {
      "cell_type": "code",
      "metadata": {
        "id": "EOTdhMckV7LK",
        "outputId": "261e01f3-44bb-4754-ade8-b2826de5b07e"
      },
      "source": [
        "queryAnalisisEstadistica = 'SELECT tbPrograma.Programa, sum(tbInformacion.definitiva)/count(tbPrograma.Programa) \"Promedio_Ponderado\" FROM tbInformacion, tbPrograma WHERE tbInformacion.codProgramaAcademico = tbPrograma.cod GROUP BY (tbPrograma.Programa)'\n",
        "\n",
        "dataAnalisisEstadistica = pd.read_sql_query(queryAnalisisEstadistica,connection)\n",
        "dataAnalisisEstadistica.head()"
      ],
      "execution_count": null,
      "outputs": [
        {
          "output_type": "execute_result",
          "data": {
            "text/plain": [
              "           Programa  Promedio_Ponderado\n",
              "0        Ing. Civil            3.158158\n",
              "1  Ing. Electronica            3.233857\n",
              "2   Ing. Industrial            3.227607\n",
              "3     Ing. Mecanica            3.108853\n",
              "4     Ing. Sistemas            3.324074"
            ],
            "text/html": [
              "<div>\n",
              "<style scoped>\n",
              "    .dataframe tbody tr th:only-of-type {\n",
              "        vertical-align: middle;\n",
              "    }\n",
              "\n",
              "    .dataframe tbody tr th {\n",
              "        vertical-align: top;\n",
              "    }\n",
              "\n",
              "    .dataframe thead th {\n",
              "        text-align: right;\n",
              "    }\n",
              "</style>\n",
              "<table border=\"1\" class=\"dataframe\">\n",
              "  <thead>\n",
              "    <tr style=\"text-align: right;\">\n",
              "      <th></th>\n",
              "      <th>Programa</th>\n",
              "      <th>Promedio_Ponderado</th>\n",
              "    </tr>\n",
              "  </thead>\n",
              "  <tbody>\n",
              "    <tr>\n",
              "      <th>0</th>\n",
              "      <td>Ing. Civil</td>\n",
              "      <td>3.158158</td>\n",
              "    </tr>\n",
              "    <tr>\n",
              "      <th>1</th>\n",
              "      <td>Ing. Electronica</td>\n",
              "      <td>3.233857</td>\n",
              "    </tr>\n",
              "    <tr>\n",
              "      <th>2</th>\n",
              "      <td>Ing. Industrial</td>\n",
              "      <td>3.227607</td>\n",
              "    </tr>\n",
              "    <tr>\n",
              "      <th>3</th>\n",
              "      <td>Ing. Mecanica</td>\n",
              "      <td>3.108853</td>\n",
              "    </tr>\n",
              "    <tr>\n",
              "      <th>4</th>\n",
              "      <td>Ing. Sistemas</td>\n",
              "      <td>3.324074</td>\n",
              "    </tr>\n",
              "  </tbody>\n",
              "</table>\n",
              "</div>"
            ]
          },
          "metadata": {
            "tags": []
          },
          "execution_count": 32
        }
      ]
    },
    {
      "cell_type": "code",
      "metadata": {
        "id": "GGj01DxeV7LL",
        "outputId": "37ca0fce-c8e9-4902-d7bd-140c8e23d6c9"
      },
      "source": [
        "############################# Datos Estadisticos\n",
        "\n",
        "mediana_notas = np.median(dataAnalisisEstadistica.Promedio_Ponderado)\n",
        "moda_notas = stats.mode(dataAnalisisEstadistica.Promedio_Ponderado)\n",
        "curtosis_notas = stats.kurtosis(dataAnalisisEstadistica.Promedio_Ponderado)\n",
        "nota_minima = np.min(dataAnalisisEstadistica.Promedio_Ponderado)\n",
        "nota_maxima = np.max(dataAnalisisEstadistica.Promedio_Ponderado)\n",
        "\n",
        "print('\\n','\\n')\n",
        "print(\"************************************************************\")\n",
        "print(\"************************************************************\",'\\n')\n",
        "print(\"Mediana notas: \",mediana_notas)\n",
        "print(\"Moda de notas: \",moda_notas)\n",
        "print(\"Curtosis notas: \",curtosis_notas)\n",
        "print(\"Minimo notas: \",nota_minima)\n",
        "print(\"Maximo notas: \",nota_maxima, '\\n')\n",
        "print(\"************************************************************\")\n",
        "print(\"************************************************************\")"
      ],
      "execution_count": null,
      "outputs": [
        {
          "output_type": "stream",
          "text": [
            "\n",
            " \n",
            "\n",
            "************************************************************\n",
            "************************************************************ \n",
            "\n",
            "Mediana notas:  3.2307318772097124\n",
            "Moda de notas:  ModeResult(mode=array([3.10885341]), count=array([1]))\n",
            "Curtosis notas:  -0.926019649155267\n",
            "Minimo notas:  3.108853410740203\n",
            "Maximo notas:  3.324074074074074 \n",
            "\n",
            "************************************************************\n",
            "************************************************************\n"
          ],
          "name": "stdout"
        }
      ]
    },
    {
      "cell_type": "code",
      "metadata": {
        "id": "y8J7pcY7V7LL",
        "outputId": "29e97aae-3dbb-425f-871d-9ad77f38b129"
      },
      "source": [
        "########################## Analisis Estadisticos Historico Asignaturas\n",
        "\n",
        "\n",
        "##### Consulta SQl\n",
        "queryHistoricoAsig = 'select nombre_asignatura, count(nombre_asignatura) as conteo from tbInformacion group by nombre_asignatura order by  conteo desc'\n",
        "\n",
        "########### Algoritmo Datos\n",
        "dataframeHistoricoAsg = pd.read_sql_query(queryHistoricoAsig, connection)\n",
        "\n",
        "dataframeHistoricoAsg.head()\n",
        " \n",
        "\n"
      ],
      "execution_count": null,
      "outputs": [
        {
          "output_type": "execute_result",
          "data": {
            "text/plain": [
              "                    nombre_asignatura  conteo\n",
              "0              FISICA Y MATEMATICAS I    1540\n",
              "1                      ALGEBRA LINEAL    1410\n",
              "2          FUNDAMENTOS DE MATEMATICAS    1291\n",
              "3             FISICA Y MATEMATICAS II    1150\n",
              "4  LECTURA Y ESCRITURA-UNIVERSIDAD II    1109"
            ],
            "text/html": [
              "<div>\n",
              "<style scoped>\n",
              "    .dataframe tbody tr th:only-of-type {\n",
              "        vertical-align: middle;\n",
              "    }\n",
              "\n",
              "    .dataframe tbody tr th {\n",
              "        vertical-align: top;\n",
              "    }\n",
              "\n",
              "    .dataframe thead th {\n",
              "        text-align: right;\n",
              "    }\n",
              "</style>\n",
              "<table border=\"1\" class=\"dataframe\">\n",
              "  <thead>\n",
              "    <tr style=\"text-align: right;\">\n",
              "      <th></th>\n",
              "      <th>nombre_asignatura</th>\n",
              "      <th>conteo</th>\n",
              "    </tr>\n",
              "  </thead>\n",
              "  <tbody>\n",
              "    <tr>\n",
              "      <th>0</th>\n",
              "      <td>FISICA Y MATEMATICAS I</td>\n",
              "      <td>1540</td>\n",
              "    </tr>\n",
              "    <tr>\n",
              "      <th>1</th>\n",
              "      <td>ALGEBRA LINEAL</td>\n",
              "      <td>1410</td>\n",
              "    </tr>\n",
              "    <tr>\n",
              "      <th>2</th>\n",
              "      <td>FUNDAMENTOS DE MATEMATICAS</td>\n",
              "      <td>1291</td>\n",
              "    </tr>\n",
              "    <tr>\n",
              "      <th>3</th>\n",
              "      <td>FISICA Y MATEMATICAS II</td>\n",
              "      <td>1150</td>\n",
              "    </tr>\n",
              "    <tr>\n",
              "      <th>4</th>\n",
              "      <td>LECTURA Y ESCRITURA-UNIVERSIDAD II</td>\n",
              "      <td>1109</td>\n",
              "    </tr>\n",
              "  </tbody>\n",
              "</table>\n",
              "</div>"
            ]
          },
          "metadata": {
            "tags": []
          },
          "execution_count": 60
        }
      ]
    },
    {
      "cell_type": "code",
      "metadata": {
        "id": "ZNVxws2uV7LM",
        "outputId": "f6181668-e4bf-422e-c1d8-2c466d441bc5"
      },
      "source": [
        "##### Consulta SQl\n",
        "\n",
        "nomAsigmasVista = dataframeHistoricoAsg.iat[1,0]\n",
        "vecesAsig = dataframeHistoricoAsg.iat[1,1]\n",
        "\n",
        "print('\\n','\\n')\n",
        "print(\"##########################################################################################\",'\\n')\n",
        "print(\"La asignatura mas cursada historicamente es: \", str(nomAsigmasVista), \" con\", str(vecesAsig), \" vista por los estudiantes\" )"
      ],
      "execution_count": null,
      "outputs": [
        {
          "output_type": "stream",
          "text": [
            "\n",
            " \n",
            "\n",
            "########################################################################################## \n",
            "\n",
            "La asignatura mas cursada historicamente es:  ALGEBRA LINEAL  con 1410  vista por los estudiantes\n"
          ],
          "name": "stdout"
        }
      ]
    },
    {
      "cell_type": "code",
      "metadata": {
        "id": "NDXuPS86V7LO",
        "outputId": "475487f9-9267-4900-b8da-b81736ba9237"
      },
      "source": [
        "##### Consulta SQl\n",
        "queryHistoricoAsigmenos = 'select nombre_asignatura, count(nombre_asignatura) as conteo from tbInformacion group by nombre_asignatura order by  conteo asc'\n",
        "\n",
        "########### Algoritmo Datos\n",
        "dataframeHistoricoAsgmenos = pd.read_sql_query(queryHistoricoAsigmenos, connection)\n",
        "\n",
        "\n",
        "\n",
        "nomAsigmenosVista = dataframeHistoricoAsgmenos.iat[1,0]\n",
        "vecesAsigmenos = dataframeHistoricoAsgmenos.iat[1,1]\n",
        "\n",
        "print('\\n','\\n')\n",
        "print(\"##########################################################################################\",'\\n')\n",
        "print(\"La asignatura menos cursada historicamente es: \", str(nomAsigmenosVista), \" con\", str(vecesAsigmenos), \" vista por los estudiantes\" )"
      ],
      "execution_count": null,
      "outputs": [
        {
          "output_type": "stream",
          "text": [
            "\n",
            " \n",
            "\n",
            "########################################################################################## \n",
            "\n",
            "La asignatura menos cursada historicamente es:  ANALISIS Y DISENO  con 1  vista por los estudiantes\n"
          ],
          "name": "stdout"
        }
      ]
    },
    {
      "cell_type": "code",
      "metadata": {
        "id": "P5Hb5Ql1V7LP"
      },
      "source": [
        "mediana_Asignatura = np.median(dataframeHistoricoAsg.conteo)\n",
        "moda_Asignatura = stats.mode(dataframeHistoricoAsg.conteo)\n",
        "curtosis_Asignatura = stats.kurtosis(dataframeHistoricoAsg.conteo)\n",
        "asignatura_minima = np.min(dataframeHistoricoAsg.conteo)\n",
        "asignatura_maxima = np.max(dataframeHistoricoAsg.conteo)\n",
        "\n",
        "print('\\n','\\n')\n",
        "print(\"************************************************************\")\n",
        "print(\"************************************************************\",'\\n')\n",
        "print(\"Mediana Asignatura: \",mediana_Asignatura)\n",
        "print(\"Moda de Asignaturas: \",moda_Asignatura)\n",
        "print(\"Curtosis Asignaturas: \",curtosis_Asignatura)\n",
        "print(\"Minimo Asignatura: \",asignatura_minima)\n",
        "print(\"Maximo Asignatura: \",asignatura_maxima, '\\n')\n",
        "print(\"************************************************************\")\n",
        "print(\"************************************************************\")"
      ],
      "execution_count": null,
      "outputs": []
    }
  ]
}